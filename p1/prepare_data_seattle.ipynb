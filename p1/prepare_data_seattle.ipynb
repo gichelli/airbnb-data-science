{
 "cells": [
  {
   "cell_type": "markdown",
   "id": "western-munich",
   "metadata": {},
   "source": [
    "### SEATTLE DATA\n",
    "\n",
    "Let's start by importing the libraries and reading the data. We are going to analyze this data in order to see what is the expected price for a unit for rent in Seattle: Apartment, 2 bathrooms, 2 bedrooms and great location."
   ]
  },
  {
   "cell_type": "code",
   "execution_count": 2,
   "id": "devoted-associate",
   "metadata": {},
   "outputs": [
    {
     "data": {
      "text/html": [
       "<div>\n",
       "<style scoped>\n",
       "    .dataframe tbody tr th:only-of-type {\n",
       "        vertical-align: middle;\n",
       "    }\n",
       "\n",
       "    .dataframe tbody tr th {\n",
       "        vertical-align: top;\n",
       "    }\n",
       "\n",
       "    .dataframe thead th {\n",
       "        text-align: right;\n",
       "    }\n",
       "</style>\n",
       "<table border=\"1\" class=\"dataframe\">\n",
       "  <thead>\n",
       "    <tr style=\"text-align: right;\">\n",
       "      <th></th>\n",
       "      <th>id</th>\n",
       "      <th>listing_url</th>\n",
       "      <th>scrape_id</th>\n",
       "      <th>last_scraped</th>\n",
       "      <th>name</th>\n",
       "      <th>summary</th>\n",
       "      <th>space</th>\n",
       "      <th>description</th>\n",
       "      <th>experiences_offered</th>\n",
       "      <th>neighborhood_overview</th>\n",
       "      <th>...</th>\n",
       "      <th>review_scores_value</th>\n",
       "      <th>requires_license</th>\n",
       "      <th>license</th>\n",
       "      <th>jurisdiction_names</th>\n",
       "      <th>instant_bookable</th>\n",
       "      <th>cancellation_policy</th>\n",
       "      <th>require_guest_profile_picture</th>\n",
       "      <th>require_guest_phone_verification</th>\n",
       "      <th>calculated_host_listings_count</th>\n",
       "      <th>reviews_per_month</th>\n",
       "    </tr>\n",
       "  </thead>\n",
       "  <tbody>\n",
       "    <tr>\n",
       "      <th>0</th>\n",
       "      <td>241032</td>\n",
       "      <td>https://www.airbnb.com/rooms/241032</td>\n",
       "      <td>20160104002432</td>\n",
       "      <td>2016-01-04</td>\n",
       "      <td>Stylish Queen Anne Apartment</td>\n",
       "      <td>NaN</td>\n",
       "      <td>Make your self at home in this charming one-be...</td>\n",
       "      <td>Make your self at home in this charming one-be...</td>\n",
       "      <td>none</td>\n",
       "      <td>NaN</td>\n",
       "      <td>...</td>\n",
       "      <td>10.0</td>\n",
       "      <td>f</td>\n",
       "      <td>NaN</td>\n",
       "      <td>WASHINGTON</td>\n",
       "      <td>f</td>\n",
       "      <td>moderate</td>\n",
       "      <td>f</td>\n",
       "      <td>f</td>\n",
       "      <td>2</td>\n",
       "      <td>4.07</td>\n",
       "    </tr>\n",
       "    <tr>\n",
       "      <th>1</th>\n",
       "      <td>953595</td>\n",
       "      <td>https://www.airbnb.com/rooms/953595</td>\n",
       "      <td>20160104002432</td>\n",
       "      <td>2016-01-04</td>\n",
       "      <td>Bright &amp; Airy Queen Anne Apartment</td>\n",
       "      <td>Chemically sensitive? We've removed the irrita...</td>\n",
       "      <td>Beautiful, hypoallergenic apartment in an extr...</td>\n",
       "      <td>Chemically sensitive? We've removed the irrita...</td>\n",
       "      <td>none</td>\n",
       "      <td>Queen Anne is a wonderful, truly functional vi...</td>\n",
       "      <td>...</td>\n",
       "      <td>10.0</td>\n",
       "      <td>f</td>\n",
       "      <td>NaN</td>\n",
       "      <td>WASHINGTON</td>\n",
       "      <td>f</td>\n",
       "      <td>strict</td>\n",
       "      <td>t</td>\n",
       "      <td>t</td>\n",
       "      <td>6</td>\n",
       "      <td>1.48</td>\n",
       "    </tr>\n",
       "    <tr>\n",
       "      <th>2</th>\n",
       "      <td>3308979</td>\n",
       "      <td>https://www.airbnb.com/rooms/3308979</td>\n",
       "      <td>20160104002432</td>\n",
       "      <td>2016-01-04</td>\n",
       "      <td>New Modern House-Amazing water view</td>\n",
       "      <td>New modern house built in 2013.  Spectacular s...</td>\n",
       "      <td>Our house is modern, light and fresh with a wa...</td>\n",
       "      <td>New modern house built in 2013.  Spectacular s...</td>\n",
       "      <td>none</td>\n",
       "      <td>Upper Queen Anne is a charming neighborhood fu...</td>\n",
       "      <td>...</td>\n",
       "      <td>10.0</td>\n",
       "      <td>f</td>\n",
       "      <td>NaN</td>\n",
       "      <td>WASHINGTON</td>\n",
       "      <td>f</td>\n",
       "      <td>strict</td>\n",
       "      <td>f</td>\n",
       "      <td>f</td>\n",
       "      <td>2</td>\n",
       "      <td>1.15</td>\n",
       "    </tr>\n",
       "    <tr>\n",
       "      <th>3</th>\n",
       "      <td>7421966</td>\n",
       "      <td>https://www.airbnb.com/rooms/7421966</td>\n",
       "      <td>20160104002432</td>\n",
       "      <td>2016-01-04</td>\n",
       "      <td>Queen Anne Chateau</td>\n",
       "      <td>A charming apartment that sits atop Queen Anne...</td>\n",
       "      <td>NaN</td>\n",
       "      <td>A charming apartment that sits atop Queen Anne...</td>\n",
       "      <td>none</td>\n",
       "      <td>NaN</td>\n",
       "      <td>...</td>\n",
       "      <td>NaN</td>\n",
       "      <td>f</td>\n",
       "      <td>NaN</td>\n",
       "      <td>WASHINGTON</td>\n",
       "      <td>f</td>\n",
       "      <td>flexible</td>\n",
       "      <td>f</td>\n",
       "      <td>f</td>\n",
       "      <td>1</td>\n",
       "      <td>NaN</td>\n",
       "    </tr>\n",
       "    <tr>\n",
       "      <th>4</th>\n",
       "      <td>278830</td>\n",
       "      <td>https://www.airbnb.com/rooms/278830</td>\n",
       "      <td>20160104002432</td>\n",
       "      <td>2016-01-04</td>\n",
       "      <td>Charming craftsman 3 bdm house</td>\n",
       "      <td>Cozy family craftman house in beautiful neighb...</td>\n",
       "      <td>Cozy family craftman house in beautiful neighb...</td>\n",
       "      <td>Cozy family craftman house in beautiful neighb...</td>\n",
       "      <td>none</td>\n",
       "      <td>We are in the beautiful neighborhood of Queen ...</td>\n",
       "      <td>...</td>\n",
       "      <td>9.0</td>\n",
       "      <td>f</td>\n",
       "      <td>NaN</td>\n",
       "      <td>WASHINGTON</td>\n",
       "      <td>f</td>\n",
       "      <td>strict</td>\n",
       "      <td>f</td>\n",
       "      <td>f</td>\n",
       "      <td>1</td>\n",
       "      <td>0.89</td>\n",
       "    </tr>\n",
       "  </tbody>\n",
       "</table>\n",
       "<p>5 rows × 92 columns</p>\n",
       "</div>"
      ],
      "text/plain": [
       "        id                           listing_url       scrape_id last_scraped  \\\n",
       "0   241032   https://www.airbnb.com/rooms/241032  20160104002432   2016-01-04   \n",
       "1   953595   https://www.airbnb.com/rooms/953595  20160104002432   2016-01-04   \n",
       "2  3308979  https://www.airbnb.com/rooms/3308979  20160104002432   2016-01-04   \n",
       "3  7421966  https://www.airbnb.com/rooms/7421966  20160104002432   2016-01-04   \n",
       "4   278830   https://www.airbnb.com/rooms/278830  20160104002432   2016-01-04   \n",
       "\n",
       "                                  name  \\\n",
       "0         Stylish Queen Anne Apartment   \n",
       "1   Bright & Airy Queen Anne Apartment   \n",
       "2  New Modern House-Amazing water view   \n",
       "3                   Queen Anne Chateau   \n",
       "4       Charming craftsman 3 bdm house   \n",
       "\n",
       "                                             summary  \\\n",
       "0                                                NaN   \n",
       "1  Chemically sensitive? We've removed the irrita...   \n",
       "2  New modern house built in 2013.  Spectacular s...   \n",
       "3  A charming apartment that sits atop Queen Anne...   \n",
       "4  Cozy family craftman house in beautiful neighb...   \n",
       "\n",
       "                                               space  \\\n",
       "0  Make your self at home in this charming one-be...   \n",
       "1  Beautiful, hypoallergenic apartment in an extr...   \n",
       "2  Our house is modern, light and fresh with a wa...   \n",
       "3                                                NaN   \n",
       "4  Cozy family craftman house in beautiful neighb...   \n",
       "\n",
       "                                         description experiences_offered  \\\n",
       "0  Make your self at home in this charming one-be...                none   \n",
       "1  Chemically sensitive? We've removed the irrita...                none   \n",
       "2  New modern house built in 2013.  Spectacular s...                none   \n",
       "3  A charming apartment that sits atop Queen Anne...                none   \n",
       "4  Cozy family craftman house in beautiful neighb...                none   \n",
       "\n",
       "                               neighborhood_overview  ... review_scores_value  \\\n",
       "0                                                NaN  ...                10.0   \n",
       "1  Queen Anne is a wonderful, truly functional vi...  ...                10.0   \n",
       "2  Upper Queen Anne is a charming neighborhood fu...  ...                10.0   \n",
       "3                                                NaN  ...                 NaN   \n",
       "4  We are in the beautiful neighborhood of Queen ...  ...                 9.0   \n",
       "\n",
       "  requires_license license jurisdiction_names instant_bookable  \\\n",
       "0                f     NaN         WASHINGTON                f   \n",
       "1                f     NaN         WASHINGTON                f   \n",
       "2                f     NaN         WASHINGTON                f   \n",
       "3                f     NaN         WASHINGTON                f   \n",
       "4                f     NaN         WASHINGTON                f   \n",
       "\n",
       "  cancellation_policy  require_guest_profile_picture  \\\n",
       "0            moderate                              f   \n",
       "1              strict                              t   \n",
       "2              strict                              f   \n",
       "3            flexible                              f   \n",
       "4              strict                              f   \n",
       "\n",
       "  require_guest_phone_verification calculated_host_listings_count  \\\n",
       "0                                f                              2   \n",
       "1                                t                              6   \n",
       "2                                f                              2   \n",
       "3                                f                              1   \n",
       "4                                f                              1   \n",
       "\n",
       "  reviews_per_month  \n",
       "0              4.07  \n",
       "1              1.48  \n",
       "2              1.15  \n",
       "3               NaN  \n",
       "4              0.89  \n",
       "\n",
       "[5 rows x 92 columns]"
      ]
     },
     "execution_count": 2,
     "metadata": {},
     "output_type": "execute_result"
    }
   ],
   "source": [
    "import numpy as np\n",
    "import pandas as pd\n",
    "import matplotlib.pyplot as plt\n",
    "from collections import defaultdict\n",
    "#import prepare_data_functions as t\n",
    "from sklearn.linear_model import LinearRegression\n",
    "from sklearn.model_selection import train_test_split\n",
    "from sklearn.metrics import r2_score, mean_squared_error\n",
    "from sklearn import preprocessing\n",
    "\n",
    "import seaborn as sns\n",
    "%matplotlib inline\n",
    "\n",
    "lf = pd.read_csv('./seattle/listings.csv')\n",
    "\n",
    "lf.head()"
   ]
  },
  {
   "cell_type": "code",
   "execution_count": 8,
   "id": "directed-celtic",
   "metadata": {},
   "outputs": [
    {
     "data": {
      "text/html": [
       "<div>\n",
       "<style scoped>\n",
       "    .dataframe tbody tr th:only-of-type {\n",
       "        vertical-align: middle;\n",
       "    }\n",
       "\n",
       "    .dataframe tbody tr th {\n",
       "        vertical-align: top;\n",
       "    }\n",
       "\n",
       "    .dataframe thead th {\n",
       "        text-align: right;\n",
       "    }\n",
       "</style>\n",
       "<table border=\"1\" class=\"dataframe\">\n",
       "  <thead>\n",
       "    <tr style=\"text-align: right;\">\n",
       "      <th></th>\n",
       "      <th>id</th>\n",
       "      <th>scrape_id</th>\n",
       "      <th>host_id</th>\n",
       "      <th>host_listings_count</th>\n",
       "      <th>host_total_listings_count</th>\n",
       "      <th>latitude</th>\n",
       "      <th>longitude</th>\n",
       "      <th>accommodates</th>\n",
       "      <th>bathrooms</th>\n",
       "      <th>bedrooms</th>\n",
       "      <th>...</th>\n",
       "      <th>review_scores_rating</th>\n",
       "      <th>review_scores_accuracy</th>\n",
       "      <th>review_scores_cleanliness</th>\n",
       "      <th>review_scores_checkin</th>\n",
       "      <th>review_scores_communication</th>\n",
       "      <th>review_scores_location</th>\n",
       "      <th>review_scores_value</th>\n",
       "      <th>license</th>\n",
       "      <th>calculated_host_listings_count</th>\n",
       "      <th>reviews_per_month</th>\n",
       "    </tr>\n",
       "  </thead>\n",
       "  <tbody>\n",
       "    <tr>\n",
       "      <th>count</th>\n",
       "      <td>3.818000e+03</td>\n",
       "      <td>3.818000e+03</td>\n",
       "      <td>3.818000e+03</td>\n",
       "      <td>3816.000000</td>\n",
       "      <td>3816.000000</td>\n",
       "      <td>3818.000000</td>\n",
       "      <td>3818.000000</td>\n",
       "      <td>3818.000000</td>\n",
       "      <td>3802.000000</td>\n",
       "      <td>3812.000000</td>\n",
       "      <td>...</td>\n",
       "      <td>3171.000000</td>\n",
       "      <td>3160.000000</td>\n",
       "      <td>3165.000000</td>\n",
       "      <td>3160.000000</td>\n",
       "      <td>3167.000000</td>\n",
       "      <td>3163.000000</td>\n",
       "      <td>3162.000000</td>\n",
       "      <td>0.0</td>\n",
       "      <td>3818.000000</td>\n",
       "      <td>3191.000000</td>\n",
       "    </tr>\n",
       "    <tr>\n",
       "      <th>mean</th>\n",
       "      <td>5.550111e+06</td>\n",
       "      <td>2.016010e+13</td>\n",
       "      <td>1.578556e+07</td>\n",
       "      <td>7.157757</td>\n",
       "      <td>7.157757</td>\n",
       "      <td>47.628961</td>\n",
       "      <td>-122.333103</td>\n",
       "      <td>3.349398</td>\n",
       "      <td>1.259469</td>\n",
       "      <td>1.307712</td>\n",
       "      <td>...</td>\n",
       "      <td>94.539262</td>\n",
       "      <td>9.636392</td>\n",
       "      <td>9.556398</td>\n",
       "      <td>9.786709</td>\n",
       "      <td>9.809599</td>\n",
       "      <td>9.608916</td>\n",
       "      <td>9.452245</td>\n",
       "      <td>NaN</td>\n",
       "      <td>2.946307</td>\n",
       "      <td>2.078919</td>\n",
       "    </tr>\n",
       "    <tr>\n",
       "      <th>std</th>\n",
       "      <td>2.962660e+06</td>\n",
       "      <td>0.000000e+00</td>\n",
       "      <td>1.458382e+07</td>\n",
       "      <td>28.628149</td>\n",
       "      <td>28.628149</td>\n",
       "      <td>0.043052</td>\n",
       "      <td>0.031745</td>\n",
       "      <td>1.977599</td>\n",
       "      <td>0.590369</td>\n",
       "      <td>0.883395</td>\n",
       "      <td>...</td>\n",
       "      <td>6.606083</td>\n",
       "      <td>0.698031</td>\n",
       "      <td>0.797274</td>\n",
       "      <td>0.595499</td>\n",
       "      <td>0.568211</td>\n",
       "      <td>0.629053</td>\n",
       "      <td>0.750259</td>\n",
       "      <td>NaN</td>\n",
       "      <td>5.893029</td>\n",
       "      <td>1.822348</td>\n",
       "    </tr>\n",
       "    <tr>\n",
       "      <th>min</th>\n",
       "      <td>3.335000e+03</td>\n",
       "      <td>2.016010e+13</td>\n",
       "      <td>4.193000e+03</td>\n",
       "      <td>1.000000</td>\n",
       "      <td>1.000000</td>\n",
       "      <td>47.505088</td>\n",
       "      <td>-122.417219</td>\n",
       "      <td>1.000000</td>\n",
       "      <td>0.000000</td>\n",
       "      <td>0.000000</td>\n",
       "      <td>...</td>\n",
       "      <td>20.000000</td>\n",
       "      <td>2.000000</td>\n",
       "      <td>3.000000</td>\n",
       "      <td>2.000000</td>\n",
       "      <td>2.000000</td>\n",
       "      <td>4.000000</td>\n",
       "      <td>2.000000</td>\n",
       "      <td>NaN</td>\n",
       "      <td>1.000000</td>\n",
       "      <td>0.020000</td>\n",
       "    </tr>\n",
       "    <tr>\n",
       "      <th>25%</th>\n",
       "      <td>3.258256e+06</td>\n",
       "      <td>2.016010e+13</td>\n",
       "      <td>3.275204e+06</td>\n",
       "      <td>1.000000</td>\n",
       "      <td>1.000000</td>\n",
       "      <td>47.609418</td>\n",
       "      <td>-122.354320</td>\n",
       "      <td>2.000000</td>\n",
       "      <td>1.000000</td>\n",
       "      <td>1.000000</td>\n",
       "      <td>...</td>\n",
       "      <td>93.000000</td>\n",
       "      <td>9.000000</td>\n",
       "      <td>9.000000</td>\n",
       "      <td>10.000000</td>\n",
       "      <td>10.000000</td>\n",
       "      <td>9.000000</td>\n",
       "      <td>9.000000</td>\n",
       "      <td>NaN</td>\n",
       "      <td>1.000000</td>\n",
       "      <td>0.695000</td>\n",
       "    </tr>\n",
       "    <tr>\n",
       "      <th>50%</th>\n",
       "      <td>6.118244e+06</td>\n",
       "      <td>2.016010e+13</td>\n",
       "      <td>1.055814e+07</td>\n",
       "      <td>1.000000</td>\n",
       "      <td>1.000000</td>\n",
       "      <td>47.623601</td>\n",
       "      <td>-122.328874</td>\n",
       "      <td>3.000000</td>\n",
       "      <td>1.000000</td>\n",
       "      <td>1.000000</td>\n",
       "      <td>...</td>\n",
       "      <td>96.000000</td>\n",
       "      <td>10.000000</td>\n",
       "      <td>10.000000</td>\n",
       "      <td>10.000000</td>\n",
       "      <td>10.000000</td>\n",
       "      <td>10.000000</td>\n",
       "      <td>10.000000</td>\n",
       "      <td>NaN</td>\n",
       "      <td>1.000000</td>\n",
       "      <td>1.540000</td>\n",
       "    </tr>\n",
       "    <tr>\n",
       "      <th>75%</th>\n",
       "      <td>8.035127e+06</td>\n",
       "      <td>2.016010e+13</td>\n",
       "      <td>2.590309e+07</td>\n",
       "      <td>3.000000</td>\n",
       "      <td>3.000000</td>\n",
       "      <td>47.662694</td>\n",
       "      <td>-122.310800</td>\n",
       "      <td>4.000000</td>\n",
       "      <td>1.000000</td>\n",
       "      <td>2.000000</td>\n",
       "      <td>...</td>\n",
       "      <td>99.000000</td>\n",
       "      <td>10.000000</td>\n",
       "      <td>10.000000</td>\n",
       "      <td>10.000000</td>\n",
       "      <td>10.000000</td>\n",
       "      <td>10.000000</td>\n",
       "      <td>10.000000</td>\n",
       "      <td>NaN</td>\n",
       "      <td>2.000000</td>\n",
       "      <td>3.000000</td>\n",
       "    </tr>\n",
       "    <tr>\n",
       "      <th>max</th>\n",
       "      <td>1.034016e+07</td>\n",
       "      <td>2.016010e+13</td>\n",
       "      <td>5.320861e+07</td>\n",
       "      <td>502.000000</td>\n",
       "      <td>502.000000</td>\n",
       "      <td>47.733358</td>\n",
       "      <td>-122.240607</td>\n",
       "      <td>16.000000</td>\n",
       "      <td>8.000000</td>\n",
       "      <td>7.000000</td>\n",
       "      <td>...</td>\n",
       "      <td>100.000000</td>\n",
       "      <td>10.000000</td>\n",
       "      <td>10.000000</td>\n",
       "      <td>10.000000</td>\n",
       "      <td>10.000000</td>\n",
       "      <td>10.000000</td>\n",
       "      <td>10.000000</td>\n",
       "      <td>NaN</td>\n",
       "      <td>37.000000</td>\n",
       "      <td>12.150000</td>\n",
       "    </tr>\n",
       "  </tbody>\n",
       "</table>\n",
       "<p>8 rows × 30 columns</p>\n",
       "</div>"
      ],
      "text/plain": [
       "                 id     scrape_id       host_id  host_listings_count  \\\n",
       "count  3.818000e+03  3.818000e+03  3.818000e+03          3816.000000   \n",
       "mean   5.550111e+06  2.016010e+13  1.578556e+07             7.157757   \n",
       "std    2.962660e+06  0.000000e+00  1.458382e+07            28.628149   \n",
       "min    3.335000e+03  2.016010e+13  4.193000e+03             1.000000   \n",
       "25%    3.258256e+06  2.016010e+13  3.275204e+06             1.000000   \n",
       "50%    6.118244e+06  2.016010e+13  1.055814e+07             1.000000   \n",
       "75%    8.035127e+06  2.016010e+13  2.590309e+07             3.000000   \n",
       "max    1.034016e+07  2.016010e+13  5.320861e+07           502.000000   \n",
       "\n",
       "       host_total_listings_count     latitude    longitude  accommodates  \\\n",
       "count                3816.000000  3818.000000  3818.000000   3818.000000   \n",
       "mean                    7.157757    47.628961  -122.333103      3.349398   \n",
       "std                    28.628149     0.043052     0.031745      1.977599   \n",
       "min                     1.000000    47.505088  -122.417219      1.000000   \n",
       "25%                     1.000000    47.609418  -122.354320      2.000000   \n",
       "50%                     1.000000    47.623601  -122.328874      3.000000   \n",
       "75%                     3.000000    47.662694  -122.310800      4.000000   \n",
       "max                   502.000000    47.733358  -122.240607     16.000000   \n",
       "\n",
       "         bathrooms     bedrooms  ...  review_scores_rating  \\\n",
       "count  3802.000000  3812.000000  ...           3171.000000   \n",
       "mean      1.259469     1.307712  ...             94.539262   \n",
       "std       0.590369     0.883395  ...              6.606083   \n",
       "min       0.000000     0.000000  ...             20.000000   \n",
       "25%       1.000000     1.000000  ...             93.000000   \n",
       "50%       1.000000     1.000000  ...             96.000000   \n",
       "75%       1.000000     2.000000  ...             99.000000   \n",
       "max       8.000000     7.000000  ...            100.000000   \n",
       "\n",
       "       review_scores_accuracy  review_scores_cleanliness  \\\n",
       "count             3160.000000                3165.000000   \n",
       "mean                 9.636392                   9.556398   \n",
       "std                  0.698031                   0.797274   \n",
       "min                  2.000000                   3.000000   \n",
       "25%                  9.000000                   9.000000   \n",
       "50%                 10.000000                  10.000000   \n",
       "75%                 10.000000                  10.000000   \n",
       "max                 10.000000                  10.000000   \n",
       "\n",
       "       review_scores_checkin  review_scores_communication  \\\n",
       "count            3160.000000                  3167.000000   \n",
       "mean                9.786709                     9.809599   \n",
       "std                 0.595499                     0.568211   \n",
       "min                 2.000000                     2.000000   \n",
       "25%                10.000000                    10.000000   \n",
       "50%                10.000000                    10.000000   \n",
       "75%                10.000000                    10.000000   \n",
       "max                10.000000                    10.000000   \n",
       "\n",
       "       review_scores_location  review_scores_value  license  \\\n",
       "count             3163.000000          3162.000000      0.0   \n",
       "mean                 9.608916             9.452245      NaN   \n",
       "std                  0.629053             0.750259      NaN   \n",
       "min                  4.000000             2.000000      NaN   \n",
       "25%                  9.000000             9.000000      NaN   \n",
       "50%                 10.000000            10.000000      NaN   \n",
       "75%                 10.000000            10.000000      NaN   \n",
       "max                 10.000000            10.000000      NaN   \n",
       "\n",
       "       calculated_host_listings_count  reviews_per_month  \n",
       "count                     3818.000000        3191.000000  \n",
       "mean                         2.946307           2.078919  \n",
       "std                          5.893029           1.822348  \n",
       "min                          1.000000           0.020000  \n",
       "25%                          1.000000           0.695000  \n",
       "50%                          1.000000           1.540000  \n",
       "75%                          2.000000           3.000000  \n",
       "max                         37.000000          12.150000  \n",
       "\n",
       "[8 rows x 30 columns]"
      ]
     },
     "execution_count": 8,
     "metadata": {},
     "output_type": "execute_result"
    }
   ],
   "source": [
    "lf.describe()"
   ]
  },
  {
   "cell_type": "code",
   "execution_count": 9,
   "id": "environmental-charm",
   "metadata": {},
   "outputs": [
    {
     "name": "stdout",
     "output_type": "stream",
     "text": [
      "There are 3818 rows in the listing dataset\n",
      "There are 92 colums in the listing dataset\n"
     ]
    }
   ],
   "source": [
    "lrows = lf.shape[0]\n",
    "lcols = lf.shape[1]\n",
    "\n",
    "print(\"There are {} rows in the listing dataset\".format(lrows))\n",
    "print(\"There are {} colums in the listing dataset\".format(lcols))"
   ]
  },
  {
   "cell_type": "code",
   "execution_count": 5,
   "id": "incorporate-survey",
   "metadata": {},
   "outputs": [
    {
     "name": "stdout",
     "output_type": "stream",
     "text": [
      "Columns that are not missing values in listings dataset are: {'market', 'calendar_updated', 'listing_url', 'maximum_nights', 'state', 'neighbourhood_group_cleansed', 'minimum_nights', 'accommodates', 'require_guest_profile_picture', 'host_verifications', 'name', 'amenities', 'availability_90', 'instant_bookable', 'number_of_reviews', 'room_type', 'host_id', 'city', 'last_scraped', 'longitude', 'availability_365', 'price', 'country', 'bed_type', 'street', 'calculated_host_listings_count', 'availability_30', 'country_code', 'picture_url', 'has_availability', 'availability_60', 'calendar_last_scraped', 'id', 'description', 'experiences_offered', 'smart_location', 'jurisdiction_names', 'neighbourhood_cleansed', 'extra_people', 'host_url', 'is_location_exact', 'require_guest_phone_verification', 'latitude', 'guests_included', 'scrape_id', 'cancellation_policy', 'requires_license'} and its lenght is 47\n",
      " \n"
     ]
    }
   ],
   "source": [
    "#get list for listings\n",
    "lfull_fill_cols = set(lf.columns[lf.isnull().mean()==0])\n",
    "print(\"Columns that are not missing values in listings dataset are: {}\".format(lfull_fill_cols)+\" and its lenght is {}\".format(len(lfull_fill_cols)))\n",
    "print(\" \")"
   ]
  },
  {
   "cell_type": "code",
   "execution_count": 20,
   "id": "comparative-faculty",
   "metadata": {},
   "outputs": [],
   "source": [
    "#create a dataframe of each string you want to search for in each row\n",
    "def total_count(df, col1, col2, look_for):\n",
    "    new_df = defaultdict(int)\n",
    "    #loop through list of ed types\n",
    "    for val in look_for:\n",
    "        #loop through rows\n",
    "        for idx in range(df.shape[0]):\n",
    "            #if the ed type is in the row add 1\n",
    "            if val in df[col1][idx]:\n",
    "                new_df[val] += int(df[col2][idx])\n",
    "    new_df = pd.DataFrame(pd.Series(new_df)).reset_index()\n",
    "    new_df.columns = [col1, col2]\n",
    "    new_df.sort_values('count', ascending=False, inplace=True)\n",
    "    return new_df"
   ]
  },
  {
   "cell_type": "code",
   "execution_count": 17,
   "id": "strategic-airplane",
   "metadata": {},
   "outputs": [],
   "source": [
    "# #function to clean data and plot\n",
    "\n",
    "def clean_plot(df, title, col_name, look_for, plot):  \n",
    "    clean = df[col_name].value_counts().reset_index()\n",
    "    clean.rename(columns={'index': 'ammount', col_name: 'count'}, inplace=True)\n",
    "    clean_lf = total_count(clean, 'ammount', 'count', look_for)\n",
    "    clean_lf.set_index('ammount', inplace=True)\n",
    "    if plot:\n",
    "        (clean_lf/clean_lf.sum()).plot(kind='bar', legend=None);\n",
    "        plt.title(title);\n",
    "        plt.show()\n",
    "    props_clean_lf = clean_lf/clean_lf.sum()\n",
    "    return props_clean_lf"
   ]
  },
  {
   "cell_type": "code",
   "execution_count": 4,
   "id": "beautiful-luther",
   "metadata": {},
   "outputs": [],
   "source": [
    "def clean_currency(x):\n",
    "    \"\"\" If the value is a string, then remove currency symbol and delimiters\n",
    "    otherwise, the value is numeric and can be converted\n",
    "    \"\"\"\n",
    "    if isinstance(x, str):\n",
    "        return(x.replace('$', '').replace(',', ''))\n",
    "    return(x)"
   ]
  },
  {
   "cell_type": "code",
   "execution_count": 12,
   "id": "practical-spectrum",
   "metadata": {},
   "outputs": [
    {
     "name": "stdout",
     "output_type": "stream",
     "text": [
      "Maximum of the list 1000\n",
      "Minimum of the list 20\n"
     ]
    }
   ],
   "source": [
    "#sort values to find out min and max of price chart\n",
    "no_null_p = lf.dropna(subset=['price'], how='any')\n",
    "p_list = no_null_p['price'].to_numpy()\n",
    "\n",
    "#remove \"$\" and \",\" symbols \n",
    "def rm_first(s):\n",
    "    return s[1:-3]\n",
    "newp_list = [rm_first(s) for s in p_list]\n",
    "newp_list = [s.replace(',', '') for s in newp_list]\n",
    "\n",
    "#convert to int\n",
    "for i in range(0, len(newp_list)):\n",
    "    newp_list[i] = int(newp_list[i])\n",
    "\n",
    "print(\"Maximum of the list\", max(newp_list))\n",
    "print(\"Minimum of the list\", min(newp_list))\n"
   ]
  },
  {
   "cell_type": "code",
   "execution_count": null,
   "id": "casual-advocacy",
   "metadata": {},
   "outputs": [],
   "source": []
  },
  {
   "cell_type": "code",
   "execution_count": 21,
   "id": "after-verse",
   "metadata": {},
   "outputs": [
    {
     "data": {
      "image/png": "[encoded data removed]",
      "text/plain": [
       "<Figure size 432x288 with 1 Axes>"
      ]
     },
     "metadata": {
      "needs_background": "light"
     },
     "output_type": "display_data"
    }
   ],
   "source": [
    "#chart for price\n",
    "look_for_price = ['$50', '$75', '$100', '$125', '$150', '$175', '$200', '$225', '$250', '$275', '$300', '$350', '$400','$450', '$500', '$600', '$800', '$1,000', '$2000', '$3,000', '$4,000']\n",
    "\n",
    "props_p = clean_plot(no_null_p, 'Price', 'price', look_for_price, True)"
   ]
  },
  {
   "cell_type": "code",
   "execution_count": 22,
   "id": "objective-workstation",
   "metadata": {},
   "outputs": [
    {
     "data": {
      "image/png": "[encoded data removed]",
      "text/plain": [
       "<Figure size 432x288 with 1 Axes>"
      ]
     },
     "metadata": {
      "needs_background": "light"
     },
     "output_type": "display_data"
    }
   ],
   "source": [
    "#chart for property_type\n",
    "#We want to see what is the most common property type as well\n",
    "pt_vals = lf.property_type.value_counts()\n",
    "(pt_vals/lf.shape[0]).plot(kind=\"bar\");\n",
    "plt.title(\"Property Type\");"
   ]
  },
  {
   "cell_type": "code",
   "execution_count": 24,
   "id": "concerned-travel",
   "metadata": {},
   "outputs": [
    {
     "data": {
      "image/png": "[encoded data removed]",
      "text/plain": [
       "<Figure size 432x288 with 1 Axes>"
      ]
     },
     "metadata": {
      "needs_background": "light"
     },
     "output_type": "display_data"
    }
   ],
   "source": [
    "#chart for bathrooms\n",
    "btr_vals = lf.bathrooms.value_counts()\n",
    "(btr_vals/lf.shape[0]).plot(kind=\"bar\");\n",
    "plt.title(\"Bathrooms\");"
   ]
  },
  {
   "cell_type": "markdown",
   "id": "surface-commission",
   "metadata": {},
   "source": [
    "Another aspect we re interested is weekly price- this will help the client to compare the weekly prices in Boston with Seatle."
   ]
  },
  {
   "cell_type": "code",
   "execution_count": 25,
   "id": "cheap-journalism",
   "metadata": {},
   "outputs": [
    {
     "data": {
      "image/png": "[encoded data removed]",
      "text/plain": [
       "<Figure size 432x288 with 1 Axes>"
      ]
     },
     "metadata": {
      "needs_background": "light"
     },
     "output_type": "display_data"
    }
   ],
   "source": [
    "#chart for weekly price\n",
    "no_null_week = lf.dropna(subset=['weekly_price'], how='any')\n",
    "\n",
    "look_for_wprice = ['$200', '$400', '$600', '$800', '$1,000', '$1,200', '$1,400', '$1,600', '$1,800','$2,000', '$2,250', '$2,500', '$2,750', '$3,000', '$3,250', '$3,500', '$3,750', '$4,000', '$4,500', '$5,000']\n",
    "\n",
    "props_week = clean_plot(no_null_week, 'Weekly Price', 'weekly_price', look_for_wprice, True)"
   ]
  },
  {
   "cell_type": "code",
   "execution_count": 28,
   "id": "blank-prediction",
   "metadata": {},
   "outputs": [
    {
     "name": "stderr",
     "output_type": "stream",
     "text": [
      "<ipython-input-28-70714d7aefe0>:4: SettingWithCopyWarning: \n",
      "A value is trying to be set on a copy of a slice from a DataFrame.\n",
      "Try using .loc[row_indexer,col_indexer] = value instead\n",
      "\n",
      "See the caveats in the documentation: https://pandas.pydata.org/pandas-docs/stable/user_guide/indexing.html#returning-a-view-versus-a-copy\n",
      "  no_null_rc['review_scores_rating'] = no_null_rc['review_scores_rating'].apply(clean_currency).astype('str')\n"
     ]
    },
    {
     "data": {
      "image/png": "[encoded data removed]",
      "text/plain": [
       "<Figure size 432x288 with 1 Axes>"
      ]
     },
     "metadata": {
      "needs_background": "light"
     },
     "output_type": "display_data"
    }
   ],
   "source": [
    "#chart for Review Scores Rating\n",
    "no_null_rc = lf.dropna(subset=['review_scores_rating'], how='any')\n",
    "#let's convert the values to string because the funtion is not going to iterate in float or int values.\n",
    "no_null_rc['review_scores_rating'] = no_null_rc['review_scores_rating'].apply(clean_currency).astype('str')\n",
    "\n",
    "\n",
    "look_for_rc = ['10.0', '20.0', '30.0', '40.0', '50.0', '60.0', '70.0', '80.0', '90.0', '100.0']\n",
    "props_rc = clean_plot(no_null_rc, \"Review Scores Rating\", 'review_scores_rating', look_for_rc, True)"
   ]
  },
  {
   "cell_type": "code",
   "execution_count": 29,
   "id": "seeing-percentage",
   "metadata": {},
   "outputs": [
    {
     "data": {
      "text/plain": [
       "price\n",
       "$178.00       60.0\n",
       "$222.00       75.0\n",
       "$359.00       80.0\n",
       "$162.00       80.0\n",
       "$102.00       80.0\n",
       "             ...  \n",
       "$163.00      100.0\n",
       "$545.00      100.0\n",
       "$680.00      100.0\n",
       "$232.00      100.0\n",
       "$1,000.00    100.0\n",
       "Name: review_scores_rating, Length: 260, dtype: float64"
      ]
     },
     "execution_count": 29,
     "metadata": {},
     "output_type": "execute_result"
    }
   ],
   "source": [
    "#In general, prices dictates score ratings, the higher the price the higher the rating\n",
    "lf.groupby(['price']).mean()['review_scores_rating'].sort_values().dropna()"
   ]
  },
  {
   "cell_type": "code",
   "execution_count": 9,
   "id": "white-stock",
   "metadata": {},
   "outputs": [
    {
     "data": {
      "image/png": "[encoded data removed]",
      "text/plain": [
       "<Figure size 1080x720 with 1 Axes>"
      ]
     },
     "metadata": {
      "needs_background": "light"
     },
     "output_type": "display_data"
    }
   ],
   "source": [
    "#In general, prices dictates score ratings, the higher the price the higher the rating\n",
    "lf['price'] =lf['price'].apply(clean_currency).astype('float')\n",
    "plt.figure(figsize=(15,10))\n",
    "plt.gca().xaxis.set_major_locator(plt.MaxNLocator(25))\n",
    "plt.gca().yaxis.set_major_locator(plt.MaxNLocator(10))\n",
    "plt.title(\"Price relationship to Review Score Rating\");\n",
    "lf.groupby(['price']).mean()['review_scores_rating'].sort_values().plot();"
   ]
  },
  {
   "cell_type": "code",
   "execution_count": 31,
   "id": "innocent-billy",
   "metadata": {},
   "outputs": [],
   "source": [
    "lp =lf"
   ]
  },
  {
   "cell_type": "code",
   "execution_count": 32,
   "id": "abstract-dodge",
   "metadata": {},
   "outputs": [
    {
     "data": {
      "text/plain": [
       "weekly_price\n",
       "4000.0     60.0\n",
       "472.0      72.0\n",
       "680.0      75.4\n",
       "896.0      80.0\n",
       "1096.0     80.0\n",
       "          ...  \n",
       "920.0     100.0\n",
       "903.0     100.0\n",
       "889.0     100.0\n",
       "1150.0    100.0\n",
       "6300.0    100.0\n",
       "Name: review_scores_rating, Length: 381, dtype: float64"
      ]
     },
     "execution_count": 32,
     "metadata": {},
     "output_type": "execute_result"
    }
   ],
   "source": [
    "#what about weekly prices\n",
    "lp['weekly_price'] =lp['weekly_price'].apply(clean_currency).astype('float')\n",
    "lp.groupby(['weekly_price']).mean()['review_scores_rating'].sort_values().dropna()"
   ]
  },
  {
   "cell_type": "code",
   "execution_count": 33,
   "id": "boolean-animal",
   "metadata": {},
   "outputs": [
    {
     "data": {
      "text/plain": [
       "property_type\n",
       "Chalet              83.500000\n",
       "Dorm                90.000000\n",
       "Apartment           93.977591\n",
       "Tent                94.500000\n",
       "House               94.833562\n",
       "Condominium         95.318841\n",
       "Loft                95.454545\n",
       "Boat                95.600000\n",
       "Camper/RV           95.700000\n",
       "Bed & Breakfast     95.730769\n",
       "Treehouse           96.000000\n",
       "Cabin               96.238095\n",
       "Other               96.263158\n",
       "Townhouse           96.625000\n",
       "Bungalow            97.666667\n",
       "Yurt               100.000000\n",
       "Name: review_scores_rating, dtype: float64"
      ]
     },
     "execution_count": 33,
     "metadata": {},
     "output_type": "execute_result"
    }
   ],
   "source": [
    "#Does a certain property type appear to have higher review_scores_rating\n",
    "lf.groupby(['property_type']).mean()['review_scores_rating'].sort_values().dropna()"
   ]
  },
  {
   "cell_type": "code",
   "execution_count": 25,
   "id": "looking-leone",
   "metadata": {},
   "outputs": [
    {
     "data": {
      "image/png": "[encoded data removed]",
      "text/plain": [
       "<Figure size 1080x360 with 1 Axes>"
      ]
     },
     "metadata": {
      "needs_background": "light"
     },
     "output_type": "display_data"
    }
   ],
   "source": [
    "#Does a certain property type appear to have higher review_scores_rating\n",
    "plt.figure(figsize=(15,5))\n",
    "plt.gca().xaxis.set_major_locator(plt.MaxNLocator('auto'))\n",
    "plt.title(\"Property type relationship to Review Score Rating\")\n",
    "lf.groupby(['property_type']).mean()['review_scores_rating'].sort_values().plot();"
   ]
  },
  {
   "cell_type": "code",
   "execution_count": 7,
   "id": "sunrise-ebony",
   "metadata": {
    "scrolled": true
   },
   "outputs": [
    {
     "data": {
      "text/plain": [
       "property_type\n",
       "Dorm                39.500000\n",
       "Tent                54.000000\n",
       "Other               94.681818\n",
       "Chalet              98.500000\n",
       "Yurt               100.000000\n",
       "Treehouse          101.000000\n",
       "Cabin              104.666667\n",
       "Bed & Breakfast    112.054054\n",
       "Bungalow           115.615385\n",
       "Camper/RV          120.461538\n",
       "Apartment          122.932670\n",
       "Townhouse          129.457627\n",
       "House              132.351414\n",
       "Loft               135.700000\n",
       "Condominium        151.109890\n",
       "Boat               282.375000\n",
       "Name: price, dtype: float64"
      ]
     },
     "execution_count": 7,
     "metadata": {},
     "output_type": "execute_result"
    }
   ],
   "source": [
    "#According to property_type, which unit has the highest average price?\n",
    "lf['price'] =lf['price'].apply(clean_currency).astype('float')\n",
    "lf.groupby(['property_type']).mean()['price'].sort_values().dropna()"
   ]
  },
  {
   "cell_type": "code",
   "execution_count": 24,
   "id": "handled-conservative",
   "metadata": {},
   "outputs": [
    {
     "data": {
      "image/png": "[encoded data removed]",
      "text/plain": [
       "<Figure size 1080x360 with 1 Axes>"
      ]
     },
     "metadata": {
      "needs_background": "light"
     },
     "output_type": "display_data"
    }
   ],
   "source": [
    "#According to the type of property, which unit has the highest average price?\n",
    "plt.figure(figsize=(15,5))\n",
    "plt.gca().xaxis.set_major_locator(plt.MaxNLocator('auto'))\n",
    "plt.gca().yaxis.set_major_locator(plt.MaxNLocator(8))\n",
    "plt.title(\"Property type relationship to price\")\n",
    "lf.groupby(['property_type']).mean()['price'].sort_values().plot();"
   ]
  },
  {
   "cell_type": "code",
   "execution_count": 8,
   "id": "continental-crest",
   "metadata": {
    "scrolled": true
   },
   "outputs": [
    {
     "data": {
      "text/plain": [
       "neighbourhood\n",
       "Roxhill                 60.000000\n",
       "Olympic Hills           63.666667\n",
       "Dunlap                  75.461538\n",
       "Rainier Beach           76.722222\n",
       "Georgetown              77.000000\n",
       "                          ...    \n",
       "Alki                   196.652174\n",
       "Westlake               197.000000\n",
       "Portage Bay            241.428571\n",
       "Industrial District    245.000000\n",
       "Fairmount Park         370.000000\n",
       "Name: price, Length: 81, dtype: float64"
      ]
     },
     "execution_count": 8,
     "metadata": {},
     "output_type": "execute_result"
    }
   ],
   "source": [
    "#According to the neighborhood, which unit has the highest average price?\n",
    "lf['price'] =lf['price'].apply(clean_currency).astype('float')\n",
    "lf.groupby(['neighbourhood']).mean()['price'].sort_values().dropna()"
   ]
  },
  {
   "cell_type": "code",
   "execution_count": 26,
   "id": "opened-theta",
   "metadata": {},
   "outputs": [
    {
     "data": {
      "image/png": "[encoded data removed]",
      "text/plain": [
       "<Figure size 1080x360 with 1 Axes>"
      ]
     },
     "metadata": {
      "needs_background": "light"
     },
     "output_type": "display_data"
    }
   ],
   "source": [
    "#According to the neighborhood, which unit has the highest average price?\n",
    "plt.figure(figsize=(15,5));\n",
    "plt.gca().xaxis.set_major_locator(plt.MaxNLocator('auto'))\n",
    "plt.gca().yaxis.set_major_locator(plt.MaxNLocator(8))\n",
    "plt.title(\"Neighbourhood relationship to Price\")\n",
    "lf.groupby(['neighbourhood']).mean()['price'].sort_values().plot();"
   ]
  },
  {
   "cell_type": "code",
   "execution_count": 36,
   "id": "controlling-statement",
   "metadata": {
    "scrolled": true
   },
   "outputs": [
    {
     "data": {
      "text/plain": [
       "property_type\n",
       "Tent               0.500000\n",
       "Camper/RV          0.846154\n",
       "Cabin              1.000000\n",
       "Chalet             1.000000\n",
       "Treehouse          1.000000\n",
       "Yurt               1.000000\n",
       "Apartment          1.096357\n",
       "Loft               1.125000\n",
       "Bungalow           1.192308\n",
       "Condominium        1.225275\n",
       "House              1.399652\n",
       "Other              1.409091\n",
       "Townhouse          1.550847\n",
       "Bed & Breakfast    1.648649\n",
       "Boat               1.750000\n",
       "Dorm               4.000000\n",
       "Name: bathrooms, dtype: float64"
      ]
     },
     "execution_count": 36,
     "metadata": {},
     "output_type": "execute_result"
    }
   ],
   "source": [
    "#How many average bathrooms has a certain type of property?\n",
    "lp.groupby(['property_type']).mean()['bathrooms'].sort_values().dropna()"
   ]
  },
  {
   "cell_type": "code",
   "execution_count": 28,
   "id": "interested-architect",
   "metadata": {},
   "outputs": [
    {
     "data": {
      "image/png": "[encoded data removed]",
      "text/plain": [
       "<Figure size 1080x360 with 1 Axes>"
      ]
     },
     "metadata": {
      "needs_background": "light"
     },
     "output_type": "display_data"
    }
   ],
   "source": [
    "#How many average bathrooms has a certain type of property?\n",
    "plt.figure(figsize=(15,5))\n",
    "plt.gca().xaxis.set_major_locator(plt.MaxNLocator('auto'))\n",
    "plt.title(\"Bathrooms in a Property\")\n",
    "lf.groupby(['property_type']).mean()['bathrooms'].sort_values().plot();"
   ]
  },
  {
   "cell_type": "code",
   "execution_count": 37,
   "id": "varying-professor",
   "metadata": {
    "scrolled": true
   },
   "outputs": [
    {
     "data": {
      "text/plain": [
       "property_type\n",
       "Yurt               0.000000\n",
       "Bungalow           0.615385\n",
       "Treehouse          0.666667\n",
       "Camper/RV          0.692308\n",
       "Loft               0.750000\n",
       "Other              0.809524\n",
       "Cabin              0.857143\n",
       "Bed & Breakfast    1.000000\n",
       "Chalet             1.000000\n",
       "Dorm               1.000000\n",
       "Tent               1.000000\n",
       "Apartment          1.033451\n",
       "Condominium        1.241758\n",
       "Townhouse          1.508475\n",
       "House              1.609122\n",
       "Boat               1.750000\n",
       "Name: bedrooms, dtype: float64"
      ]
     },
     "execution_count": 37,
     "metadata": {},
     "output_type": "execute_result"
    }
   ],
   "source": [
    "#How many average bedrooms has a certain type of property?\n",
    "lp.groupby(['property_type']).mean()['bedrooms'].sort_values().dropna()"
   ]
  },
  {
   "cell_type": "code",
   "execution_count": 46,
   "id": "compressed-cooperation",
   "metadata": {},
   "outputs": [
    {
     "data": {
      "image/png": "[encoded data removed]",
      "text/plain": [
       "<Figure size 1080x360 with 1 Axes>"
      ]
     },
     "metadata": {
      "needs_background": "light"
     },
     "output_type": "display_data"
    }
   ],
   "source": [
    "#How many average bedrooms has a certain type of property?\n",
    "plt.figure(figsize=(15,5))\n",
    "plt.gca().xaxis.set_major_locator(plt.MaxNLocator(66))\n",
    "plt.title(\"Bedrooms in a Property\")\n",
    "lf.groupby(['property_type']).mean()['bedrooms'].sort_values().plot();"
   ]
  },
  {
   "cell_type": "code",
   "execution_count": null,
   "id": "independent-clearing",
   "metadata": {},
   "outputs": [],
   "source": []
  },
  {
   "cell_type": "code",
   "execution_count": null,
   "id": "developed-alcohol",
   "metadata": {},
   "outputs": [],
   "source": []
  }
 ],
 "metadata": {
  "kernelspec": {
   "display_name": "Python 3",
   "language": "python",
   "name": "python3"
  },
  "language_info": {
   "codemirror_mode": {
    "name": "ipython",
    "version": 3
   },
   "file_extension": ".py",
   "mimetype": "text/x-python",
   "name": "python",
   "nbconvert_exporter": "python",
   "pygments_lexer": "ipython3",
   "version": "3.9.1"
  }
 },
 "nbformat": 4,
 "nbformat_minor": 5
}
