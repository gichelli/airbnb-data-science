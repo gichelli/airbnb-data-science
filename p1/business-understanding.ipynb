{
 "cells": [
  {
   "cell_type": "markdown",
   "id": "naughty-korea",
   "metadata": {},
   "source": [
    "### Business Understanding\n",
    "\n",
    "In this project we are interested in answering questions regarding the airbnb business. A few of the questions we want to answer are: What we can do to have more customers, How are the trends for people visiting our city?, What influences people to travel more during an specific time?. Are prices a factor on losing businesses with people?, among many others.\n",
    "\n",
    "Possible questions:\n",
    "-Is there a relationship between ratings and price?\n",
    "-Are good reviews associated directly to higher price?\n",
    "\n",
    "### Data Understanding\n",
    "\n",
    "In order to answer these questions we must have a better understanding of the data we have access to. For this we use open source data that is available to us on the internet in Kagle website. In this site we found data that is related to Airbnb businesses located in Boston City. Looking at a listing.csv file, we can see data columns such as price, bathrooms, bedrooms, minimum_nights, 'maximum_nights', among many others. So far this would be a good starting point to try to answer a few questions. \n",
    "\n",
    "1. What is the price to charge for my unit ?\n",
    "2. What is the comparative average price people are charging for similar units to mine in Seattle?\n",
    "3. What are the greatest factors that determine price in the Boston area?\n",
    "\n",
    "\n",
    "\n",
    "We will prepare the data next and start to visualize some feedback with the help of Data Modeling techniques. Next(insert link)\n"
   ]
  },
  {
   "cell_type": "code",
   "execution_count": null,
   "id": "incorporate-mirror",
   "metadata": {},
   "outputs": [],
   "source": []
  }
 ],
 "metadata": {
  "kernelspec": {
   "display_name": "Python 3",
   "language": "python",
   "name": "python3"
  },
  "language_info": {
   "codemirror_mode": {
    "name": "ipython",
    "version": 3
   },
   "file_extension": ".py",
   "mimetype": "text/x-python",
   "name": "python",
   "nbconvert_exporter": "python",
   "pygments_lexer": "ipython3",
   "version": "3.9.1"
  }
 },
 "nbformat": 4,
 "nbformat_minor": 5
}
