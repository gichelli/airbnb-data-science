{
 "cells": [
  {
   "cell_type": "markdown",
   "id": "recovered-alabama",
   "metadata": {},
   "source": [
    "### Preparing the data\n",
    "\n",
    "In order to answer the questions we might have in mind, we need to understand the data and see what it can reveal to us after we analyze it.\n",
    "\n",
    "We have our data from internet. We are going to use Seattle AirBnB csv files that we found in [Kaggle](https://www.kaggle.com/airbnb/seattle?select=reviews.csv).\n",
    "\n",
    "gather, assess, clean, analyze, model, visualize\n",
    "\n",
    "First read in the dataset.\n"
   ]
  },
  {
   "cell_type": "code",
   "execution_count": 455,
   "id": "plain-canberra",
   "metadata": {},
   "outputs": [
    {
     "data": {
      "text/html": [
       "<div>\n",
       "<style scoped>\n",
       "    .dataframe tbody tr th:only-of-type {\n",
       "        vertical-align: middle;\n",
       "    }\n",
       "\n",
       "    .dataframe tbody tr th {\n",
       "        vertical-align: top;\n",
       "    }\n",
       "\n",
       "    .dataframe thead th {\n",
       "        text-align: right;\n",
       "    }\n",
       "</style>\n",
       "<table border=\"1\" class=\"dataframe\">\n",
       "  <thead>\n",
       "    <tr style=\"text-align: right;\">\n",
       "      <th></th>\n",
       "      <th>id</th>\n",
       "      <th>listing_url</th>\n",
       "      <th>scrape_id</th>\n",
       "      <th>last_scraped</th>\n",
       "      <th>name</th>\n",
       "      <th>summary</th>\n",
       "      <th>space</th>\n",
       "      <th>description</th>\n",
       "      <th>experiences_offered</th>\n",
       "      <th>neighborhood_overview</th>\n",
       "      <th>...</th>\n",
       "      <th>review_scores_value</th>\n",
       "      <th>requires_license</th>\n",
       "      <th>license</th>\n",
       "      <th>jurisdiction_names</th>\n",
       "      <th>instant_bookable</th>\n",
       "      <th>cancellation_policy</th>\n",
       "      <th>require_guest_profile_picture</th>\n",
       "      <th>require_guest_phone_verification</th>\n",
       "      <th>calculated_host_listings_count</th>\n",
       "      <th>reviews_per_month</th>\n",
       "    </tr>\n",
       "  </thead>\n",
       "  <tbody>\n",
       "    <tr>\n",
       "      <th>0</th>\n",
       "      <td>12147973</td>\n",
       "      <td>https://www.airbnb.com/rooms/12147973</td>\n",
       "      <td>2.016090e+13</td>\n",
       "      <td>9/7/16</td>\n",
       "      <td>Sunny Bungalow in the City</td>\n",
       "      <td>Cozy, sunny, family home.  Master bedroom high...</td>\n",
       "      <td>The house has an open and cozy feel at the sam...</td>\n",
       "      <td>Cozy, sunny, family home.  Master bedroom high...</td>\n",
       "      <td>none</td>\n",
       "      <td>Roslindale is quiet, convenient and friendly. ...</td>\n",
       "      <td>...</td>\n",
       "      <td>NaN</td>\n",
       "      <td>f</td>\n",
       "      <td>NaN</td>\n",
       "      <td>NaN</td>\n",
       "      <td>f</td>\n",
       "      <td>moderate</td>\n",
       "      <td>f</td>\n",
       "      <td>f</td>\n",
       "      <td>1</td>\n",
       "      <td>NaN</td>\n",
       "    </tr>\n",
       "    <tr>\n",
       "      <th>1</th>\n",
       "      <td>3075044</td>\n",
       "      <td>https://www.airbnb.com/rooms/3075044</td>\n",
       "      <td>2.016090e+13</td>\n",
       "      <td>9/7/16</td>\n",
       "      <td>Charming room in pet friendly apt</td>\n",
       "      <td>Charming and quiet room in a second floor 1910...</td>\n",
       "      <td>Small but cozy and quite room with a full size...</td>\n",
       "      <td>Charming and quiet room in a second floor 1910...</td>\n",
       "      <td>none</td>\n",
       "      <td>The room is in Roslindale, a diverse and prima...</td>\n",
       "      <td>...</td>\n",
       "      <td>9.0</td>\n",
       "      <td>f</td>\n",
       "      <td>NaN</td>\n",
       "      <td>NaN</td>\n",
       "      <td>t</td>\n",
       "      <td>moderate</td>\n",
       "      <td>f</td>\n",
       "      <td>f</td>\n",
       "      <td>1</td>\n",
       "      <td>1.30</td>\n",
       "    </tr>\n",
       "    <tr>\n",
       "      <th>2</th>\n",
       "      <td>6976</td>\n",
       "      <td>https://www.airbnb.com/rooms/6976</td>\n",
       "      <td>2.016090e+13</td>\n",
       "      <td>9/7/16</td>\n",
       "      <td>Mexican Folk Art Haven in Boston</td>\n",
       "      <td>Come stay with a friendly, middle-aged guy in ...</td>\n",
       "      <td>Come stay with a friendly, middle-aged guy in ...</td>\n",
       "      <td>Come stay with a friendly, middle-aged guy in ...</td>\n",
       "      <td>none</td>\n",
       "      <td>The LOCATION: Roslindale is a safe and diverse...</td>\n",
       "      <td>...</td>\n",
       "      <td>10.0</td>\n",
       "      <td>f</td>\n",
       "      <td>NaN</td>\n",
       "      <td>NaN</td>\n",
       "      <td>f</td>\n",
       "      <td>moderate</td>\n",
       "      <td>t</td>\n",
       "      <td>f</td>\n",
       "      <td>1</td>\n",
       "      <td>0.47</td>\n",
       "    </tr>\n",
       "    <tr>\n",
       "      <th>3</th>\n",
       "      <td>1436513</td>\n",
       "      <td>https://www.airbnb.com/rooms/1436513</td>\n",
       "      <td>2.016090e+13</td>\n",
       "      <td>9/7/16</td>\n",
       "      <td>Spacious Sunny Bedroom Suite in Historic Home</td>\n",
       "      <td>Come experience the comforts of home away from...</td>\n",
       "      <td>Most places you find in Boston are small howev...</td>\n",
       "      <td>Come experience the comforts of home away from...</td>\n",
       "      <td>none</td>\n",
       "      <td>Roslindale is a lovely little neighborhood loc...</td>\n",
       "      <td>...</td>\n",
       "      <td>10.0</td>\n",
       "      <td>f</td>\n",
       "      <td>NaN</td>\n",
       "      <td>NaN</td>\n",
       "      <td>f</td>\n",
       "      <td>moderate</td>\n",
       "      <td>f</td>\n",
       "      <td>f</td>\n",
       "      <td>1</td>\n",
       "      <td>1.00</td>\n",
       "    </tr>\n",
       "    <tr>\n",
       "      <th>4</th>\n",
       "      <td>7651065</td>\n",
       "      <td>https://www.airbnb.com/rooms/7651065</td>\n",
       "      <td>2.016090e+13</td>\n",
       "      <td>9/7/16</td>\n",
       "      <td>Come Home to Boston</td>\n",
       "      <td>My comfy, clean and relaxing home is one block...</td>\n",
       "      <td>Clean, attractive, private room, one block fro...</td>\n",
       "      <td>My comfy, clean and relaxing home is one block...</td>\n",
       "      <td>none</td>\n",
       "      <td>I love the proximity to downtown, the neighbor...</td>\n",
       "      <td>...</td>\n",
       "      <td>10.0</td>\n",
       "      <td>f</td>\n",
       "      <td>NaN</td>\n",
       "      <td>NaN</td>\n",
       "      <td>f</td>\n",
       "      <td>flexible</td>\n",
       "      <td>f</td>\n",
       "      <td>f</td>\n",
       "      <td>1</td>\n",
       "      <td>2.25</td>\n",
       "    </tr>\n",
       "  </tbody>\n",
       "</table>\n",
       "<p>5 rows × 95 columns</p>\n",
       "</div>"
      ],
      "text/plain": [
       "         id                            listing_url     scrape_id last_scraped  \\\n",
       "0  12147973  https://www.airbnb.com/rooms/12147973  2.016090e+13       9/7/16   \n",
       "1   3075044   https://www.airbnb.com/rooms/3075044  2.016090e+13       9/7/16   \n",
       "2      6976      https://www.airbnb.com/rooms/6976  2.016090e+13       9/7/16   \n",
       "3   1436513   https://www.airbnb.com/rooms/1436513  2.016090e+13       9/7/16   \n",
       "4   7651065   https://www.airbnb.com/rooms/7651065  2.016090e+13       9/7/16   \n",
       "\n",
       "                                            name  \\\n",
       "0                     Sunny Bungalow in the City   \n",
       "1              Charming room in pet friendly apt   \n",
       "2               Mexican Folk Art Haven in Boston   \n",
       "3  Spacious Sunny Bedroom Suite in Historic Home   \n",
       "4                            Come Home to Boston   \n",
       "\n",
       "                                             summary  \\\n",
       "0  Cozy, sunny, family home.  Master bedroom high...   \n",
       "1  Charming and quiet room in a second floor 1910...   \n",
       "2  Come stay with a friendly, middle-aged guy in ...   \n",
       "3  Come experience the comforts of home away from...   \n",
       "4  My comfy, clean and relaxing home is one block...   \n",
       "\n",
       "                                               space  \\\n",
       "0  The house has an open and cozy feel at the sam...   \n",
       "1  Small but cozy and quite room with a full size...   \n",
       "2  Come stay with a friendly, middle-aged guy in ...   \n",
       "3  Most places you find in Boston are small howev...   \n",
       "4  Clean, attractive, private room, one block fro...   \n",
       "\n",
       "                                         description experiences_offered  \\\n",
       "0  Cozy, sunny, family home.  Master bedroom high...                none   \n",
       "1  Charming and quiet room in a second floor 1910...                none   \n",
       "2  Come stay with a friendly, middle-aged guy in ...                none   \n",
       "3  Come experience the comforts of home away from...                none   \n",
       "4  My comfy, clean and relaxing home is one block...                none   \n",
       "\n",
       "                               neighborhood_overview  ... review_scores_value  \\\n",
       "0  Roslindale is quiet, convenient and friendly. ...  ...                 NaN   \n",
       "1  The room is in Roslindale, a diverse and prima...  ...                 9.0   \n",
       "2  The LOCATION: Roslindale is a safe and diverse...  ...                10.0   \n",
       "3  Roslindale is a lovely little neighborhood loc...  ...                10.0   \n",
       "4  I love the proximity to downtown, the neighbor...  ...                10.0   \n",
       "\n",
       "  requires_license license jurisdiction_names instant_bookable  \\\n",
       "0                f     NaN                NaN                f   \n",
       "1                f     NaN                NaN                t   \n",
       "2                f     NaN                NaN                f   \n",
       "3                f     NaN                NaN                f   \n",
       "4                f     NaN                NaN                f   \n",
       "\n",
       "  cancellation_policy require_guest_profile_picture  \\\n",
       "0            moderate                             f   \n",
       "1            moderate                             f   \n",
       "2            moderate                             t   \n",
       "3            moderate                             f   \n",
       "4            flexible                             f   \n",
       "\n",
       "  require_guest_phone_verification calculated_host_listings_count  \\\n",
       "0                                f                              1   \n",
       "1                                f                              1   \n",
       "2                                f                              1   \n",
       "3                                f                              1   \n",
       "4                                f                              1   \n",
       "\n",
       "   reviews_per_month  \n",
       "0                NaN  \n",
       "1               1.30  \n",
       "2               0.47  \n",
       "3               1.00  \n",
       "4               2.25  \n",
       "\n",
       "[5 rows x 95 columns]"
      ]
     },
     "execution_count": 455,
     "metadata": {},
     "output_type": "execute_result"
    }
   ],
   "source": [
    "import numpy as np\n",
    "import pandas as pd\n",
    "import matplotlib.pyplot as plt\n",
    "from collections import defaultdict\n",
    "from sklearn.linear_model import LinearRegression\n",
    "from sklearn.model_selection import train_test_split\n",
    "from sklearn.metrics import r2_score, mean_squared_error\n",
    "from sklearn import preprocessing\n",
    "import prepare_data_functions as t\n",
    "import seaborn as sns\n",
    "%matplotlib inline\n",
    "\n",
    "cf = pd.read_csv('./boston/calendar.csv')\n",
    "lf = pd.read_csv('./boston/listings.csv')\n",
    "rf = pd.read_csv('./boston/reviews.csv')\n",
    "\n",
    "lf.head()\n"
   ]
  },
  {
   "cell_type": "code",
   "execution_count": 1361,
   "id": "revolutionary-writer",
   "metadata": {},
   "outputs": [
    {
     "data": {
      "text/html": [
       "<div>\n",
       "<style scoped>\n",
       "    .dataframe tbody tr th:only-of-type {\n",
       "        vertical-align: middle;\n",
       "    }\n",
       "\n",
       "    .dataframe tbody tr th {\n",
       "        vertical-align: top;\n",
       "    }\n",
       "\n",
       "    .dataframe thead th {\n",
       "        text-align: right;\n",
       "    }\n",
       "</style>\n",
       "<table border=\"1\" class=\"dataframe\">\n",
       "  <thead>\n",
       "    <tr style=\"text-align: right;\">\n",
       "      <th></th>\n",
       "      <th>id</th>\n",
       "      <th>scrape_id</th>\n",
       "      <th>host_id</th>\n",
       "      <th>host_listings_count</th>\n",
       "      <th>host_total_listings_count</th>\n",
       "      <th>neighbourhood_group_cleansed</th>\n",
       "      <th>latitude</th>\n",
       "      <th>longitude</th>\n",
       "      <th>accommodates</th>\n",
       "      <th>bathrooms</th>\n",
       "      <th>...</th>\n",
       "      <th>review_scores_accuracy</th>\n",
       "      <th>review_scores_cleanliness</th>\n",
       "      <th>review_scores_checkin</th>\n",
       "      <th>review_scores_communication</th>\n",
       "      <th>review_scores_location</th>\n",
       "      <th>review_scores_value</th>\n",
       "      <th>license</th>\n",
       "      <th>jurisdiction_names</th>\n",
       "      <th>calculated_host_listings_count</th>\n",
       "      <th>reviews_per_month</th>\n",
       "    </tr>\n",
       "  </thead>\n",
       "  <tbody>\n",
       "    <tr>\n",
       "      <th>count</th>\n",
       "      <td>3.585000e+03</td>\n",
       "      <td>3.585000e+03</td>\n",
       "      <td>3.585000e+03</td>\n",
       "      <td>3585.000000</td>\n",
       "      <td>3585.000000</td>\n",
       "      <td>0.0</td>\n",
       "      <td>3585.000000</td>\n",
       "      <td>3585.000000</td>\n",
       "      <td>3585.000000</td>\n",
       "      <td>3571.000000</td>\n",
       "      <td>...</td>\n",
       "      <td>2762.000000</td>\n",
       "      <td>2767.000000</td>\n",
       "      <td>2765.000000</td>\n",
       "      <td>2767.000000</td>\n",
       "      <td>2763.000000</td>\n",
       "      <td>2764.000000</td>\n",
       "      <td>0.0</td>\n",
       "      <td>0.0</td>\n",
       "      <td>3585.000000</td>\n",
       "      <td>2829.000000</td>\n",
       "    </tr>\n",
       "    <tr>\n",
       "      <th>mean</th>\n",
       "      <td>8.440875e+06</td>\n",
       "      <td>2.016090e+13</td>\n",
       "      <td>2.492311e+07</td>\n",
       "      <td>58.902371</td>\n",
       "      <td>58.902371</td>\n",
       "      <td>NaN</td>\n",
       "      <td>42.340032</td>\n",
       "      <td>-71.084818</td>\n",
       "      <td>3.041283</td>\n",
       "      <td>1.221647</td>\n",
       "      <td>...</td>\n",
       "      <td>9.431571</td>\n",
       "      <td>9.258041</td>\n",
       "      <td>9.646293</td>\n",
       "      <td>9.646549</td>\n",
       "      <td>9.414043</td>\n",
       "      <td>9.168234</td>\n",
       "      <td>NaN</td>\n",
       "      <td>NaN</td>\n",
       "      <td>12.733891</td>\n",
       "      <td>1.970908</td>\n",
       "    </tr>\n",
       "    <tr>\n",
       "      <th>std</th>\n",
       "      <td>4.500787e+06</td>\n",
       "      <td>0.000000e+00</td>\n",
       "      <td>2.292781e+07</td>\n",
       "      <td>171.119663</td>\n",
       "      <td>171.119663</td>\n",
       "      <td>NaN</td>\n",
       "      <td>0.024403</td>\n",
       "      <td>0.031565</td>\n",
       "      <td>1.778929</td>\n",
       "      <td>0.501487</td>\n",
       "      <td>...</td>\n",
       "      <td>0.931863</td>\n",
       "      <td>1.168977</td>\n",
       "      <td>0.762753</td>\n",
       "      <td>0.735507</td>\n",
       "      <td>0.903436</td>\n",
       "      <td>1.011116</td>\n",
       "      <td>NaN</td>\n",
       "      <td>NaN</td>\n",
       "      <td>29.415076</td>\n",
       "      <td>2.120561</td>\n",
       "    </tr>\n",
       "    <tr>\n",
       "      <th>min</th>\n",
       "      <td>3.353000e+03</td>\n",
       "      <td>2.016090e+13</td>\n",
       "      <td>4.240000e+03</td>\n",
       "      <td>0.000000</td>\n",
       "      <td>0.000000</td>\n",
       "      <td>NaN</td>\n",
       "      <td>42.235942</td>\n",
       "      <td>-71.171789</td>\n",
       "      <td>1.000000</td>\n",
       "      <td>0.000000</td>\n",
       "      <td>...</td>\n",
       "      <td>2.000000</td>\n",
       "      <td>2.000000</td>\n",
       "      <td>2.000000</td>\n",
       "      <td>4.000000</td>\n",
       "      <td>2.000000</td>\n",
       "      <td>2.000000</td>\n",
       "      <td>NaN</td>\n",
       "      <td>NaN</td>\n",
       "      <td>1.000000</td>\n",
       "      <td>0.010000</td>\n",
       "    </tr>\n",
       "    <tr>\n",
       "      <th>25%</th>\n",
       "      <td>4.679319e+06</td>\n",
       "      <td>2.016090e+13</td>\n",
       "      <td>6.103425e+06</td>\n",
       "      <td>1.000000</td>\n",
       "      <td>1.000000</td>\n",
       "      <td>NaN</td>\n",
       "      <td>42.329995</td>\n",
       "      <td>-71.105083</td>\n",
       "      <td>2.000000</td>\n",
       "      <td>1.000000</td>\n",
       "      <td>...</td>\n",
       "      <td>9.000000</td>\n",
       "      <td>9.000000</td>\n",
       "      <td>9.000000</td>\n",
       "      <td>9.000000</td>\n",
       "      <td>9.000000</td>\n",
       "      <td>9.000000</td>\n",
       "      <td>NaN</td>\n",
       "      <td>NaN</td>\n",
       "      <td>1.000000</td>\n",
       "      <td>0.480000</td>\n",
       "    </tr>\n",
       "    <tr>\n",
       "      <th>50%</th>\n",
       "      <td>8.577620e+06</td>\n",
       "      <td>2.016090e+13</td>\n",
       "      <td>1.928100e+07</td>\n",
       "      <td>2.000000</td>\n",
       "      <td>2.000000</td>\n",
       "      <td>NaN</td>\n",
       "      <td>42.345201</td>\n",
       "      <td>-71.078429</td>\n",
       "      <td>2.000000</td>\n",
       "      <td>1.000000</td>\n",
       "      <td>...</td>\n",
       "      <td>10.000000</td>\n",
       "      <td>10.000000</td>\n",
       "      <td>10.000000</td>\n",
       "      <td>10.000000</td>\n",
       "      <td>10.000000</td>\n",
       "      <td>9.000000</td>\n",
       "      <td>NaN</td>\n",
       "      <td>NaN</td>\n",
       "      <td>2.000000</td>\n",
       "      <td>1.170000</td>\n",
       "    </tr>\n",
       "    <tr>\n",
       "      <th>75%</th>\n",
       "      <td>1.278953e+07</td>\n",
       "      <td>2.016090e+13</td>\n",
       "      <td>3.622147e+07</td>\n",
       "      <td>7.000000</td>\n",
       "      <td>7.000000</td>\n",
       "      <td>NaN</td>\n",
       "      <td>42.354685</td>\n",
       "      <td>-71.062155</td>\n",
       "      <td>4.000000</td>\n",
       "      <td>1.000000</td>\n",
       "      <td>...</td>\n",
       "      <td>10.000000</td>\n",
       "      <td>10.000000</td>\n",
       "      <td>10.000000</td>\n",
       "      <td>10.000000</td>\n",
       "      <td>10.000000</td>\n",
       "      <td>10.000000</td>\n",
       "      <td>NaN</td>\n",
       "      <td>NaN</td>\n",
       "      <td>6.000000</td>\n",
       "      <td>2.720000</td>\n",
       "    </tr>\n",
       "    <tr>\n",
       "      <th>max</th>\n",
       "      <td>1.493346e+07</td>\n",
       "      <td>2.016090e+13</td>\n",
       "      <td>9.385411e+07</td>\n",
       "      <td>749.000000</td>\n",
       "      <td>749.000000</td>\n",
       "      <td>NaN</td>\n",
       "      <td>42.389982</td>\n",
       "      <td>-71.000100</td>\n",
       "      <td>16.000000</td>\n",
       "      <td>6.000000</td>\n",
       "      <td>...</td>\n",
       "      <td>10.000000</td>\n",
       "      <td>10.000000</td>\n",
       "      <td>10.000000</td>\n",
       "      <td>10.000000</td>\n",
       "      <td>10.000000</td>\n",
       "      <td>10.000000</td>\n",
       "      <td>NaN</td>\n",
       "      <td>NaN</td>\n",
       "      <td>136.000000</td>\n",
       "      <td>19.150000</td>\n",
       "    </tr>\n",
       "  </tbody>\n",
       "</table>\n",
       "<p>8 rows × 33 columns</p>\n",
       "</div>"
      ],
      "text/plain": [
       "                 id     scrape_id       host_id  host_listings_count  \\\n",
       "count  3.585000e+03  3.585000e+03  3.585000e+03          3585.000000   \n",
       "mean   8.440875e+06  2.016090e+13  2.492311e+07            58.902371   \n",
       "std    4.500787e+06  0.000000e+00  2.292781e+07           171.119663   \n",
       "min    3.353000e+03  2.016090e+13  4.240000e+03             0.000000   \n",
       "25%    4.679319e+06  2.016090e+13  6.103425e+06             1.000000   \n",
       "50%    8.577620e+06  2.016090e+13  1.928100e+07             2.000000   \n",
       "75%    1.278953e+07  2.016090e+13  3.622147e+07             7.000000   \n",
       "max    1.493346e+07  2.016090e+13  9.385411e+07           749.000000   \n",
       "\n",
       "       host_total_listings_count  neighbourhood_group_cleansed     latitude  \\\n",
       "count                3585.000000                           0.0  3585.000000   \n",
       "mean                   58.902371                           NaN    42.340032   \n",
       "std                   171.119663                           NaN     0.024403   \n",
       "min                     0.000000                           NaN    42.235942   \n",
       "25%                     1.000000                           NaN    42.329995   \n",
       "50%                     2.000000                           NaN    42.345201   \n",
       "75%                     7.000000                           NaN    42.354685   \n",
       "max                   749.000000                           NaN    42.389982   \n",
       "\n",
       "         longitude  accommodates    bathrooms  ...  review_scores_accuracy  \\\n",
       "count  3585.000000   3585.000000  3571.000000  ...             2762.000000   \n",
       "mean    -71.084818      3.041283     1.221647  ...                9.431571   \n",
       "std       0.031565      1.778929     0.501487  ...                0.931863   \n",
       "min     -71.171789      1.000000     0.000000  ...                2.000000   \n",
       "25%     -71.105083      2.000000     1.000000  ...                9.000000   \n",
       "50%     -71.078429      2.000000     1.000000  ...               10.000000   \n",
       "75%     -71.062155      4.000000     1.000000  ...               10.000000   \n",
       "max     -71.000100     16.000000     6.000000  ...               10.000000   \n",
       "\n",
       "       review_scores_cleanliness  review_scores_checkin  \\\n",
       "count                2767.000000            2765.000000   \n",
       "mean                    9.258041               9.646293   \n",
       "std                     1.168977               0.762753   \n",
       "min                     2.000000               2.000000   \n",
       "25%                     9.000000               9.000000   \n",
       "50%                    10.000000              10.000000   \n",
       "75%                    10.000000              10.000000   \n",
       "max                    10.000000              10.000000   \n",
       "\n",
       "       review_scores_communication  review_scores_location  \\\n",
       "count                  2767.000000             2763.000000   \n",
       "mean                      9.646549                9.414043   \n",
       "std                       0.735507                0.903436   \n",
       "min                       4.000000                2.000000   \n",
       "25%                       9.000000                9.000000   \n",
       "50%                      10.000000               10.000000   \n",
       "75%                      10.000000               10.000000   \n",
       "max                      10.000000               10.000000   \n",
       "\n",
       "       review_scores_value  license  jurisdiction_names  \\\n",
       "count          2764.000000      0.0                 0.0   \n",
       "mean              9.168234      NaN                 NaN   \n",
       "std               1.011116      NaN                 NaN   \n",
       "min               2.000000      NaN                 NaN   \n",
       "25%               9.000000      NaN                 NaN   \n",
       "50%               9.000000      NaN                 NaN   \n",
       "75%              10.000000      NaN                 NaN   \n",
       "max              10.000000      NaN                 NaN   \n",
       "\n",
       "       calculated_host_listings_count  reviews_per_month  \n",
       "count                     3585.000000        2829.000000  \n",
       "mean                        12.733891           1.970908  \n",
       "std                         29.415076           2.120561  \n",
       "min                          1.000000           0.010000  \n",
       "25%                          1.000000           0.480000  \n",
       "50%                          2.000000           1.170000  \n",
       "75%                          6.000000           2.720000  \n",
       "max                        136.000000          19.150000  \n",
       "\n",
       "[8 rows x 33 columns]"
      ]
     },
     "execution_count": 1361,
     "metadata": {},
     "output_type": "execute_result"
    }
   ],
   "source": [
    "lf.describe()"
   ]
  },
  {
   "cell_type": "code",
   "execution_count": 3,
   "id": "special-crown",
   "metadata": {},
   "outputs": [
    {
     "data": {
      "text/plain": [
       "(3585, 95)"
      ]
     },
     "execution_count": 3,
     "metadata": {},
     "output_type": "execute_result"
    }
   ],
   "source": [
    "lf.shape"
   ]
  },
  {
   "cell_type": "code",
   "execution_count": 1363,
   "id": "finished-terminal",
   "metadata": {},
   "outputs": [
    {
     "data": {
      "text/html": [
       "<div>\n",
       "<style scoped>\n",
       "    .dataframe tbody tr th:only-of-type {\n",
       "        vertical-align: middle;\n",
       "    }\n",
       "\n",
       "    .dataframe tbody tr th {\n",
       "        vertical-align: top;\n",
       "    }\n",
       "\n",
       "    .dataframe thead th {\n",
       "        text-align: right;\n",
       "    }\n",
       "</style>\n",
       "<table border=\"1\" class=\"dataframe\">\n",
       "  <thead>\n",
       "    <tr style=\"text-align: right;\">\n",
       "      <th></th>\n",
       "      <th>listing_id</th>\n",
       "      <th>date</th>\n",
       "      <th>available</th>\n",
       "      <th>price</th>\n",
       "    </tr>\n",
       "  </thead>\n",
       "  <tbody>\n",
       "    <tr>\n",
       "      <th>0</th>\n",
       "      <td>12147973</td>\n",
       "      <td>2017-09-05</td>\n",
       "      <td>f</td>\n",
       "      <td>NaN</td>\n",
       "    </tr>\n",
       "    <tr>\n",
       "      <th>1</th>\n",
       "      <td>12147973</td>\n",
       "      <td>2017-09-04</td>\n",
       "      <td>f</td>\n",
       "      <td>NaN</td>\n",
       "    </tr>\n",
       "    <tr>\n",
       "      <th>2</th>\n",
       "      <td>12147973</td>\n",
       "      <td>2017-09-03</td>\n",
       "      <td>f</td>\n",
       "      <td>NaN</td>\n",
       "    </tr>\n",
       "    <tr>\n",
       "      <th>3</th>\n",
       "      <td>12147973</td>\n",
       "      <td>2017-09-02</td>\n",
       "      <td>f</td>\n",
       "      <td>NaN</td>\n",
       "    </tr>\n",
       "    <tr>\n",
       "      <th>4</th>\n",
       "      <td>12147973</td>\n",
       "      <td>2017-09-01</td>\n",
       "      <td>f</td>\n",
       "      <td>NaN</td>\n",
       "    </tr>\n",
       "  </tbody>\n",
       "</table>\n",
       "</div>"
      ],
      "text/plain": [
       "   listing_id        date available price\n",
       "0    12147973  2017-09-05         f   NaN\n",
       "1    12147973  2017-09-04         f   NaN\n",
       "2    12147973  2017-09-03         f   NaN\n",
       "3    12147973  2017-09-02         f   NaN\n",
       "4    12147973  2017-09-01         f   NaN"
      ]
     },
     "execution_count": 1363,
     "metadata": {},
     "output_type": "execute_result"
    }
   ],
   "source": [
    "cf.head()"
   ]
  },
  {
   "cell_type": "code",
   "execution_count": 1364,
   "id": "beginning-hunger",
   "metadata": {
    "scrolled": true
   },
   "outputs": [
    {
     "data": {
      "text/html": [
       "<div>\n",
       "<style scoped>\n",
       "    .dataframe tbody tr th:only-of-type {\n",
       "        vertical-align: middle;\n",
       "    }\n",
       "\n",
       "    .dataframe tbody tr th {\n",
       "        vertical-align: top;\n",
       "    }\n",
       "\n",
       "    .dataframe thead th {\n",
       "        text-align: right;\n",
       "    }\n",
       "</style>\n",
       "<table border=\"1\" class=\"dataframe\">\n",
       "  <thead>\n",
       "    <tr style=\"text-align: right;\">\n",
       "      <th></th>\n",
       "      <th>id</th>\n",
       "      <th>listing_url</th>\n",
       "      <th>scrape_id</th>\n",
       "      <th>last_scraped</th>\n",
       "      <th>name</th>\n",
       "      <th>summary</th>\n",
       "      <th>space</th>\n",
       "      <th>description</th>\n",
       "      <th>experiences_offered</th>\n",
       "      <th>neighborhood_overview</th>\n",
       "      <th>...</th>\n",
       "      <th>review_scores_value</th>\n",
       "      <th>requires_license</th>\n",
       "      <th>license</th>\n",
       "      <th>jurisdiction_names</th>\n",
       "      <th>instant_bookable</th>\n",
       "      <th>cancellation_policy</th>\n",
       "      <th>require_guest_profile_picture</th>\n",
       "      <th>require_guest_phone_verification</th>\n",
       "      <th>calculated_host_listings_count</th>\n",
       "      <th>reviews_per_month</th>\n",
       "    </tr>\n",
       "  </thead>\n",
       "  <tbody>\n",
       "    <tr>\n",
       "      <th>0</th>\n",
       "      <td>12147973</td>\n",
       "      <td>https://www.airbnb.com/rooms/12147973</td>\n",
       "      <td>2.016090e+13</td>\n",
       "      <td>9/7/16</td>\n",
       "      <td>Sunny Bungalow in the City</td>\n",
       "      <td>Cozy, sunny, family home.  Master bedroom high...</td>\n",
       "      <td>The house has an open and cozy feel at the sam...</td>\n",
       "      <td>Cozy, sunny, family home.  Master bedroom high...</td>\n",
       "      <td>none</td>\n",
       "      <td>Roslindale is quiet, convenient and friendly. ...</td>\n",
       "      <td>...</td>\n",
       "      <td>NaN</td>\n",
       "      <td>f</td>\n",
       "      <td>NaN</td>\n",
       "      <td>NaN</td>\n",
       "      <td>f</td>\n",
       "      <td>moderate</td>\n",
       "      <td>f</td>\n",
       "      <td>f</td>\n",
       "      <td>1</td>\n",
       "      <td>NaN</td>\n",
       "    </tr>\n",
       "    <tr>\n",
       "      <th>1</th>\n",
       "      <td>3075044</td>\n",
       "      <td>https://www.airbnb.com/rooms/3075044</td>\n",
       "      <td>2.016090e+13</td>\n",
       "      <td>9/7/16</td>\n",
       "      <td>Charming room in pet friendly apt</td>\n",
       "      <td>Charming and quiet room in a second floor 1910...</td>\n",
       "      <td>Small but cozy and quite room with a full size...</td>\n",
       "      <td>Charming and quiet room in a second floor 1910...</td>\n",
       "      <td>none</td>\n",
       "      <td>The room is in Roslindale, a diverse and prima...</td>\n",
       "      <td>...</td>\n",
       "      <td>9.0</td>\n",
       "      <td>f</td>\n",
       "      <td>NaN</td>\n",
       "      <td>NaN</td>\n",
       "      <td>t</td>\n",
       "      <td>moderate</td>\n",
       "      <td>f</td>\n",
       "      <td>f</td>\n",
       "      <td>1</td>\n",
       "      <td>1.30</td>\n",
       "    </tr>\n",
       "    <tr>\n",
       "      <th>2</th>\n",
       "      <td>6976</td>\n",
       "      <td>https://www.airbnb.com/rooms/6976</td>\n",
       "      <td>2.016090e+13</td>\n",
       "      <td>9/7/16</td>\n",
       "      <td>Mexican Folk Art Haven in Boston</td>\n",
       "      <td>Come stay with a friendly, middle-aged guy in ...</td>\n",
       "      <td>Come stay with a friendly, middle-aged guy in ...</td>\n",
       "      <td>Come stay with a friendly, middle-aged guy in ...</td>\n",
       "      <td>none</td>\n",
       "      <td>The LOCATION: Roslindale is a safe and diverse...</td>\n",
       "      <td>...</td>\n",
       "      <td>10.0</td>\n",
       "      <td>f</td>\n",
       "      <td>NaN</td>\n",
       "      <td>NaN</td>\n",
       "      <td>f</td>\n",
       "      <td>moderate</td>\n",
       "      <td>t</td>\n",
       "      <td>f</td>\n",
       "      <td>1</td>\n",
       "      <td>0.47</td>\n",
       "    </tr>\n",
       "    <tr>\n",
       "      <th>3</th>\n",
       "      <td>1436513</td>\n",
       "      <td>https://www.airbnb.com/rooms/1436513</td>\n",
       "      <td>2.016090e+13</td>\n",
       "      <td>9/7/16</td>\n",
       "      <td>Spacious Sunny Bedroom Suite in Historic Home</td>\n",
       "      <td>Come experience the comforts of home away from...</td>\n",
       "      <td>Most places you find in Boston are small howev...</td>\n",
       "      <td>Come experience the comforts of home away from...</td>\n",
       "      <td>none</td>\n",
       "      <td>Roslindale is a lovely little neighborhood loc...</td>\n",
       "      <td>...</td>\n",
       "      <td>10.0</td>\n",
       "      <td>f</td>\n",
       "      <td>NaN</td>\n",
       "      <td>NaN</td>\n",
       "      <td>f</td>\n",
       "      <td>moderate</td>\n",
       "      <td>f</td>\n",
       "      <td>f</td>\n",
       "      <td>1</td>\n",
       "      <td>1.00</td>\n",
       "    </tr>\n",
       "    <tr>\n",
       "      <th>4</th>\n",
       "      <td>7651065</td>\n",
       "      <td>https://www.airbnb.com/rooms/7651065</td>\n",
       "      <td>2.016090e+13</td>\n",
       "      <td>9/7/16</td>\n",
       "      <td>Come Home to Boston</td>\n",
       "      <td>My comfy, clean and relaxing home is one block...</td>\n",
       "      <td>Clean, attractive, private room, one block fro...</td>\n",
       "      <td>My comfy, clean and relaxing home is one block...</td>\n",
       "      <td>none</td>\n",
       "      <td>I love the proximity to downtown, the neighbor...</td>\n",
       "      <td>...</td>\n",
       "      <td>10.0</td>\n",
       "      <td>f</td>\n",
       "      <td>NaN</td>\n",
       "      <td>NaN</td>\n",
       "      <td>f</td>\n",
       "      <td>flexible</td>\n",
       "      <td>f</td>\n",
       "      <td>f</td>\n",
       "      <td>1</td>\n",
       "      <td>2.25</td>\n",
       "    </tr>\n",
       "  </tbody>\n",
       "</table>\n",
       "<p>5 rows × 95 columns</p>\n",
       "</div>"
      ],
      "text/plain": [
       "         id                            listing_url     scrape_id last_scraped  \\\n",
       "0  12147973  https://www.airbnb.com/rooms/12147973  2.016090e+13       9/7/16   \n",
       "1   3075044   https://www.airbnb.com/rooms/3075044  2.016090e+13       9/7/16   \n",
       "2      6976      https://www.airbnb.com/rooms/6976  2.016090e+13       9/7/16   \n",
       "3   1436513   https://www.airbnb.com/rooms/1436513  2.016090e+13       9/7/16   \n",
       "4   7651065   https://www.airbnb.com/rooms/7651065  2.016090e+13       9/7/16   \n",
       "\n",
       "                                            name  \\\n",
       "0                     Sunny Bungalow in the City   \n",
       "1              Charming room in pet friendly apt   \n",
       "2               Mexican Folk Art Haven in Boston   \n",
       "3  Spacious Sunny Bedroom Suite in Historic Home   \n",
       "4                            Come Home to Boston   \n",
       "\n",
       "                                             summary  \\\n",
       "0  Cozy, sunny, family home.  Master bedroom high...   \n",
       "1  Charming and quiet room in a second floor 1910...   \n",
       "2  Come stay with a friendly, middle-aged guy in ...   \n",
       "3  Come experience the comforts of home away from...   \n",
       "4  My comfy, clean and relaxing home is one block...   \n",
       "\n",
       "                                               space  \\\n",
       "0  The house has an open and cozy feel at the sam...   \n",
       "1  Small but cozy and quite room with a full size...   \n",
       "2  Come stay with a friendly, middle-aged guy in ...   \n",
       "3  Most places you find in Boston are small howev...   \n",
       "4  Clean, attractive, private room, one block fro...   \n",
       "\n",
       "                                         description experiences_offered  \\\n",
       "0  Cozy, sunny, family home.  Master bedroom high...                none   \n",
       "1  Charming and quiet room in a second floor 1910...                none   \n",
       "2  Come stay with a friendly, middle-aged guy in ...                none   \n",
       "3  Come experience the comforts of home away from...                none   \n",
       "4  My comfy, clean and relaxing home is one block...                none   \n",
       "\n",
       "                               neighborhood_overview  ... review_scores_value  \\\n",
       "0  Roslindale is quiet, convenient and friendly. ...  ...                 NaN   \n",
       "1  The room is in Roslindale, a diverse and prima...  ...                 9.0   \n",
       "2  The LOCATION: Roslindale is a safe and diverse...  ...                10.0   \n",
       "3  Roslindale is a lovely little neighborhood loc...  ...                10.0   \n",
       "4  I love the proximity to downtown, the neighbor...  ...                10.0   \n",
       "\n",
       "  requires_license license jurisdiction_names instant_bookable  \\\n",
       "0                f     NaN                NaN                f   \n",
       "1                f     NaN                NaN                t   \n",
       "2                f     NaN                NaN                f   \n",
       "3                f     NaN                NaN                f   \n",
       "4                f     NaN                NaN                f   \n",
       "\n",
       "  cancellation_policy require_guest_profile_picture  \\\n",
       "0            moderate                             f   \n",
       "1            moderate                             f   \n",
       "2            moderate                             t   \n",
       "3            moderate                             f   \n",
       "4            flexible                             f   \n",
       "\n",
       "  require_guest_phone_verification calculated_host_listings_count  \\\n",
       "0                                f                              1   \n",
       "1                                f                              1   \n",
       "2                                f                              1   \n",
       "3                                f                              1   \n",
       "4                                f                              1   \n",
       "\n",
       "   reviews_per_month  \n",
       "0                NaN  \n",
       "1               1.30  \n",
       "2               0.47  \n",
       "3               1.00  \n",
       "4               2.25  \n",
       "\n",
       "[5 rows x 95 columns]"
      ]
     },
     "execution_count": 1364,
     "metadata": {},
     "output_type": "execute_result"
    }
   ],
   "source": [
    "lf.head()"
   ]
  },
  {
   "cell_type": "code",
   "execution_count": 108,
   "id": "charitable-minute",
   "metadata": {},
   "outputs": [
    {
     "data": {
      "text/html": [
       "<div>\n",
       "<style scoped>\n",
       "    .dataframe tbody tr th:only-of-type {\n",
       "        vertical-align: middle;\n",
       "    }\n",
       "\n",
       "    .dataframe tbody tr th {\n",
       "        vertical-align: top;\n",
       "    }\n",
       "\n",
       "    .dataframe thead th {\n",
       "        text-align: right;\n",
       "    }\n",
       "</style>\n",
       "<table border=\"1\" class=\"dataframe\">\n",
       "  <thead>\n",
       "    <tr style=\"text-align: right;\">\n",
       "      <th></th>\n",
       "      <th>id</th>\n",
       "      <th>scrape_id</th>\n",
       "      <th>host_id</th>\n",
       "      <th>host_listings_count</th>\n",
       "      <th>host_total_listings_count</th>\n",
       "      <th>neighbourhood_group_cleansed</th>\n",
       "      <th>latitude</th>\n",
       "      <th>longitude</th>\n",
       "      <th>accommodates</th>\n",
       "      <th>bathrooms</th>\n",
       "      <th>...</th>\n",
       "      <th>review_scores_accuracy</th>\n",
       "      <th>review_scores_cleanliness</th>\n",
       "      <th>review_scores_checkin</th>\n",
       "      <th>review_scores_communication</th>\n",
       "      <th>review_scores_location</th>\n",
       "      <th>review_scores_value</th>\n",
       "      <th>license</th>\n",
       "      <th>jurisdiction_names</th>\n",
       "      <th>calculated_host_listings_count</th>\n",
       "      <th>reviews_per_month</th>\n",
       "    </tr>\n",
       "  </thead>\n",
       "  <tbody>\n",
       "    <tr>\n",
       "      <th>count</th>\n",
       "      <td>3.585000e+03</td>\n",
       "      <td>3.585000e+03</td>\n",
       "      <td>3.585000e+03</td>\n",
       "      <td>3585.000000</td>\n",
       "      <td>3585.000000</td>\n",
       "      <td>0.0</td>\n",
       "      <td>3585.000000</td>\n",
       "      <td>3585.000000</td>\n",
       "      <td>3585.000000</td>\n",
       "      <td>3571.000000</td>\n",
       "      <td>...</td>\n",
       "      <td>2762.000000</td>\n",
       "      <td>2767.000000</td>\n",
       "      <td>2765.000000</td>\n",
       "      <td>2767.000000</td>\n",
       "      <td>2763.000000</td>\n",
       "      <td>2764.000000</td>\n",
       "      <td>0.0</td>\n",
       "      <td>0.0</td>\n",
       "      <td>3585.000000</td>\n",
       "      <td>2829.000000</td>\n",
       "    </tr>\n",
       "    <tr>\n",
       "      <th>mean</th>\n",
       "      <td>8.440875e+06</td>\n",
       "      <td>2.016090e+13</td>\n",
       "      <td>2.492311e+07</td>\n",
       "      <td>58.902371</td>\n",
       "      <td>58.902371</td>\n",
       "      <td>NaN</td>\n",
       "      <td>42.340032</td>\n",
       "      <td>-71.084818</td>\n",
       "      <td>3.041283</td>\n",
       "      <td>1.221647</td>\n",
       "      <td>...</td>\n",
       "      <td>9.431571</td>\n",
       "      <td>9.258041</td>\n",
       "      <td>9.646293</td>\n",
       "      <td>9.646549</td>\n",
       "      <td>9.414043</td>\n",
       "      <td>9.168234</td>\n",
       "      <td>NaN</td>\n",
       "      <td>NaN</td>\n",
       "      <td>12.733891</td>\n",
       "      <td>1.970908</td>\n",
       "    </tr>\n",
       "    <tr>\n",
       "      <th>std</th>\n",
       "      <td>4.500787e+06</td>\n",
       "      <td>0.000000e+00</td>\n",
       "      <td>2.292781e+07</td>\n",
       "      <td>171.119663</td>\n",
       "      <td>171.119663</td>\n",
       "      <td>NaN</td>\n",
       "      <td>0.024403</td>\n",
       "      <td>0.031565</td>\n",
       "      <td>1.778929</td>\n",
       "      <td>0.501487</td>\n",
       "      <td>...</td>\n",
       "      <td>0.931863</td>\n",
       "      <td>1.168977</td>\n",
       "      <td>0.762753</td>\n",
       "      <td>0.735507</td>\n",
       "      <td>0.903436</td>\n",
       "      <td>1.011116</td>\n",
       "      <td>NaN</td>\n",
       "      <td>NaN</td>\n",
       "      <td>29.415076</td>\n",
       "      <td>2.120561</td>\n",
       "    </tr>\n",
       "    <tr>\n",
       "      <th>min</th>\n",
       "      <td>3.353000e+03</td>\n",
       "      <td>2.016090e+13</td>\n",
       "      <td>4.240000e+03</td>\n",
       "      <td>0.000000</td>\n",
       "      <td>0.000000</td>\n",
       "      <td>NaN</td>\n",
       "      <td>42.235942</td>\n",
       "      <td>-71.171789</td>\n",
       "      <td>1.000000</td>\n",
       "      <td>0.000000</td>\n",
       "      <td>...</td>\n",
       "      <td>2.000000</td>\n",
       "      <td>2.000000</td>\n",
       "      <td>2.000000</td>\n",
       "      <td>4.000000</td>\n",
       "      <td>2.000000</td>\n",
       "      <td>2.000000</td>\n",
       "      <td>NaN</td>\n",
       "      <td>NaN</td>\n",
       "      <td>1.000000</td>\n",
       "      <td>0.010000</td>\n",
       "    </tr>\n",
       "    <tr>\n",
       "      <th>25%</th>\n",
       "      <td>4.679319e+06</td>\n",
       "      <td>2.016090e+13</td>\n",
       "      <td>6.103425e+06</td>\n",
       "      <td>1.000000</td>\n",
       "      <td>1.000000</td>\n",
       "      <td>NaN</td>\n",
       "      <td>42.329995</td>\n",
       "      <td>-71.105083</td>\n",
       "      <td>2.000000</td>\n",
       "      <td>1.000000</td>\n",
       "      <td>...</td>\n",
       "      <td>9.000000</td>\n",
       "      <td>9.000000</td>\n",
       "      <td>9.000000</td>\n",
       "      <td>9.000000</td>\n",
       "      <td>9.000000</td>\n",
       "      <td>9.000000</td>\n",
       "      <td>NaN</td>\n",
       "      <td>NaN</td>\n",
       "      <td>1.000000</td>\n",
       "      <td>0.480000</td>\n",
       "    </tr>\n",
       "    <tr>\n",
       "      <th>50%</th>\n",
       "      <td>8.577620e+06</td>\n",
       "      <td>2.016090e+13</td>\n",
       "      <td>1.928100e+07</td>\n",
       "      <td>2.000000</td>\n",
       "      <td>2.000000</td>\n",
       "      <td>NaN</td>\n",
       "      <td>42.345201</td>\n",
       "      <td>-71.078429</td>\n",
       "      <td>2.000000</td>\n",
       "      <td>1.000000</td>\n",
       "      <td>...</td>\n",
       "      <td>10.000000</td>\n",
       "      <td>10.000000</td>\n",
       "      <td>10.000000</td>\n",
       "      <td>10.000000</td>\n",
       "      <td>10.000000</td>\n",
       "      <td>9.000000</td>\n",
       "      <td>NaN</td>\n",
       "      <td>NaN</td>\n",
       "      <td>2.000000</td>\n",
       "      <td>1.170000</td>\n",
       "    </tr>\n",
       "    <tr>\n",
       "      <th>75%</th>\n",
       "      <td>1.278953e+07</td>\n",
       "      <td>2.016090e+13</td>\n",
       "      <td>3.622147e+07</td>\n",
       "      <td>7.000000</td>\n",
       "      <td>7.000000</td>\n",
       "      <td>NaN</td>\n",
       "      <td>42.354685</td>\n",
       "      <td>-71.062155</td>\n",
       "      <td>4.000000</td>\n",
       "      <td>1.000000</td>\n",
       "      <td>...</td>\n",
       "      <td>10.000000</td>\n",
       "      <td>10.000000</td>\n",
       "      <td>10.000000</td>\n",
       "      <td>10.000000</td>\n",
       "      <td>10.000000</td>\n",
       "      <td>10.000000</td>\n",
       "      <td>NaN</td>\n",
       "      <td>NaN</td>\n",
       "      <td>6.000000</td>\n",
       "      <td>2.720000</td>\n",
       "    </tr>\n",
       "    <tr>\n",
       "      <th>max</th>\n",
       "      <td>1.493346e+07</td>\n",
       "      <td>2.016090e+13</td>\n",
       "      <td>9.385411e+07</td>\n",
       "      <td>749.000000</td>\n",
       "      <td>749.000000</td>\n",
       "      <td>NaN</td>\n",
       "      <td>42.389982</td>\n",
       "      <td>-71.000100</td>\n",
       "      <td>16.000000</td>\n",
       "      <td>6.000000</td>\n",
       "      <td>...</td>\n",
       "      <td>10.000000</td>\n",
       "      <td>10.000000</td>\n",
       "      <td>10.000000</td>\n",
       "      <td>10.000000</td>\n",
       "      <td>10.000000</td>\n",
       "      <td>10.000000</td>\n",
       "      <td>NaN</td>\n",
       "      <td>NaN</td>\n",
       "      <td>136.000000</td>\n",
       "      <td>19.150000</td>\n",
       "    </tr>\n",
       "  </tbody>\n",
       "</table>\n",
       "<p>8 rows × 33 columns</p>\n",
       "</div>"
      ],
      "text/plain": [
       "                 id     scrape_id       host_id  host_listings_count  \\\n",
       "count  3.585000e+03  3.585000e+03  3.585000e+03          3585.000000   \n",
       "mean   8.440875e+06  2.016090e+13  2.492311e+07            58.902371   \n",
       "std    4.500787e+06  0.000000e+00  2.292781e+07           171.119663   \n",
       "min    3.353000e+03  2.016090e+13  4.240000e+03             0.000000   \n",
       "25%    4.679319e+06  2.016090e+13  6.103425e+06             1.000000   \n",
       "50%    8.577620e+06  2.016090e+13  1.928100e+07             2.000000   \n",
       "75%    1.278953e+07  2.016090e+13  3.622147e+07             7.000000   \n",
       "max    1.493346e+07  2.016090e+13  9.385411e+07           749.000000   \n",
       "\n",
       "       host_total_listings_count  neighbourhood_group_cleansed     latitude  \\\n",
       "count                3585.000000                           0.0  3585.000000   \n",
       "mean                   58.902371                           NaN    42.340032   \n",
       "std                   171.119663                           NaN     0.024403   \n",
       "min                     0.000000                           NaN    42.235942   \n",
       "25%                     1.000000                           NaN    42.329995   \n",
       "50%                     2.000000                           NaN    42.345201   \n",
       "75%                     7.000000                           NaN    42.354685   \n",
       "max                   749.000000                           NaN    42.389982   \n",
       "\n",
       "         longitude  accommodates    bathrooms  ...  review_scores_accuracy  \\\n",
       "count  3585.000000   3585.000000  3571.000000  ...             2762.000000   \n",
       "mean    -71.084818      3.041283     1.221647  ...                9.431571   \n",
       "std       0.031565      1.778929     0.501487  ...                0.931863   \n",
       "min     -71.171789      1.000000     0.000000  ...                2.000000   \n",
       "25%     -71.105083      2.000000     1.000000  ...                9.000000   \n",
       "50%     -71.078429      2.000000     1.000000  ...               10.000000   \n",
       "75%     -71.062155      4.000000     1.000000  ...               10.000000   \n",
       "max     -71.000100     16.000000     6.000000  ...               10.000000   \n",
       "\n",
       "       review_scores_cleanliness  review_scores_checkin  \\\n",
       "count                2767.000000            2765.000000   \n",
       "mean                    9.258041               9.646293   \n",
       "std                     1.168977               0.762753   \n",
       "min                     2.000000               2.000000   \n",
       "25%                     9.000000               9.000000   \n",
       "50%                    10.000000              10.000000   \n",
       "75%                    10.000000              10.000000   \n",
       "max                    10.000000              10.000000   \n",
       "\n",
       "       review_scores_communication  review_scores_location  \\\n",
       "count                  2767.000000             2763.000000   \n",
       "mean                      9.646549                9.414043   \n",
       "std                       0.735507                0.903436   \n",
       "min                       4.000000                2.000000   \n",
       "25%                       9.000000                9.000000   \n",
       "50%                      10.000000               10.000000   \n",
       "75%                      10.000000               10.000000   \n",
       "max                      10.000000               10.000000   \n",
       "\n",
       "       review_scores_value  license  jurisdiction_names  \\\n",
       "count          2764.000000      0.0                 0.0   \n",
       "mean              9.168234      NaN                 NaN   \n",
       "std               1.011116      NaN                 NaN   \n",
       "min               2.000000      NaN                 NaN   \n",
       "25%               9.000000      NaN                 NaN   \n",
       "50%               9.000000      NaN                 NaN   \n",
       "75%              10.000000      NaN                 NaN   \n",
       "max              10.000000      NaN                 NaN   \n",
       "\n",
       "       calculated_host_listings_count  reviews_per_month  \n",
       "count                     3585.000000        2829.000000  \n",
       "mean                        12.733891           1.970908  \n",
       "std                         29.415076           2.120561  \n",
       "min                          1.000000           0.010000  \n",
       "25%                          1.000000           0.480000  \n",
       "50%                          2.000000           1.170000  \n",
       "75%                          6.000000           2.720000  \n",
       "max                        136.000000          19.150000  \n",
       "\n",
       "[8 rows x 33 columns]"
      ]
     },
     "execution_count": 108,
     "metadata": {},
     "output_type": "execute_result"
    }
   ],
   "source": [
    "lf.describe()"
   ]
  },
  {
   "cell_type": "code",
   "execution_count": 1366,
   "id": "exact-norfolk",
   "metadata": {},
   "outputs": [
    {
     "data": {
      "text/html": [
       "<div>\n",
       "<style scoped>\n",
       "    .dataframe tbody tr th:only-of-type {\n",
       "        vertical-align: middle;\n",
       "    }\n",
       "\n",
       "    .dataframe tbody tr th {\n",
       "        vertical-align: top;\n",
       "    }\n",
       "\n",
       "    .dataframe thead th {\n",
       "        text-align: right;\n",
       "    }\n",
       "</style>\n",
       "<table border=\"1\" class=\"dataframe\">\n",
       "  <thead>\n",
       "    <tr style=\"text-align: right;\">\n",
       "      <th></th>\n",
       "      <th>listing_id</th>\n",
       "      <th>id</th>\n",
       "      <th>date</th>\n",
       "      <th>reviewer_id</th>\n",
       "      <th>reviewer_name</th>\n",
       "      <th>comments</th>\n",
       "    </tr>\n",
       "  </thead>\n",
       "  <tbody>\n",
       "    <tr>\n",
       "      <th>0</th>\n",
       "      <td>1178162</td>\n",
       "      <td>4724140</td>\n",
       "      <td>2013-05-21</td>\n",
       "      <td>4298113</td>\n",
       "      <td>Olivier</td>\n",
       "      <td>My stay at islam's place was really cool! Good...</td>\n",
       "    </tr>\n",
       "    <tr>\n",
       "      <th>1</th>\n",
       "      <td>1178162</td>\n",
       "      <td>4869189</td>\n",
       "      <td>2013-05-29</td>\n",
       "      <td>6452964</td>\n",
       "      <td>Charlotte</td>\n",
       "      <td>Great location for both airport and city - gre...</td>\n",
       "    </tr>\n",
       "    <tr>\n",
       "      <th>2</th>\n",
       "      <td>1178162</td>\n",
       "      <td>5003196</td>\n",
       "      <td>2013-06-06</td>\n",
       "      <td>6449554</td>\n",
       "      <td>Sebastian</td>\n",
       "      <td>We really enjoyed our stay at Islams house. Fr...</td>\n",
       "    </tr>\n",
       "    <tr>\n",
       "      <th>3</th>\n",
       "      <td>1178162</td>\n",
       "      <td>5150351</td>\n",
       "      <td>2013-06-15</td>\n",
       "      <td>2215611</td>\n",
       "      <td>Marine</td>\n",
       "      <td>The room was nice and clean and so were the co...</td>\n",
       "    </tr>\n",
       "    <tr>\n",
       "      <th>4</th>\n",
       "      <td>1178162</td>\n",
       "      <td>5171140</td>\n",
       "      <td>2013-06-16</td>\n",
       "      <td>6848427</td>\n",
       "      <td>Andrew</td>\n",
       "      <td>Great location. Just 5 mins walk from the Airp...</td>\n",
       "    </tr>\n",
       "  </tbody>\n",
       "</table>\n",
       "</div>"
      ],
      "text/plain": [
       "   listing_id       id        date  reviewer_id reviewer_name  \\\n",
       "0     1178162  4724140  2013-05-21      4298113       Olivier   \n",
       "1     1178162  4869189  2013-05-29      6452964     Charlotte   \n",
       "2     1178162  5003196  2013-06-06      6449554     Sebastian   \n",
       "3     1178162  5150351  2013-06-15      2215611        Marine   \n",
       "4     1178162  5171140  2013-06-16      6848427        Andrew   \n",
       "\n",
       "                                            comments  \n",
       "0  My stay at islam's place was really cool! Good...  \n",
       "1  Great location for both airport and city - gre...  \n",
       "2  We really enjoyed our stay at Islams house. Fr...  \n",
       "3  The room was nice and clean and so were the co...  \n",
       "4  Great location. Just 5 mins walk from the Airp...  "
      ]
     },
     "execution_count": 1366,
     "metadata": {},
     "output_type": "execute_result"
    }
   ],
   "source": [
    "rf.head()"
   ]
  },
  {
   "cell_type": "code",
   "execution_count": 1367,
   "id": "animated-savings",
   "metadata": {
    "scrolled": true
   },
   "outputs": [
    {
     "name": "stdout",
     "output_type": "stream",
     "text": [
      "There are 1308890 rows in the calendar dataset\n",
      "There are 4 colums in the calendar dataset\n",
      "********************\n",
      "There are 3585 rows in the listing dataset\n",
      "There are 95 colums in the listing dataset\n",
      "********************\n",
      "There are 68275 rows in the reviews dataset\n",
      "There are 6 colums in the reviews dataset\n"
     ]
    }
   ],
   "source": [
    "#check rows and columns in the calendar dataset\n",
    "crows = cf.shape[0]\n",
    "ccols = cf.shape[1]\n",
    "\n",
    "print(\"There are {} rows in the calendar dataset\".format(crows))\n",
    "print(\"There are {} colums in the calendar dataset\".format(ccols))\n",
    "print(\"********************\")\n",
    "\n",
    "lrows = lf.shape[0]\n",
    "lcols = lf.shape[1]\n",
    "\n",
    "print(\"There are {} rows in the listing dataset\".format(lrows))\n",
    "print(\"There are {} colums in the listing dataset\".format(lcols))\n",
    "\n",
    "print(\"********************\")\n",
    "rrows = rf.shape[0]\n",
    "rcols = rf.shape[1]\n",
    "\n",
    "print(\"There are {} rows in the reviews dataset\".format(rrows))\n",
    "print(\"There are {} colums in the reviews dataset\".format(rcols))\n",
    "    "
   ]
  },
  {
   "cell_type": "markdown",
   "id": "retained-puppy",
   "metadata": {},
   "source": []
  },
  {
   "cell_type": "markdown",
   "id": "living-longer",
   "metadata": {},
   "source": [
    "#### CLEAN AND ANALIZE THE DATA ####"
   ]
  },
  {
   "cell_type": "markdown",
   "id": "corrected-groove",
   "metadata": {},
   "source": [
    "We need to find out which columns are completely filled and are not missing values."
   ]
  },
  {
   "cell_type": "code",
   "execution_count": 1368,
   "id": "compressed-coffee",
   "metadata": {},
   "outputs": [
    {
     "name": "stdout",
     "output_type": "stream",
     "text": [
      "Columns that are not missing values in calendar dataset are: {'listing_id', 'date', 'available'} and its lenght is 3\n",
      " \n",
      "Columns that are not missing values in listings dataset are: {'host_is_superhost', 'maximum_nights', 'country', 'state', 'host_id', 'host_listings_count', 'host_has_profile_pic', 'bed_type', 'listing_url', 'number_of_reviews', 'host_since', 'calendar_last_scraped', 'instant_bookable', 'longitude', 'scrape_id', 'requires_license', 'host_identity_verified', 'amenities', 'availability_365', 'minimum_nights', 'require_guest_phone_verification', 'availability_90', 'neighbourhood_cleansed', 'guests_included', 'calculated_host_listings_count', 'host_thumbnail_url', 'smart_location', 'latitude', 'calendar_updated', 'host_picture_url', 'host_total_listings_count', 'accommodates', 'availability_30', 'cancellation_policy', 'name', 'country_code', 'extra_people', 'id', 'host_verifications', 'host_url', 'room_type', 'last_scraped', 'availability_60', 'host_name', 'experiences_offered', 'street', 'is_location_exact', 'description', 'picture_url', 'price', 'require_guest_profile_picture'} and its lenght is 51\n",
      " \n",
      "Columns that are not missing values in reviews dataset are: {'date', 'reviewer_id', 'listing_id', 'id', 'reviewer_name'} and its lenght is 5\n"
     ]
    }
   ],
   "source": [
    "#get list for calendar\n",
    "cfull_filled_cols = set(cf.columns[cf.isnull().mean()==0])\n",
    "print(\"Columns that are not missing values in calendar dataset are: {}\".format(cfull_filled_cols)+\" and its lenght is {}\".format(len(cfull_filled_cols)))\n",
    "print(\" \")\n",
    "\n",
    "#get list for listings\n",
    "lfull_fill_cols = set(lf.columns[lf.isnull().mean()==0])\n",
    "print(\"Columns that are not missing values in listings dataset are: {}\".format(lfull_fill_cols)+\" and its lenght is {}\".format(len(lfull_fill_cols)))\n",
    "print(\" \")\n",
    "\n",
    "#get list for reviews\n",
    "rfull_fill_cols = set(rf.columns[rf.isnull().mean()==0])\n",
    "print(\"Columns that are not missing values in reviews dataset are: {}\".format(rfull_fill_cols)+\" and its lenght is {}\".format(len(rfull_fill_cols)))\n"
   ]
  },
  {
   "cell_type": "code",
   "execution_count": null,
   "id": "chemical-quantum",
   "metadata": {},
   "outputs": [],
   "source": [
    "After exploring calendar and reviews csv files. We decided that they will not be useful at this time for this analisys"
   ]
  },
  {
   "cell_type": "markdown",
   "id": "floating-survey",
   "metadata": {},
   "source": [
    "We have an idea of the colums that will help us to answer some of our questions. We want are interested in ***property type, room type, bedrooms, bathrooms, accommodates, amenities, square_feet, price, weekly price, monthly price, review score rating***.\n",
    "\n",
    "We can see that colums property type, beedrooms, bathrooms, square feet, weekly price, monthly price and review score rating do have some null values. We will be addressing this missing data from each column later.\n",
    "\n",
    "Room type, Amenities and price are not missing any values. \n",
    "\n",
    "To explore this data we can create a bar chart of the proportion for each of the values above."
   ]
  },
  {
   "cell_type": "code",
   "execution_count": 12,
   "id": "satisfied-shade",
   "metadata": {},
   "outputs": [],
   "source": [
    "#create a dataframe of each string you want to search for in each row\n",
    "def total_count(df, col1, col2, look_for):\n",
    "    new_df = defaultdict(int)\n",
    "    #loop through list of ed types\n",
    "    for val in look_for:\n",
    "        #loop through rows\n",
    "        for idx in range(df.shape[0]):\n",
    "            #if the ed type is in the row add 1\n",
    "            if val in df[col1][idx]:\n",
    "                new_df[val] += int(df[col2][idx])\n",
    "    new_df = pd.DataFrame(pd.Series(new_df)).reset_index()\n",
    "    new_df.columns = [col1, col2]\n",
    "    new_df.sort_values('count', ascending=False, inplace=True)\n",
    "    return new_df"
   ]
  },
  {
   "cell_type": "code",
   "execution_count": 13,
   "id": "congressional-phase",
   "metadata": {},
   "outputs": [],
   "source": [
    "#function to clean data and plot\n",
    "def clean_plot(df, title, col_name, look_for, plot):  \n",
    "    clean = df[col_name].value_counts().reset_index()\n",
    "    clean.rename(columns={'index': 'ammount', col_name: 'count'}, inplace=True)\n",
    "    clean_lf = total_count(clean, 'ammount', 'count', look_for)\n",
    "    clean_lf.set_index('ammount', inplace=True)\n",
    "    if plot:\n",
    "        (clean_lf/clean_lf.sum()).plot(kind='bar', legend=None);\n",
    "        plt.title(title);\n",
    "        plt.show()\n",
    "    props_clean_lf = clean_lf/clean_lf.sum()\n",
    "    return props_clean_lf\n"
   ]
  },
  {
   "cell_type": "code",
   "execution_count": null,
   "id": "incident-cologne",
   "metadata": {},
   "outputs": [],
   "source": []
  },
  {
   "cell_type": "code",
   "execution_count": 10,
   "id": "saved-moment",
   "metadata": {},
   "outputs": [],
   "source": [
    "def clean_currency(x):\n",
    "    \"\"\" If the value is a string, then remove currency symbol and delimiters\n",
    "    otherwise, the value is numeric and can be converted\n",
    "    \"\"\"\n",
    "    if isinstance(x, str):\n",
    "        return(x.replace('$', '').replace(',', ''))\n",
    "    return(x)"
   ]
  },
  {
   "cell_type": "code",
   "execution_count": null,
   "id": "waiting-houston",
   "metadata": {},
   "outputs": [],
   "source": []
  },
  {
   "cell_type": "markdown",
   "id": "shared-claim",
   "metadata": {},
   "source": [
    "We would likt to explore firs which of the columns of interested are missing more than 80% of the values. A columns with too many values missing might affect our finding."
   ]
  },
  {
   "cell_type": "code",
   "execution_count": 111,
   "id": "legendary-acting",
   "metadata": {},
   "outputs": [
    {
     "name": "stdout",
     "output_type": "stream",
     "text": [
      "{'has_availability', 'square_feet', 'jurisdiction_names', 'neighbourhood_group_cleansed', 'license'}\n"
     ]
    }
   ],
   "source": [
    "most_missing_cols= set(lf.columns[lf.isnull().mean() > 0.80])\n",
    "print(most_missing_cols)"
   ]
  },
  {
   "cell_type": "markdown",
   "id": "velvet-mitchell",
   "metadata": {},
   "source": [
    "The list now is smaller with one column less, \"squared feet\""
   ]
  },
  {
   "cell_type": "code",
   "execution_count": 112,
   "id": "attended-patent",
   "metadata": {},
   "outputs": [
    {
     "data": {
      "image/png": "[encoded data removed]",
      "text/plain": [
       "<Figure size 432x288 with 1 Axes>"
      ]
     },
     "metadata": {
      "needs_background": "light"
     },
     "output_type": "display_data"
    }
   ],
   "source": [
    "# Start with the colums that do not have missing values\n",
    "rt_vals = lf.room_type.value_counts()\n",
    "(rt_vals/lf.shape[0]).plot(kind=\"bar\");\n",
    "plt.title(\"Room Type\");"
   ]
  },
  {
   "cell_type": "markdown",
   "id": "traditional-dimension",
   "metadata": {},
   "source": [
    "We know that Amenities has lots of values and most likely out plot will be a mess. We need to define the values that we are looking for to add them in the chart."
   ]
  },
  {
   "cell_type": "code",
   "execution_count": 81,
   "id": "processed-dinner",
   "metadata": {},
   "outputs": [
    {
     "data": {
      "text/plain": [
       "{}                                                                                                                                                                                                                                                                                                                  32\n",
       "{TV,\"Cable TV\",\"Wireless Internet\",\"Air Conditioning\",Kitchen,Heating,Washer,Dryer,\"translation missing: en.hosting_amenity_49\",\"translation missing: en.hosting_amenity_50\"}                                                                                                                                       15\n",
       "{TV,\"Cable TV\",Internet,\"Wireless Internet\",\"Air Conditioning\",Kitchen,Gym,\"Elevator in Building\",\"Buzzer/Wireless Intercom\",Heating,\"Family/Kid Friendly\",Washer,Dryer,\"Smoke Detector\",\"Carbon Monoxide Detector\",Essentials,Shampoo,\"24-Hour Check-in\",Hangers,\"Hair Dryer\",Iron,\"Laptop Friendly Workspace\"}    14\n",
       "{TV,\"Cable TV\",\"Wireless Internet\",\"Air Conditioning\",Kitchen,Heating,Washer,Dryer,\"Smoke Detector\",\"Fire Extinguisher\",\"translation missing: en.hosting_amenity_49\",\"translation missing: en.hosting_amenity_50\"}                                                                                                  14\n",
       "{TV,\"Cable TV\",Internet,\"Wireless Internet\",\"Air Conditioning\",Pool,Kitchen,Doorman,Gym,\"Elevator in Building\",Heating,\"Family/Kid Friendly\",Washer,Dryer,Essentials,Shampoo,\"24-Hour Check-in\",\"Hair Dryer\",Iron}                                                                                                  11\n",
       "                                                                                                                                                                                                                                                                                                                    ..\n",
       "{TV,\"Cable TV\",Internet,\"Wireless Internet\",\"Air Conditioning\",Kitchen,\"Elevator in Building\",Heating,\"Family/Kid Friendly\",Washer,Dryer,\"Smoke Detector\",Essentials,Shampoo}                                                                                                                                        1\n",
       "{Internet,\"Wireless Internet\",\"Free Parking on Premises\",Breakfast,Heating,\"Smoke Detector\",\"First Aid Kit\",\"Fire Extinguisher\",Essentials,Shampoo,Hangers,\"Hair Dryer\",Iron,\"Laptop Friendly Workspace\"}                                                                                                            1\n",
       "{\"Wireless Internet\",Kitchen,\"Free Parking on Premises\",Breakfast,\"Pets live on this property\",Cat(s),Heating,Washer,Dryer,\"Smoke Detector\",\"Carbon Monoxide Detector\",\"First Aid Kit\",\"Safety Card\",\"Fire Extinguisher\",Essentials}                                                                                 1\n",
       "{TV,\"Cable TV\",Internet,\"Wireless Internet\",\"Air Conditioning\",Kitchen,Heating,\"Family/Kid Friendly\",\"24-Hour Check-in\",Hangers,Iron,\"Laptop Friendly Workspace\"}                                                                                                                                                    1\n",
       "{TV,\"Cable TV\",Internet,\"Wireless Internet\",\"Air Conditioning\",\"Wheelchair Accessible\",Kitchen,Doorman,\"Elevator in Building\",Heating,\"Family/Kid Friendly\",Washer,Dryer,\"Smoke Detector\",Essentials,Shampoo,\"24-Hour Check-in\",Hangers,\"Hair Dryer\",Iron,\"Laptop Friendly Workspace\"}                               1\n",
       "Name: amenities, Length: 3092, dtype: int64"
      ]
     },
     "execution_count": 81,
     "metadata": {},
     "output_type": "execute_result"
    }
   ],
   "source": [
    "a_vals = lf.amenities.value_counts()#find each amenities status\n",
    "a_vals"
   ]
  },
  {
   "cell_type": "code",
   "execution_count": 115,
   "id": "official-processor",
   "metadata": {},
   "outputs": [],
   "source": []
  },
  {
   "cell_type": "code",
   "execution_count": 125,
   "id": "innovative-nigeria",
   "metadata": {},
   "outputs": [
    {
     "data": {
      "image/png": "[encoded data removed]",
      "text/plain": [
       "<Figure size 432x288 with 1 Axes>"
      ]
     },
     "metadata": {
      "needs_background": "light"
     },
     "output_type": "display_data"
    }
   ],
   "source": [
    "#define values to look for\n",
    "look_for_a = ['TV','Cable TV', 'Wireless Internet', 'Air Conditioning' , 'Kitchen', 'Heating', 'Washer' , 'Dryer', \n",
    "              'Gym', 'Elevator in Building','Buzzer/Wireless Intercom',\"Family/Kid Friendly\",\"Smoke Detector\",\n",
    "              \"Carbon Monoxide Detector\", 'Essentials' ,'Shampoo', \"24-Hour Check-in\", 'Hangers', \"Hair Dryer\",\n",
    "              'Iron', \"Laptop Friendly Workspace\", \"Fire Extinguisher\", 'Pool', 'Kitchen','Doorman']\n",
    "                                                                                                                    \n",
    "#clean and plot\n",
    "props_clean_amenities = clean_plot(lf, 'Amenities', 'amenities', look_for_a, True)"
   ]
  },
  {
   "cell_type": "code",
   "execution_count": null,
   "id": "flexible-atlantic",
   "metadata": {},
   "outputs": [],
   "source": []
  },
  {
   "cell_type": "code",
   "execution_count": 212,
   "id": "precious-today",
   "metadata": {},
   "outputs": [
    {
     "data": {
      "image/png": "[encoded data removed]",
      "text/plain": [
       "<Figure size 432x288 with 1 Axes>"
      ]
     },
     "metadata": {
      "needs_background": "light"
     },
     "output_type": "display_data"
    }
   ],
   "source": [
    "#sort values to find out min and max of price chart\n",
    "no_null_p = lf.dropna(subset=['price'], how='any')\n",
    "\n",
    "#chart for price\n",
    "look_for_price = ['$50', '$75', '$100', '$125', '$150', '$175', '$200', '$225', '$250', '$275', '$300', '$350', '$400','$450', '$500', '$600', '$800', '$1,000', '$2000', '$3,000', '$4,000']\n",
    "\n",
    "props_p = clean_plot(no_null_p, 'Price', 'price', look_for_price, True)\n",
    "\n"
   ]
  },
  {
   "cell_type": "code",
   "execution_count": null,
   "id": "brown-chuck",
   "metadata": {},
   "outputs": [],
   "source": []
  },
  {
   "cell_type": "code",
   "execution_count": null,
   "id": "color-sailing",
   "metadata": {},
   "outputs": [],
   "source": []
  },
  {
   "cell_type": "code",
   "execution_count": 130,
   "id": "dominant-joseph",
   "metadata": {},
   "outputs": [
    {
     "data": {
      "image/png": "[encoded data removed]",
      "text/plain": [
       "<Figure size 432x288 with 1 Axes>"
      ]
     },
     "metadata": {
      "needs_background": "light"
     },
     "output_type": "display_data"
    }
   ],
   "source": [
    "#all the bars below have some missing values\n",
    "pt_vals = lf.property_type.value_counts()\n",
    "(pt_vals/lf.shape[0]).plot(kind=\"bar\");\n",
    "plt.title(\"Property Type\");"
   ]
  },
  {
   "cell_type": "markdown",
   "id": "cordless-ridge",
   "metadata": {},
   "source": [
    "It seems that the majority of units for rent are apartments, followed by houses..."
   ]
  },
  {
   "cell_type": "code",
   "execution_count": 131,
   "id": "interpreted-conviction",
   "metadata": {},
   "outputs": [
    {
     "data": {
      "image/png": "[encoded data removed]",
      "text/plain": [
       "<Figure size 432x288 with 1 Axes>"
      ]
     },
     "metadata": {
      "needs_background": "light"
     },
     "output_type": "display_data"
    }
   ],
   "source": [
    "br_vals = lf.bedrooms.value_counts()\n",
    "(br_vals/lf.shape[0]).plot(kind=\"bar\");\n",
    "plt.title(\"Bedrooms\");"
   ]
  },
  {
   "cell_type": "code",
   "execution_count": 132,
   "id": "charming-verification",
   "metadata": {},
   "outputs": [
    {
     "data": {
      "image/png": "[encoded data removed]",
      "text/plain": [
       "<Figure size 432x288 with 1 Axes>"
      ]
     },
     "metadata": {
      "needs_background": "light"
     },
     "output_type": "display_data"
    }
   ],
   "source": [
    "btr_vals = lf.bathrooms.value_counts()\n",
    "(btr_vals/lf.shape[0]).plot(kind=\"bar\");\n",
    "plt.title(\"Bathrooms\");"
   ]
  },
  {
   "cell_type": "code",
   "execution_count": null,
   "id": "ambient-attribute",
   "metadata": {},
   "outputs": [],
   "source": []
  },
  {
   "cell_type": "code",
   "execution_count": null,
   "id": "floral-rocket",
   "metadata": {},
   "outputs": [],
   "source": []
  },
  {
   "cell_type": "code",
   "execution_count": 133,
   "id": "traditional-update",
   "metadata": {},
   "outputs": [
    {
     "data": {
      "image/png": "[encoded data removed]",
      "text/plain": [
       "<Figure size 432x288 with 1 Axes>"
      ]
     },
     "metadata": {
      "needs_background": "light"
     },
     "output_type": "display_data"
    }
   ],
   "source": [
    "#chart for weekly price\n",
    "no_null_week = lf.dropna(subset=['weekly_price'], how='any')\n",
    "\n",
    "look_for_wprice = ['$200', '$400', '$600', '$800', '$1,000', '$1,200', '$1,400', '$1,600', '$1,800','$2,000', '$2,250', '$2,500', '$2,750', '$3,000', '$3,250', '$3,500', '$3,750', '$4,000', '$4,500', '$5,000']\n",
    "\n",
    "props_week = clean_plot(no_null_week, 'Weekly Price', 'weekly_price', look_for_wprice, True)"
   ]
  },
  {
   "cell_type": "code",
   "execution_count": 144,
   "id": "demographic-gospel",
   "metadata": {},
   "outputs": [
    {
     "data": {
      "text/plain": [
       "<class 'float'>    1953\n",
       "<class 'str'>       819\n",
       "Name: weekly_price, dtype: int64"
      ]
     },
     "execution_count": 144,
     "metadata": {},
     "output_type": "execute_result"
    }
   ],
   "source": [
    "# num_vars = lf[['price', 'bathrooms', 'bedrooms', 'minimum_nights', 'maximum_nights', 'review_scores_rating', 'reviews_per_month', 'number_of_reviews', 'accommodates']]\n",
    "\n",
    "# #remove nulls for all the nulls in num_vars\n",
    "# rm_all_nulls =  num_vars.dropna(axis = 0)\n",
    "# rm_all_nulls['price'] = rm_all_nulls['price'].apply(clean_currency).astype('float')\n",
    "# rm_all_nulls\n",
    "no_null_rc['weekly_price'].apply(type).value_counts()"
   ]
  },
  {
   "cell_type": "code",
   "execution_count": 14,
   "id": "increasing-orange",
   "metadata": {
    "scrolled": true
   },
   "outputs": [
    {
     "name": "stderr",
     "output_type": "stream",
     "text": [
      "<ipython-input-14-70714d7aefe0>:4: SettingWithCopyWarning: \n",
      "A value is trying to be set on a copy of a slice from a DataFrame.\n",
      "Try using .loc[row_indexer,col_indexer] = value instead\n",
      "\n",
      "See the caveats in the documentation: https://pandas.pydata.org/pandas-docs/stable/user_guide/indexing.html#returning-a-view-versus-a-copy\n",
      "  no_null_rc['review_scores_rating'] = no_null_rc['review_scores_rating'].apply(clean_currency).astype('str')\n"
     ]
    },
    {
     "data": {
      "image/png": "[encoded data removed]",
      "text/plain": [
       "<Figure size 432x288 with 1 Axes>"
      ]
     },
     "metadata": {
      "needs_background": "light"
     },
     "output_type": "display_data"
    }
   ],
   "source": [
    "#chart for Review Scores Rating\n",
    "no_null_rc = lf.dropna(subset=['review_scores_rating'], how='any')\n",
    "#let's convert the values to string because the funtion is not going to iterate in float or int values.\n",
    "no_null_rc['review_scores_rating'] = no_null_rc['review_scores_rating'].apply(clean_currency).astype('str')\n",
    "\n",
    "\n",
    "look_for_rc = ['10.0', '20.0', '30.0', '40.0', '50.0', '60.0', '70.0', '80.0', '90.0', '100.0']\n",
    "props_rc = clean_plot(no_null_rc, \"Review Scores Rating\", 'review_scores_rating', look_for_rc, True)"
   ]
  },
  {
   "cell_type": "code",
   "execution_count": 150,
   "id": "liberal-bruce",
   "metadata": {},
   "outputs": [
    {
     "data": {
      "text/plain": [
       "<class 'str'>    2772\n",
       "Name: review_scores_rating, dtype: int64"
      ]
     },
     "execution_count": 150,
     "metadata": {},
     "output_type": "execute_result"
    }
   ],
   "source": [
    "no_null_rc['review_scores_rating'].apply(type).value_counts()"
   ]
  },
  {
   "cell_type": "code",
   "execution_count": null,
   "id": "radio-teach",
   "metadata": {},
   "outputs": [],
   "source": []
  },
  {
   "cell_type": "code",
   "execution_count": 15,
   "id": "sporting-powder",
   "metadata": {},
   "outputs": [],
   "source": [
    "# print(no_null_rc['review_scores_rating'])"
   ]
  },
  {
   "cell_type": "code",
   "execution_count": null,
   "id": "enabling-energy",
   "metadata": {},
   "outputs": [],
   "source": [
    "#end charts"
   ]
  },
  {
   "cell_type": "markdown",
   "id": "secure-sender",
   "metadata": {},
   "source": [
    "Now that we have a general idea of the fields we are interested in, we can start focussing on the missing values. Let's look at what we can find out about this missing data and see how we can handle it.\n",
    "\n",
    "We are mostly interested in price, bedrooms, bathrooms, room type and property type. This is our fist attempt to try to answer our first question. We want to know how much the Boston unit owner should charge. So basically we are interested in finding the prices for units that are similar to what the client has. In this case: Apartment, 2 bathrooms, 2 bedrooms and great location in South Boston."
   ]
  },
  {
   "cell_type": "code",
   "execution_count": 4,
   "id": "medium-boulder",
   "metadata": {},
   "outputs": [
    {
     "name": "stdout",
     "output_type": "stream",
     "text": [
      "{'license', 'monthly_price', 'neighbourhood_group_cleansed', 'weekly_price', 'square_feet', 'has_availability', 'jurisdiction_names'}\n",
      "{'license', 'monthly_price', 'neighbourhood_group_cleansed', 'security_deposit', 'weekly_price', 'square_feet', 'notes', 'has_availability', 'jurisdiction_names'}\n"
     ]
    }
   ],
   "source": [
    "#Provide a set of colums with more than 75% of the values missing\n",
    "most_missing_cols = set(lf.columns[lf.isnull().mean() > 0.75])\n",
    "half_missing_cols = set(lf.columns[lf.isnull().mean() > 0.5])\n",
    "print(most_missing_cols)\n",
    "print(half_missing_cols)"
   ]
  },
  {
   "cell_type": "markdown",
   "id": "communist-breakdown",
   "metadata": {},
   "source": [
    "It looks like one of the columns of our interest appears in the list of the columns with most missing values: ** 'weekly_price'**. These results could affect our future predictions. We will analize it later on. "
   ]
  },
  {
   "cell_type": "markdown",
   "id": "silent-woman",
   "metadata": {},
   "source": [
    "\n",
    "\n",
    "We would like to know if the score ratings are related to the size of the housing units or if it has a relationship with price. Lets look at Price Chart again"
   ]
  },
  {
   "cell_type": "code",
   "execution_count": 1372,
   "id": "august-midwest",
   "metadata": {},
   "outputs": [
    {
     "data": {
      "image/png": "[encoded data removed]",
      "text/plain": [
       "<Figure size 432x288 with 1 Axes>"
      ]
     },
     "metadata": {
      "needs_background": "light"
     },
     "output_type": "display_data"
    }
   ],
   "source": [
    "#chart for price\n",
    "look_for_price = ['$50', '$75', '$100', '$125', '$150', '$175', '$200', '$225', '$250', '$275', '$300', '$350', '$400','$450', '$500', '$600', '$800', '$1,000', '$2000', '$3,000', '$4,000']\n",
    "\n",
    "props_p = clean_plot(no_null_p, 'Price', 'price', look_for_price, True)"
   ]
  },
  {
   "cell_type": "markdown",
   "id": "wrong-bread",
   "metadata": {},
   "source": [
    "According to the lower half of the chart aproximately prices above $300.00 are the highest prices for a unit in a day."
   ]
  },
  {
   "cell_type": "code",
   "execution_count": 16,
   "id": "backed-shower",
   "metadata": {},
   "outputs": [
    {
     "name": "stdout",
     "output_type": "stream",
     "text": [
      "1        94.0\n",
      "2        98.0\n",
      "3       100.0\n",
      "4        99.0\n",
      "5       100.0\n",
      "        ...  \n",
      "3574     80.0\n",
      "3575     70.0\n",
      "3578    100.0\n",
      "3580     90.0\n",
      "3583     90.0\n",
      "Name: review_scores_rating, Length: 2772, dtype: object\n"
     ]
    }
   ],
   "source": [
    "#it might be convenient to ddivide out proce list in quarters to identify price groups.\n",
    "# no_null_rc['review_scores_rating'] = no_null_rc['review_scores_rating'].apply(clean_currency).astype('float')\n",
    "      \n",
    "#function to create lists\n",
    "def divide(newp_list, minval, maxval):\n",
    "    new_list = []\n",
    "    for i in range(0, len(newp_list)):\n",
    "        if newp_list[i] >= minval and newp_list[i] <= maxval:\n",
    "            new_list.append(newp_list[i])\n",
    "    return new_list\n",
    "    \n",
    "# group0 = divide(newp_list, 0, 125)\n",
    "# group1 = divide(newp_list, 125, 250)\n",
    "# group2 = divide(newp_list, 250, 375)\n",
    "# group3 = divide(newp_list, 375, 500)\n",
    "# group4 = divide(newp_list, 500, 750)\n",
    "# group5 = divide(newp_list, 750, 125)\n",
    "# group6 = divide(newp_list, 1000, max(newp_list))\n",
    "\n",
    "#high score rating related to price, if score is greater than 90 and price belongs to the higher portion return 1\n",
    "#else return 0\n",
    "\n",
    "def higher_scores(val):\n",
    "    if val in (80 , 81, 82, 83, 84 ,85, 86, 87, 88 , 88, 90, 91, 92 ,93, 94, 95, 96, 97, 98, 99, 100):\n",
    "        return 1\n",
    "    else:\n",
    "        return 0\n",
    "\n",
    "no_null_rc[\"review_scores_rating\"].apply(higher_scores)[:5]\n",
    "print(no_null_rc[\"review_scores_rating\"])"
   ]
  },
  {
   "cell_type": "code",
   "execution_count": 17,
   "id": "prompt-origin",
   "metadata": {},
   "outputs": [
    {
     "name": "stdout",
     "output_type": "stream",
     "text": [
      "The percentage of individuals that gave a higher ratings is : 0.7087866108786611\n"
     ]
    }
   ],
   "source": [
    "lf['HigherScore'] = lf[\"review_scores_rating\"].apply(higher_scores)\n",
    "\n",
    "higher_scores_perc = lf['HigherScore'].mean()\n",
    "print(\"The percentage of individuals that gave a higher ratings is :\",higher_scores_perc )"
   ]
  },
  {
   "cell_type": "markdown",
   "id": "equipped-arena",
   "metadata": {},
   "source": [
    "We see that to post a place for rent in the Boston area will be challenging since most of the reviews are a higher score."
   ]
  },
  {
   "cell_type": "code",
   "execution_count": 20,
   "id": "funky-scanner",
   "metadata": {},
   "outputs": [
    {
     "name": "stdout",
     "output_type": "stream",
     "text": [
      "1    1\n",
      "2    1\n",
      "3    1\n",
      "4    1\n",
      "5    1\n",
      "Name: HigherScore, dtype: int64\n",
      "0     0\n",
      "18    0\n",
      "32    0\n",
      "36    0\n",
      "53    0\n",
      "Name: HigherScore, dtype: int64\n"
     ]
    }
   ],
   "source": [
    "highersc = lf[lf['HigherScore'] == 1] # Subset df to only those with highercore of 1\n",
    "lowersc = lf[lf['HigherScore'] == 0] # Subset df to only those with HigherScore of 0\n",
    "\n",
    "#let's see if it looks right\n",
    "print(highersc['HigherScore'][:5]) \n",
    "print(lowersc['HigherScore'][:5]) "
   ]
  },
  {
   "cell_type": "code",
   "execution_count": 21,
   "id": "unlike-sector",
   "metadata": {},
   "outputs": [
    {
     "data": {
      "image/png": "[encoded data removed]",
      "text/plain": [
       "<Figure size 432x288 with 1 Axes>"
      ]
     },
     "metadata": {
      "needs_background": "light"
     },
     "output_type": "display_data"
    },
    {
     "data": {
      "image/png": "[encoded data removed]",
      "text/plain": [
       "<Figure size 432x288 with 1 Axes>"
      ]
     },
     "metadata": {
      "needs_background": "light"
     },
     "output_type": "display_data"
    }
   ],
   "source": [
    "#chart for price\n",
    "look_for_prices = ['$50', '$75', '$100', '$125', '$150', '$175', '$200', '$225', '$250', '$275', '$300', '$350', '$400','$450', '$500', '$600', '$800', '$1,000', '$2000', '$3,000', '$4,000']\n",
    "\n",
    "highersc_perc = clean_plot(highersc, 'Higher Scores', 'price', look_for_prices, plot=True)\n",
    "lowersc_perc = clean_plot(lowersc, 'Lower Scores', 'price', look_for_prices, plot=True)"
   ]
  },
  {
   "cell_type": "code",
   "execution_count": 22,
   "id": "dietary-buddy",
   "metadata": {
    "scrolled": true
   },
   "outputs": [
    {
     "data": {
      "text/html": [
       "<style  type=\"text/css\" >\n",
       "#T_eb658_row0_col2{\n",
       "            width:  10em;\n",
       "             height:  80%;\n",
       "            background:  linear-gradient(90deg, transparent 55.6%, #5fba7d 55.6%, #5fba7d 100.0%, transparent 100.0%);\n",
       "        }#T_eb658_row1_col2{\n",
       "            width:  10em;\n",
       "             height:  80%;\n",
       "            background:  linear-gradient(90deg, transparent 55.6%, #5fba7d 55.6%, #5fba7d 83.1%, transparent 83.1%);\n",
       "        }#T_eb658_row2_col2{\n",
       "            width:  10em;\n",
       "             height:  80%;\n",
       "            background:  linear-gradient(90deg, transparent 55.6%, #5fba7d 55.6%, #5fba7d 63.3%, transparent 63.3%);\n",
       "        }#T_eb658_row3_col2{\n",
       "            width:  10em;\n",
       "             height:  80%;\n",
       "            background:  linear-gradient(90deg, transparent 33.3%, #d65f5f 33.3%, #d65f5f 55.6%, transparent 55.6%);\n",
       "        }#T_eb658_row4_col2{\n",
       "            width:  10em;\n",
       "             height:  80%;\n",
       "            background:  linear-gradient(90deg, transparent 50.4%, #d65f5f 50.4%, #d65f5f 55.6%, transparent 55.6%);\n",
       "        }#T_eb658_row5_col2{\n",
       "            width:  10em;\n",
       "             height:  80%;\n",
       "            background:  linear-gradient(90deg, transparent 55.6%, #5fba7d 55.6%, #5fba7d 92.9%, transparent 92.9%);\n",
       "        }#T_eb658_row6_col2{\n",
       "            width:  10em;\n",
       "             height:  80%;\n",
       "            background:  linear-gradient(90deg, transparent 55.6%, #5fba7d 55.6%, #5fba7d 82.3%, transparent 82.3%);\n",
       "        }#T_eb658_row7_col2{\n",
       "            width:  10em;\n",
       "             height:  80%;\n",
       "            background:  linear-gradient(90deg,#d65f5f 55.6%, transparent 55.6%);\n",
       "        }#T_eb658_row8_col2{\n",
       "            width:  10em;\n",
       "             height:  80%;\n",
       "            background:  linear-gradient(90deg, transparent 55.6%, #5fba7d 55.6%, #5fba7d 55.6%, transparent 55.6%);\n",
       "        }#T_eb658_row9_col2{\n",
       "            width:  10em;\n",
       "             height:  80%;\n",
       "            background:  linear-gradient(90deg, transparent 44.1%, #d65f5f 44.1%, #d65f5f 55.6%, transparent 55.6%);\n",
       "        }#T_eb658_row10_col2{\n",
       "            width:  10em;\n",
       "             height:  80%;\n",
       "            background:  linear-gradient(90deg, transparent 45.9%, #d65f5f 45.9%, #d65f5f 55.6%, transparent 55.6%);\n",
       "        }#T_eb658_row11_col2{\n",
       "            width:  10em;\n",
       "             height:  80%;\n",
       "            background:  linear-gradient(90deg, transparent 50.9%, #d65f5f 50.9%, #d65f5f 55.6%, transparent 55.6%);\n",
       "        }#T_eb658_row12_col2{\n",
       "            width:  10em;\n",
       "             height:  80%;\n",
       "            background:  linear-gradient(90deg, transparent 44.8%, #d65f5f 44.8%, #d65f5f 55.6%, transparent 55.6%);\n",
       "        }#T_eb658_row13_col2{\n",
       "            width:  10em;\n",
       "             height:  80%;\n",
       "            background:  linear-gradient(90deg, transparent 53.1%, #d65f5f 53.1%, #d65f5f 55.6%, transparent 55.6%);\n",
       "        }#T_eb658_row14_col2{\n",
       "            width:  10em;\n",
       "             height:  80%;\n",
       "            background:  linear-gradient(90deg, transparent 41.6%, #d65f5f 41.6%, #d65f5f 55.6%, transparent 55.6%);\n",
       "        }#T_eb658_row15_col2{\n",
       "            width:  10em;\n",
       "             height:  80%;\n",
       "            background:  linear-gradient(90deg, transparent 55.6%, #5fba7d 55.6%, #5fba7d 56.0%, transparent 56.0%);\n",
       "        }#T_eb658_row16_col2{\n",
       "            width:  10em;\n",
       "             height:  80%;\n",
       "            background:  linear-gradient(90deg, transparent 53.5%, #d65f5f 53.5%, #d65f5f 55.6%, transparent 55.6%);\n",
       "        }</style><table id=\"T_eb658_\" ><thead>    <tr>        <th class=\"blank level0\" ></th>        <th class=\"col_heading level0 col0\" >highsc%</th>        <th class=\"col_heading level0 col1\" >lowersc%</th>        <th class=\"col_heading level0 col2\" >Diff Highersc Vals</th>    </tr>    <tr>        <th class=\"index_name level0\" >ammount</th>        <th class=\"blank\" ></th>        <th class=\"blank\" ></th>        <th class=\"blank\" ></th>    </tr></thead><tbody>\n",
       "                <tr>\n",
       "                        <th id=\"T_eb658_level0_row0\" class=\"row_heading level0 row0\" >$150</th>\n",
       "                        <td id=\"T_eb658_row0_col0\" class=\"data row0 col0\" >0.155433</td>\n",
       "                        <td id=\"T_eb658_row0_col1\" class=\"data row0 col1\" >0.109541</td>\n",
       "                        <td id=\"T_eb658_row0_col2\" class=\"data row0 col2\" >0.045893</td>\n",
       "            </tr>\n",
       "            <tr>\n",
       "                        <th id=\"T_eb658_level0_row1\" class=\"row_heading level0 row1\" >$200</th>\n",
       "                        <td id=\"T_eb658_row1_col0\" class=\"data row1 col0\" >0.123796</td>\n",
       "                        <td id=\"T_eb658_row1_col1\" class=\"data row1 col1\" >0.095406</td>\n",
       "                        <td id=\"T_eb658_row1_col2\" class=\"data row1 col2\" >0.028390</td>\n",
       "            </tr>\n",
       "            <tr>\n",
       "                        <th id=\"T_eb658_level0_row2\" class=\"row_heading level0 row2\" >$250</th>\n",
       "                        <td id=\"T_eb658_row2_col0\" class=\"data row2 col0\" >0.096286</td>\n",
       "                        <td id=\"T_eb658_row2_col1\" class=\"data row2 col1\" >0.088339</td>\n",
       "                        <td id=\"T_eb658_row2_col2\" class=\"data row2 col2\" >0.007947</td>\n",
       "            </tr>\n",
       "            <tr>\n",
       "                        <th id=\"T_eb658_level0_row3\" class=\"row_heading level0 row3\" >$100</th>\n",
       "                        <td id=\"T_eb658_row3_col0\" class=\"data row3 col0\" >0.093535</td>\n",
       "                        <td id=\"T_eb658_row3_col1\" class=\"data row3 col1\" >0.116608</td>\n",
       "                        <td id=\"T_eb658_row3_col2\" class=\"data row3 col2\" >-0.023073</td>\n",
       "            </tr>\n",
       "            <tr>\n",
       "                        <th id=\"T_eb658_level0_row4\" class=\"row_heading level0 row4\" >$75</th>\n",
       "                        <td id=\"T_eb658_row4_col0\" class=\"data row4 col0\" >0.093535</td>\n",
       "                        <td id=\"T_eb658_row4_col1\" class=\"data row4 col1\" >0.098940</td>\n",
       "                        <td id=\"T_eb658_row4_col2\" class=\"data row4 col2\" >-0.005405</td>\n",
       "            </tr>\n",
       "            <tr>\n",
       "                        <th id=\"T_eb658_level0_row5\" class=\"row_heading level0 row5\" >$175</th>\n",
       "                        <td id=\"T_eb658_row5_col0\" class=\"data row5 col0\" >0.088033</td>\n",
       "                        <td id=\"T_eb658_row5_col1\" class=\"data row5 col1\" >0.049470</td>\n",
       "                        <td id=\"T_eb658_row5_col2\" class=\"data row5 col2\" >0.038563</td>\n",
       "            </tr>\n",
       "            <tr>\n",
       "                        <th id=\"T_eb658_level0_row6\" class=\"row_heading level0 row6\" >$125</th>\n",
       "                        <td id=\"T_eb658_row6_col0\" class=\"data row6 col0\" >0.077029</td>\n",
       "                        <td id=\"T_eb658_row6_col1\" class=\"data row6 col1\" >0.049470</td>\n",
       "                        <td id=\"T_eb658_row6_col2\" class=\"data row6 col2\" >0.027559</td>\n",
       "            </tr>\n",
       "            <tr>\n",
       "                        <th id=\"T_eb658_level0_row7\" class=\"row_heading level0 row7\" >$50</th>\n",
       "                        <td id=\"T_eb658_row7_col0\" class=\"data row7 col0\" >0.059147</td>\n",
       "                        <td id=\"T_eb658_row7_col1\" class=\"data row7 col1\" >0.116608</td>\n",
       "                        <td id=\"T_eb658_row7_col2\" class=\"data row7 col2\" >-0.057461</td>\n",
       "            </tr>\n",
       "            <tr>\n",
       "                        <th id=\"T_eb658_level0_row8\" class=\"row_heading level0 row8\" >$300</th>\n",
       "                        <td id=\"T_eb658_row8_col0\" class=\"data row8 col0\" >0.049519</td>\n",
       "                        <td id=\"T_eb658_row8_col1\" class=\"data row8 col1\" >0.049470</td>\n",
       "                        <td id=\"T_eb658_row8_col2\" class=\"data row8 col2\" >0.000049</td>\n",
       "            </tr>\n",
       "            <tr>\n",
       "                        <th id=\"T_eb658_level0_row9\" class=\"row_heading level0 row9\" >$225</th>\n",
       "                        <td id=\"T_eb658_row9_col0\" class=\"data row9 col0\" >0.048143</td>\n",
       "                        <td id=\"T_eb658_row9_col1\" class=\"data row9 col1\" >0.060071</td>\n",
       "                        <td id=\"T_eb658_row9_col2\" class=\"data row9 col2\" >-0.011928</td>\n",
       "            </tr>\n",
       "            <tr>\n",
       "                        <th id=\"T_eb658_level0_row10\" class=\"row_heading level0 row10\" >$275</th>\n",
       "                        <td id=\"T_eb658_row10_col0\" class=\"data row10 col0\" >0.028886</td>\n",
       "                        <td id=\"T_eb658_row10_col1\" class=\"data row10 col1\" >0.038869</td>\n",
       "                        <td id=\"T_eb658_row10_col2\" class=\"data row10 col2\" >-0.009983</td>\n",
       "            </tr>\n",
       "            <tr>\n",
       "                        <th id=\"T_eb658_level0_row11\" class=\"row_heading level0 row11\" >$350</th>\n",
       "                        <td id=\"T_eb658_row11_col0\" class=\"data row11 col0\" >0.023384</td>\n",
       "                        <td id=\"T_eb658_row11_col1\" class=\"data row11 col1\" >0.028269</td>\n",
       "                        <td id=\"T_eb658_row11_col2\" class=\"data row11 col2\" >-0.004885</td>\n",
       "            </tr>\n",
       "            <tr>\n",
       "                        <th id=\"T_eb658_level0_row12\" class=\"row_heading level0 row12\" >$500</th>\n",
       "                        <td id=\"T_eb658_row12_col0\" class=\"data row12 col0\" >0.020633</td>\n",
       "                        <td id=\"T_eb658_row12_col1\" class=\"data row12 col1\" >0.031802</td>\n",
       "                        <td id=\"T_eb658_row12_col2\" class=\"data row12 col2\" >-0.011169</td>\n",
       "            </tr>\n",
       "            <tr>\n",
       "                        <th id=\"T_eb658_level0_row13\" class=\"row_heading level0 row13\" >$450</th>\n",
       "                        <td id=\"T_eb658_row13_col0\" class=\"data row13 col0\" >0.015131</td>\n",
       "                        <td id=\"T_eb658_row13_col1\" class=\"data row13 col1\" >0.017668</td>\n",
       "                        <td id=\"T_eb658_row13_col2\" class=\"data row13 col2\" >-0.002537</td>\n",
       "            </tr>\n",
       "            <tr>\n",
       "                        <th id=\"T_eb658_level0_row14\" class=\"row_heading level0 row14\" >$400</th>\n",
       "                        <td id=\"T_eb658_row14_col0\" class=\"data row14 col0\" >0.013755</td>\n",
       "                        <td id=\"T_eb658_row14_col1\" class=\"data row14 col1\" >0.028269</td>\n",
       "                        <td id=\"T_eb658_row14_col2\" class=\"data row14 col2\" >-0.014513</td>\n",
       "            </tr>\n",
       "            <tr>\n",
       "                        <th id=\"T_eb658_level0_row15\" class=\"row_heading level0 row15\" >$600</th>\n",
       "                        <td id=\"T_eb658_row15_col0\" class=\"data row15 col0\" >0.011004</td>\n",
       "                        <td id=\"T_eb658_row15_col1\" class=\"data row15 col1\" >0.010601</td>\n",
       "                        <td id=\"T_eb658_row15_col2\" class=\"data row15 col2\" >0.000403</td>\n",
       "            </tr>\n",
       "            <tr>\n",
       "                        <th id=\"T_eb658_level0_row16\" class=\"row_heading level0 row16\" >$1,000</th>\n",
       "                        <td id=\"T_eb658_row16_col0\" class=\"data row16 col0\" >0.001376</td>\n",
       "                        <td id=\"T_eb658_row16_col1\" class=\"data row16 col1\" >0.003534</td>\n",
       "                        <td id=\"T_eb658_row16_col2\" class=\"data row16 col2\" >-0.002158</td>\n",
       "            </tr>\n",
       "    </tbody></table>"
      ],
      "text/plain": [
       "<pandas.io.formats.style.Styler at 0x126d2e520>"
      ]
     },
     "execution_count": 22,
     "metadata": {},
     "output_type": "execute_result"
    }
   ],
   "source": [
    "comp_df = pd.merge(highersc_perc, lowersc_perc, left_index=True, right_index=True)\n",
    "comp_df.columns = ['highsc%', 'lowersc%']\n",
    "comp_df['Diff Highersc Vals'] = comp_df['highsc%'] - comp_df['lowersc%']\n",
    "comp_df.style.bar(subset=['Diff Highersc Vals'], align='mid', color=['#d65f5f', '#5fba7d'])"
   ]
  },
  {
   "cell_type": "markdown",
   "id": "remarkable-imaging",
   "metadata": {},
   "source": [
    "We can say that there were more individuals giving a higher rating score to the units that had a price of 150.00, followed by 175.00 and 200.00. We do not have enough information yet though to conclude that higher prices had an strict relation with higher score ratings. Let's find out more... "
   ]
  },
  {
   "cell_type": "code",
   "execution_count": 180,
   "id": "tracked-shame",
   "metadata": {},
   "outputs": [
    {
     "data": {
      "text/plain": [
       "price\n",
       "$138.00        55.000000\n",
       "$32.00         57.500000\n",
       "$246.00        60.000000\n",
       "$202.00        64.000000\n",
       "$30.00         64.333333\n",
       "                 ...    \n",
       "$309.00       100.000000\n",
       "$345.00       100.000000\n",
       "$536.00       100.000000\n",
       "$86.00        100.000000\n",
       "$1,000.00     100.000000\n",
       "Name: review_scores_rating, Length: 292, dtype: float64"
      ]
     },
     "execution_count": 180,
     "metadata": {},
     "output_type": "execute_result"
    }
   ],
   "source": [
    "#In general, prices dictates score ratings, the higher the price the higher the rating\n",
    "lf.groupby(['price']).mean()['review_scores_rating'].sort_values().dropna()"
   ]
  },
  {
   "cell_type": "code",
   "execution_count": 217,
   "id": "structured-logistics",
   "metadata": {},
   "outputs": [
    {
     "data": {
      "text/plain": [
       "weekly_price\n",
       "1687.0     46.000000\n",
       "319.0      60.000000\n",
       "290.0      61.666667\n",
       "292.0      65.000000\n",
       "469.0      66.000000\n",
       "             ...    \n",
       "232.0     100.000000\n",
       "1190.0    100.000000\n",
       "1248.0    100.000000\n",
       "712.0     100.000000\n",
       "5000.0    100.000000\n",
       "Name: review_scores_rating, Length: 232, dtype: float64"
      ]
     },
     "execution_count": 217,
     "metadata": {},
     "output_type": "execute_result"
    }
   ],
   "source": [
    "#what about weekly prices\n",
    "lp['weekly_price'] =lp['weekly_price'].apply(clean_currency).astype('float')\n",
    "lp.groupby(['weekly_price']).mean()['review_scores_rating'].sort_values().dropna()"
   ]
  },
  {
   "cell_type": "code",
   "execution_count": 183,
   "id": "legitimate-grill",
   "metadata": {},
   "outputs": [],
   "source": [
    "# #According to score_ratings, which prices have the highest average score?\n",
    "# no_null_rc.groupby(['price']).mean()['review_scores_rating']"
   ]
  },
  {
   "cell_type": "code",
   "execution_count": null,
   "id": "detailed-intention",
   "metadata": {},
   "outputs": [],
   "source": []
  },
  {
   "cell_type": "code",
   "execution_count": 772,
   "id": "determined-mambo",
   "metadata": {},
   "outputs": [
    {
     "data": {
      "text/plain": [
       "property_type\n",
       "Dorm                86.500000\n",
       "Other               88.111111\n",
       "Boat                91.454545\n",
       "Apartment           91.514141\n",
       "Bed & Breakfast     91.800000\n",
       "House               92.204593\n",
       "Condominium         94.451977\n",
       "Townhouse           94.760870\n",
       "Loft                96.312500\n",
       "Villa               99.500000\n",
       "Entire Floor       100.000000\n",
       "Guesthouse         100.000000\n",
       "Name: review_scores_rating, dtype: float64"
      ]
     },
     "execution_count": 772,
     "metadata": {},
     "output_type": "execute_result"
    }
   ],
   "source": [
    "#Does a certain property type appear to have higher review_scores_rating\n",
    "lf.groupby(['property_type']).mean()['review_scores_rating'].sort_values().dropna()"
   ]
  },
  {
   "cell_type": "code",
   "execution_count": 197,
   "id": "sporting-raise",
   "metadata": {},
   "outputs": [],
   "source": [
    "# #a higher square_feet means a higher rating score\n",
    "# lf.groupby(['square_feet']).mean()['review_scores_rating'].sort_values().dropna()"
   ]
  },
  {
   "cell_type": "code",
   "execution_count": 191,
   "id": "patent-jason",
   "metadata": {},
   "outputs": [
    {
     "data": {
      "text/plain": [
       "property_type\n",
       "Camper/RV           60.000000\n",
       "Dorm                62.500000\n",
       "Entire Floor       122.000000\n",
       "Bed & Breakfast    129.365854\n",
       "House              131.599644\n",
       "Townhouse          149.037037\n",
       "Apartment          181.966692\n",
       "Loft               185.410256\n",
       "Villa              189.500000\n",
       "Condominium        190.246753\n",
       "Other              229.941176\n",
       "Boat               268.833333\n",
       "Guesthouse         289.000000\n",
       "Name: price, dtype: float64"
      ]
     },
     "execution_count": 191,
     "metadata": {},
     "output_type": "execute_result"
    }
   ],
   "source": [
    "#According to property_type, which unit has the highest average price?\n",
    "lp = lf\n",
    "lp['price'] =lp['price'].apply(clean_currency).astype('float')\n",
    "lf.groupby(['property_type']).mean()['price'].sort_values().dropna()"
   ]
  },
  {
   "cell_type": "code",
   "execution_count": 219,
   "id": "northern-tiffany",
   "metadata": {},
   "outputs": [],
   "source": [
    "# #what is the relationship between roomtype and review score ratings\n",
    "# lf.groupby(['property_type']).mean()['review_scores_rating'].sort_values().dropna()"
   ]
  },
  {
   "cell_type": "code",
   "execution_count": 220,
   "id": "baking-sphere",
   "metadata": {},
   "outputs": [],
   "source": [
    "# #relationship between price and room type\n",
    "# room_type_lf =  lf[lf['name'].isnull()==False]\n",
    "# room_type_lf.shape\n",
    "# room_type_lf['price'].value_counts()/(room_type_lf.shape[0] - sum(room_type_lf['price'].isnull()))\n"
   ]
  },
  {
   "cell_type": "code",
   "execution_count": null,
   "id": "intermediate-bikini",
   "metadata": {},
   "outputs": [],
   "source": []
  },
  {
   "cell_type": "code",
   "execution_count": null,
   "id": "nonprofit-kazakhstan",
   "metadata": {},
   "outputs": [],
   "source": []
  },
  {
   "cell_type": "code",
   "execution_count": 227,
   "id": "included-momentum",
   "metadata": {},
   "outputs": [
    {
     "data": {
      "text/plain": [
       "property_type\n",
       "Camper/RV          0.000000\n",
       "Dorm               1.000000\n",
       "Guesthouse         1.000000\n",
       "Apartment          1.160461\n",
       "Loft               1.179487\n",
       "Bed & Breakfast    1.192308\n",
       "Condominium        1.222944\n",
       "Entire Floor       1.250000\n",
       "Villa              1.250000\n",
       "Boat               1.333333\n",
       "Townhouse          1.361111\n",
       "House              1.447935\n",
       "Other              2.941176\n",
       "Name: bathrooms, dtype: float64"
      ]
     },
     "execution_count": 227,
     "metadata": {},
     "output_type": "execute_result"
    }
   ],
   "source": [
    "#a property_type has # bathrooms\n",
    "lp.groupby(['property_type']).mean()['bathrooms'].sort_values().dropna()"
   ]
  },
  {
   "cell_type": "code",
   "execution_count": 226,
   "id": "packed-rugby",
   "metadata": {},
   "outputs": [
    {
     "data": {
      "text/plain": [
       "property_type\n",
       "Camper/RV          0.000000\n",
       "Dorm               1.000000\n",
       "Other              1.000000\n",
       "Villa              1.000000\n",
       "Bed & Breakfast    1.024390\n",
       "Loft               1.102564\n",
       "Townhouse          1.148148\n",
       "Apartment          1.227517\n",
       "Condominium        1.350649\n",
       "House              1.387900\n",
       "Entire Floor       1.500000\n",
       "Boat               1.833333\n",
       "Guesthouse         2.000000\n",
       "Name: bedrooms, dtype: float64"
      ]
     },
     "execution_count": 226,
     "metadata": {},
     "output_type": "execute_result"
    }
   ],
   "source": [
    "#a property_type has #  bedrooms\n",
    "lp.groupby(['property_type']).mean()['bedrooms'].sort_values().dropna()"
   ]
  },
  {
   "cell_type": "code",
   "execution_count": null,
   "id": "altered-savage",
   "metadata": {},
   "outputs": [],
   "source": []
  },
  {
   "cell_type": "markdown",
   "id": "sticky-intervention",
   "metadata": {},
   "source": [
    "### MODEL THE DATA\n",
    "\n",
    "\n",
    "Now that we organized and wrangle our data and foud enough information to answer the first question, we need to move on to the next step of the process. Let's build a predicting model known as a Supervised Machine Learning Model. This model consists of four parts: Instantiate; Fit your model to the training data; Predict using your fit model using your test data; and Score your model using a metric to validate how well it performs.\n",
    "\n",
    "We will attempt to use this model to predict availability in 1 month for a unit\n",
    "HWhat aspects correlate to price in Boston?\n"
   ]
  },
  {
   "cell_type": "code",
   "execution_count": null,
   "id": "floral-practitioner",
   "metadata": {},
   "outputs": [],
   "source": [
    "#good1"
   ]
  },
  {
   "cell_type": "code",
   "execution_count": null,
   "id": "fantastic-bulletin",
   "metadata": {
    "scrolled": true
   },
   "outputs": [],
   "source": []
  },
  {
   "cell_type": "code",
   "execution_count": 1375,
   "id": "subsequent-counter",
   "metadata": {},
   "outputs": [],
   "source": [
    "X = lf[['bathrooms', 'bedrooms', 'minimum_nights', 'maximum_nights', 'review_scores_rating', 'reviews_per_month', 'number_of_reviews', 'accommodates']]\n",
    "y = lf['price']\n",
    "\n",
    "X_train, X_test, y_train, y_test = train_test_split(X, y, test_size = .30, random_state=42)\n",
    "\n",
    "#Four steps:\n",
    "\n",
    "#Instantiate\n",
    "lm_model = LinearRegression(normalize=True) \n",
    "\n",
    "#Fit - why does this break?\n",
    "# lm_model.fit(X_train, y_train) #----it will fail at this stage because we have missing values\n",
    "\n",
    "#Predict\n",
    "#Score"
   ]
  },
  {
   "cell_type": "markdown",
   "id": "artistic-communications",
   "metadata": {},
   "source": [
    "The model above didnt work because we have some null values. We need to handle those."
   ]
  },
  {
   "cell_type": "code",
   "execution_count": 1102,
   "id": "geographic-airplane",
   "metadata": {},
   "outputs": [
    {
     "name": "stdout",
     "output_type": "stream",
     "text": [
      "{'has_availability', 'neighbourhood_group_cleansed', 'square_feet', 'license', 'monthly_price', 'weekly_price', 'jurisdiction_names'}\n"
     ]
    }
   ],
   "source": [
    "most_missing_cols= set(lf.columns[lf.isnull().mean() > 0.70])\n",
    "print(most_missing_cols)"
   ]
  },
  {
   "cell_type": "markdown",
   "id": "sudden-regression",
   "metadata": {},
   "source": [
    "We can see that none of the columns we are interested appear to have greater than 70% missing values. So we know that might be ok just remove some of the values. First I will like to know what is the percentage of missing values in \"price\""
   ]
  },
  {
   "cell_type": "code",
   "execution_count": 43,
   "id": "prime-moore",
   "metadata": {},
   "outputs": [
    {
     "name": "stdout",
     "output_type": "stream",
     "text": [
      "{'name', 'accommodates', 'scrape_id', 'amenities', 'host_url', 'listing_url', 'smart_location', 'country', 'extra_people', 'description', 'picture_url', 'host_id', 'street', 'availability_30', 'cancellation_policy', 'last_scraped', 'host_verifications', 'neighbourhood_cleansed', 'HigherScore', 'experiences_offered', 'host_listings_count', 'calendar_last_scraped', 'availability_90', 'latitude', 'instant_bookable', 'country_code', 'id', 'require_guest_phone_verification', 'availability_60', 'longitude', 'guests_included', 'bed_type', 'is_location_exact', 'calculated_host_listings_count', 'state', 'host_has_profile_pic', 'requires_license', 'room_type', 'price', 'host_thumbnail_url', 'require_guest_profile_picture', 'host_is_superhost', 'calendar_updated', 'host_name', 'host_since', 'host_total_listings_count', 'availability_365', 'minimum_nights', 'number_of_reviews', 'host_picture_url', 'maximum_nights', 'host_identity_verified'}\n"
     ]
    }
   ],
   "source": [
    "most_missing_cols= set(lf.columns[lf.isnull().mean() == 0.0])\n",
    "print(most_missing_cols)\n",
    "# prop_aval = 1 - df.isnull()['price'].mean()# Proportion of individuals in the dataset with salary reported\n",
    "# prop_aval\n"
   ]
  },
  {
   "cell_type": "markdown",
   "id": "affected-examination",
   "metadata": {},
   "source": [
    "It looks like price has not missing values since we can see it in the list above. Then we need to look at the other columns for missing values and remove all the rows associated with nan values for num_vars."
   ]
  },
  {
   "cell_type": "code",
   "execution_count": 638,
   "id": "south-diversity",
   "metadata": {},
   "outputs": [
    {
     "data": {
      "text/html": [
       "<div>\n",
       "<style scoped>\n",
       "    .dataframe tbody tr th:only-of-type {\n",
       "        vertical-align: middle;\n",
       "    }\n",
       "\n",
       "    .dataframe tbody tr th {\n",
       "        vertical-align: top;\n",
       "    }\n",
       "\n",
       "    .dataframe thead th {\n",
       "        text-align: right;\n",
       "    }\n",
       "</style>\n",
       "<table border=\"1\" class=\"dataframe\">\n",
       "  <thead>\n",
       "    <tr style=\"text-align: right;\">\n",
       "      <th></th>\n",
       "      <th>price</th>\n",
       "      <th>weekly_price</th>\n",
       "      <th>bathrooms</th>\n",
       "      <th>bedrooms</th>\n",
       "      <th>review_scores_rating</th>\n",
       "      <th>number_of_reviews</th>\n",
       "      <th>accommodates</th>\n",
       "    </tr>\n",
       "  </thead>\n",
       "  <tbody>\n",
       "    <tr>\n",
       "      <th>1</th>\n",
       "      <td>65.0</td>\n",
       "      <td>400.0</td>\n",
       "      <td>1.0</td>\n",
       "      <td>1.0</td>\n",
       "      <td>94.0</td>\n",
       "      <td>36</td>\n",
       "      <td>2</td>\n",
       "    </tr>\n",
       "    <tr>\n",
       "      <th>2</th>\n",
       "      <td>65.0</td>\n",
       "      <td>395.0</td>\n",
       "      <td>1.0</td>\n",
       "      <td>1.0</td>\n",
       "      <td>98.0</td>\n",
       "      <td>41</td>\n",
       "      <td>2</td>\n",
       "    </tr>\n",
       "    <tr>\n",
       "      <th>11</th>\n",
       "      <td>57.0</td>\n",
       "      <td>350.0</td>\n",
       "      <td>1.0</td>\n",
       "      <td>1.0</td>\n",
       "      <td>94.0</td>\n",
       "      <td>17</td>\n",
       "      <td>1</td>\n",
       "    </tr>\n",
       "    <tr>\n",
       "      <th>14</th>\n",
       "      <td>145.0</td>\n",
       "      <td>950.0</td>\n",
       "      <td>1.5</td>\n",
       "      <td>2.0</td>\n",
       "      <td>91.0</td>\n",
       "      <td>7</td>\n",
       "      <td>2</td>\n",
       "    </tr>\n",
       "    <tr>\n",
       "      <th>15</th>\n",
       "      <td>60.0</td>\n",
       "      <td>350.0</td>\n",
       "      <td>0.0</td>\n",
       "      <td>1.0</td>\n",
       "      <td>96.0</td>\n",
       "      <td>70</td>\n",
       "      <td>1</td>\n",
       "    </tr>\n",
       "  </tbody>\n",
       "</table>\n",
       "</div>"
      ],
      "text/plain": [
       "    price  weekly_price  bathrooms  bedrooms  review_scores_rating  \\\n",
       "1    65.0         400.0        1.0       1.0                  94.0   \n",
       "2    65.0         395.0        1.0       1.0                  98.0   \n",
       "11   57.0         350.0        1.0       1.0                  94.0   \n",
       "14  145.0         950.0        1.5       2.0                  91.0   \n",
       "15   60.0         350.0        0.0       1.0                  96.0   \n",
       "\n",
       "    number_of_reviews  accommodates  \n",
       "1                  36             2  \n",
       "2                  41             2  \n",
       "11                 17             1  \n",
       "14                  7             2  \n",
       "15                 70             1  "
      ]
     },
     "execution_count": 638,
     "metadata": {},
     "output_type": "execute_result"
    }
   ],
   "source": [
    "rm_all_nulls.head()"
   ]
  },
  {
   "cell_type": "code",
   "execution_count": 1530,
   "id": "satellite-crawford",
   "metadata": {},
   "outputs": [
    {
     "data": {
      "text/html": [
       "<div>\n",
       "<style scoped>\n",
       "    .dataframe tbody tr th:only-of-type {\n",
       "        vertical-align: middle;\n",
       "    }\n",
       "\n",
       "    .dataframe tbody tr th {\n",
       "        vertical-align: top;\n",
       "    }\n",
       "\n",
       "    .dataframe thead th {\n",
       "        text-align: right;\n",
       "    }\n",
       "</style>\n",
       "<table border=\"1\" class=\"dataframe\">\n",
       "  <thead>\n",
       "    <tr style=\"text-align: right;\">\n",
       "      <th></th>\n",
       "      <th>price</th>\n",
       "      <th>bathrooms</th>\n",
       "      <th>bedrooms</th>\n",
       "      <th>minimum_nights</th>\n",
       "      <th>maximum_nights</th>\n",
       "      <th>review_scores_rating</th>\n",
       "      <th>reviews_per_month</th>\n",
       "      <th>number_of_reviews</th>\n",
       "      <th>accommodates</th>\n",
       "    </tr>\n",
       "  </thead>\n",
       "  <tbody>\n",
       "    <tr>\n",
       "      <th>0</th>\n",
       "      <td>$250.00</td>\n",
       "      <td>1.5</td>\n",
       "      <td>2.0</td>\n",
       "      <td>2</td>\n",
       "      <td>1125</td>\n",
       "      <td>NaN</td>\n",
       "      <td>NaN</td>\n",
       "      <td>0</td>\n",
       "      <td>4</td>\n",
       "    </tr>\n",
       "    <tr>\n",
       "      <th>1</th>\n",
       "      <td>$65.00</td>\n",
       "      <td>1.0</td>\n",
       "      <td>1.0</td>\n",
       "      <td>2</td>\n",
       "      <td>15</td>\n",
       "      <td>94.0</td>\n",
       "      <td>1.30</td>\n",
       "      <td>36</td>\n",
       "      <td>2</td>\n",
       "    </tr>\n",
       "    <tr>\n",
       "      <th>2</th>\n",
       "      <td>$65.00</td>\n",
       "      <td>1.0</td>\n",
       "      <td>1.0</td>\n",
       "      <td>3</td>\n",
       "      <td>45</td>\n",
       "      <td>98.0</td>\n",
       "      <td>0.47</td>\n",
       "      <td>41</td>\n",
       "      <td>2</td>\n",
       "    </tr>\n",
       "    <tr>\n",
       "      <th>3</th>\n",
       "      <td>$75.00</td>\n",
       "      <td>1.0</td>\n",
       "      <td>1.0</td>\n",
       "      <td>1</td>\n",
       "      <td>1125</td>\n",
       "      <td>100.0</td>\n",
       "      <td>1.00</td>\n",
       "      <td>1</td>\n",
       "      <td>4</td>\n",
       "    </tr>\n",
       "    <tr>\n",
       "      <th>4</th>\n",
       "      <td>$79.00</td>\n",
       "      <td>1.5</td>\n",
       "      <td>1.0</td>\n",
       "      <td>2</td>\n",
       "      <td>31</td>\n",
       "      <td>99.0</td>\n",
       "      <td>2.25</td>\n",
       "      <td>29</td>\n",
       "      <td>2</td>\n",
       "    </tr>\n",
       "  </tbody>\n",
       "</table>\n",
       "</div>"
      ],
      "text/plain": [
       "      price  bathrooms  bedrooms  minimum_nights  maximum_nights  \\\n",
       "0  $250.00         1.5       2.0               2            1125   \n",
       "1   $65.00         1.0       1.0               2              15   \n",
       "2   $65.00         1.0       1.0               3              45   \n",
       "3   $75.00         1.0       1.0               1            1125   \n",
       "4   $79.00         1.5       1.0               2              31   \n",
       "\n",
       "   review_scores_rating  reviews_per_month  number_of_reviews  accommodates  \n",
       "0                   NaN                NaN                  0             4  \n",
       "1                  94.0               1.30                 36             2  \n",
       "2                  98.0               0.47                 41             2  \n",
       "3                 100.0               1.00                  1             4  \n",
       "4                  99.0               2.25                 29             2  "
      ]
     },
     "execution_count": 1530,
     "metadata": {},
     "output_type": "execute_result"
    }
   ],
   "source": [
    "num_vars.head()"
   ]
  },
  {
   "cell_type": "code",
   "execution_count": 83,
   "id": "rational-opera",
   "metadata": {},
   "outputs": [
    {
     "name": "stderr",
     "output_type": "stream",
     "text": [
      "<ipython-input-83-ea952f572b02>:5: SettingWithCopyWarning: \n",
      "A value is trying to be set on a copy of a slice from a DataFrame.\n",
      "Try using .loc[row_indexer,col_indexer] = value instead\n",
      "\n",
      "See the caveats in the documentation: https://pandas.pydata.org/pandas-docs/stable/user_guide/indexing.html#returning-a-view-versus-a-copy\n",
      "  all_nulls_rm['price'] = all_nulls_rm['price'].apply(clean_currency).astype('float')\n",
      "<ipython-input-83-ea952f572b02>:6: SettingWithCopyWarning: \n",
      "A value is trying to be set on a copy of a slice from a DataFrame.\n",
      "Try using .loc[row_indexer,col_indexer] = value instead\n",
      "\n",
      "See the caveats in the documentation: https://pandas.pydata.org/pandas-docs/stable/user_guide/indexing.html#returning-a-view-versus-a-copy\n",
      "  all_nulls_rm['weekly_price'] = all_nulls_rm['weekly_price'].apply(clean_currency).astype('float')\n"
     ]
    }
   ],
   "source": [
    "num_vars = lf[['price', 'weekly_price', 'bathrooms', 'bedrooms', 'review_scores_rating', 'number_of_reviews', 'accommodates']]\n",
    "\n",
    "#remove nulls for all the nulls in num_vars\n",
    "all_nulls_rm = num_vars.dropna(axis = 0)\n",
    "all_nulls_rm['price'] = all_nulls_rm['price'].apply(clean_currency).astype('float')\n",
    "all_nulls_rm['weekly_price'] = all_nulls_rm['weekly_price'].apply(clean_currency).astype('float')\n"
   ]
  },
  {
   "cell_type": "code",
   "execution_count": 84,
   "id": "amazing-proportion",
   "metadata": {},
   "outputs": [
    {
     "data": {
      "text/plain": [
       "'The r-squared score for your model was 0.8699430289881404 on 245 values.'"
      ]
     },
     "execution_count": 84,
     "metadata": {},
     "output_type": "execute_result"
    }
   ],
   "source": [
    "#we try again\n",
    "#Split into explanatory and response variables\n",
    "X_2 = all_nulls_rm[['weekly_price', 'bathrooms', 'bedrooms', 'review_scores_rating', 'number_of_reviews', 'accommodates']]\n",
    "y_2 = all_nulls_rm['price']\n",
    "# lf_enc = rm_all_nulls.apply(labelencoder.fit_transform)\n",
    "\n",
    "# Split data into training and test data, and fit a linear model\n",
    "X_2_train, X_2_test, y_2_train, y_2_test = train_test_split(X_2, y_2 , test_size=.30, random_state=42)\n",
    "\n",
    "\n",
    "#Instantiate\n",
    "lm_2_model = LinearRegression(normalize=True) \n",
    "\n",
    "#Fit - why does this break?\n",
    "lm_2_model.fit(X_2_train, y_2_train) \n",
    "\n",
    "#Predict\n",
    "y_2_test_preds = lm_2_model.predict(X_2_test)# Predictions here\n",
    "\n",
    "#Score\n",
    "r2_test = r2_score(y_2_test, y_2_test_preds) # Rsquared here\n",
    "\n",
    "# Print r2 to see result\n",
    "\"The r-squared score for your model was {} on {} values.\".format(r2_score(y_2_test, y_2_test_preds), len(y_2_test))\n",
    "# print(mean_squared_error(y_2_test, y_test_preds))"
   ]
  },
  {
   "cell_type": "code",
   "execution_count": 93,
   "id": "metric-theme",
   "metadata": {},
   "outputs": [
    {
     "name": "stdout",
     "output_type": "stream",
     "text": [
      "The number of price in the original dataframe is 3585\n",
      "The number of price predicted using our model is 245\n",
      "This is bad because we only predicted 0.06834030683403068 of the prices in the dataset.\n"
     ]
    }
   ],
   "source": [
    "print(\"The number of price in the original dataframe is \" + str(np.sum(lf.price.notnull()))) \n",
    "print(\"The number of price predicted using our model is \" + str(len(y_2_test_preds)))\n",
    "print(\"This is bad because we only predicted \" + str((len(y_2_test_preds))/np.sum(lf.price.notnull())) + \" of the prices in the dataset.\")"
   ]
  },
  {
   "cell_type": "code",
   "execution_count": null,
   "id": "advisory-extra",
   "metadata": {},
   "outputs": [],
   "source": []
  },
  {
   "cell_type": "markdown",
   "id": "western-chart",
   "metadata": {},
   "source": [
    "We are predicting about 6.8 percent, we should check if we can do better than this. Instead removing values, we will try to impute the mean for the columns instead of dropping them. "
   ]
  },
  {
   "cell_type": "code",
   "execution_count": 88,
   "id": "analyzed-skill",
   "metadata": {
    "scrolled": true
   },
   "outputs": [
    {
     "data": {
      "text/html": [
       "<div>\n",
       "<style scoped>\n",
       "    .dataframe tbody tr th:only-of-type {\n",
       "        vertical-align: middle;\n",
       "    }\n",
       "\n",
       "    .dataframe tbody tr th {\n",
       "        vertical-align: top;\n",
       "    }\n",
       "\n",
       "    .dataframe thead th {\n",
       "        text-align: right;\n",
       "    }\n",
       "</style>\n",
       "<table border=\"1\" class=\"dataframe\">\n",
       "  <thead>\n",
       "    <tr style=\"text-align: right;\">\n",
       "      <th></th>\n",
       "      <th>price</th>\n",
       "      <th>weekly_price</th>\n",
       "      <th>bathrooms</th>\n",
       "      <th>bedrooms</th>\n",
       "      <th>review_scores_rating</th>\n",
       "      <th>number_of_reviews</th>\n",
       "      <th>accommodates</th>\n",
       "    </tr>\n",
       "  </thead>\n",
       "  <tbody>\n",
       "    <tr>\n",
       "      <th>0</th>\n",
       "      <td>250.0</td>\n",
       "      <td>922.392377</td>\n",
       "      <td>1.5</td>\n",
       "      <td>2.0</td>\n",
       "      <td>91.916667</td>\n",
       "      <td>0</td>\n",
       "      <td>4</td>\n",
       "    </tr>\n",
       "    <tr>\n",
       "      <th>1</th>\n",
       "      <td>65.0</td>\n",
       "      <td>400.000000</td>\n",
       "      <td>1.0</td>\n",
       "      <td>1.0</td>\n",
       "      <td>94.000000</td>\n",
       "      <td>36</td>\n",
       "      <td>2</td>\n",
       "    </tr>\n",
       "    <tr>\n",
       "      <th>2</th>\n",
       "      <td>65.0</td>\n",
       "      <td>395.000000</td>\n",
       "      <td>1.0</td>\n",
       "      <td>1.0</td>\n",
       "      <td>98.000000</td>\n",
       "      <td>41</td>\n",
       "      <td>2</td>\n",
       "    </tr>\n",
       "    <tr>\n",
       "      <th>3</th>\n",
       "      <td>75.0</td>\n",
       "      <td>922.392377</td>\n",
       "      <td>1.0</td>\n",
       "      <td>1.0</td>\n",
       "      <td>100.000000</td>\n",
       "      <td>1</td>\n",
       "      <td>4</td>\n",
       "    </tr>\n",
       "    <tr>\n",
       "      <th>4</th>\n",
       "      <td>79.0</td>\n",
       "      <td>922.392377</td>\n",
       "      <td>1.5</td>\n",
       "      <td>1.0</td>\n",
       "      <td>99.000000</td>\n",
       "      <td>29</td>\n",
       "      <td>2</td>\n",
       "    </tr>\n",
       "  </tbody>\n",
       "</table>\n",
       "</div>"
      ],
      "text/plain": [
       "   price  weekly_price  bathrooms  bedrooms  review_scores_rating  \\\n",
       "0  250.0    922.392377        1.5       2.0             91.916667   \n",
       "1   65.0    400.000000        1.0       1.0             94.000000   \n",
       "2   65.0    395.000000        1.0       1.0             98.000000   \n",
       "3   75.0    922.392377        1.0       1.0            100.000000   \n",
       "4   79.0    922.392377        1.5       1.0             99.000000   \n",
       "\n",
       "   number_of_reviews  accommodates  \n",
       "0                  0             4  \n",
       "1                 36             2  \n",
       "2                 41             2  \n",
       "3                  1             4  \n",
       "4                 29             2  "
      ]
     },
     "execution_count": 88,
     "metadata": {},
     "output_type": "execute_result"
    }
   ],
   "source": [
    "num_vars1 = lf[['price', 'weekly_price', 'bathrooms', 'bedrooms', 'review_scores_rating', 'number_of_reviews', 'accommodates']]\n",
    "\n",
    "#remove rows with missing price\n",
    "drop_price_lf = num_vars.dropna(subset=['price'], axis = 0)\n",
    "drop_price_lf['price'] = drop_price_lf['price'].apply(clean_currency).astype('float')\n",
    "drop_price_lf['weekly_price'] = drop_price_lf['weekly_price'].apply(clean_currency).astype('float')\n",
    "\n",
    "# Mean function\n",
    "fill_mean = lambda col: col.fillna(col.mean()) \n",
    "\n",
    "#Fill all missing values with the mean of the column.\n",
    "fill_lf = drop_price_lf.apply(fill_mean, axis=0) \n",
    "\n",
    "# test look\n",
    "fill_lf.head()"
   ]
  },
  {
   "cell_type": "code",
   "execution_count": 90,
   "id": "still-criminal",
   "metadata": {},
   "outputs": [
    {
     "data": {
      "text/plain": [
       "'The r-squared score for the model using only quantitative variables was 0.22564779690632109 on 1076 values.'"
      ]
     },
     "execution_count": 90,
     "metadata": {},
     "output_type": "execute_result"
    }
   ],
   "source": [
    "#Split into explanatory and response variables\n",
    "X2 = fill_lf[['weekly_price', 'bathrooms', 'bedrooms', 'review_scores_rating', 'number_of_reviews', 'accommodates']]\n",
    "y2 = fill_lf['price']\n",
    "\n",
    "#Split into train and test\n",
    "X2_train, X2_test, y2_train, y2_test = train_test_split(X2, y2, test_size = .30, random_state=42) \n",
    "\n",
    "lm2_model = LinearRegression(normalize=True) # Instantiate\n",
    "lm2_model.fit(X2_train, y2_train) #Fit\n",
    "        \n",
    "#Predict and score the model\n",
    "y2_test_preds = lm2_model.predict(X2_test) \n",
    "\"The r-squared score for the model using only quantitative variables was {} on {} values.\".format(r2_score(y2_test, y2_test_preds), len(y2_test))"
   ]
  },
  {
   "cell_type": "code",
   "execution_count": 95,
   "id": "incredible-zoning",
   "metadata": {},
   "outputs": [
    {
     "name": "stdout",
     "output_type": "stream",
     "text": [
      "The number of price in the original dataframe is 3585\n",
      "The number of price predicted using our model is 1076\n",
      "This is better because we predicted more this time with 0.300139470013947 of the prices in the dataset.\n"
     ]
    }
   ],
   "source": [
    "print(\"The number of price in the original dataframe is \" + str(np.sum(lf.price.notnull()))) \n",
    "print(\"The number of price predicted using our model is \" + str(len(y2_test_preds)))\n",
    "print(\"This is better because we predicted more this time with \" + str((len(y2_test_preds))/np.sum(lf.price.notnull())) + \" of the prices in the dataset.\")"
   ]
  },
  {
   "cell_type": "markdown",
   "id": "durable-saskatchewan",
   "metadata": {},
   "source": [
    "Still not so much better.. let's see what else we can do. We can try using dummy columns for each of the categorical values."
   ]
  },
  {
   "cell_type": "code",
   "execution_count": 96,
   "id": "found-schedule",
   "metadata": {},
   "outputs": [
    {
     "data": {
      "text/plain": [
       "62"
      ]
     },
     "execution_count": 96,
     "metadata": {},
     "output_type": "execute_result"
    }
   ],
   "source": [
    "#how many categorical columns are in the dataframe\n",
    "cat_lf = lf.select_dtypes(include=['object'])\n",
    "cat_lf.shape[1]"
   ]
  },
  {
   "cell_type": "code",
   "execution_count": 99,
   "id": "disciplinary-illinois",
   "metadata": {},
   "outputs": [],
   "source": [
    "#Pull a list of the column names of the categorical variables\n",
    "def create_dummy_df(lf, cat_cols, dummy_na):\n",
    "    for col in  cat_cols:\n",
    "        try:\n",
    "            lf = pd.concat([lf.drop(col, axis=1), pd.get_dummies(lf[col], prefix=col, prefix_sep='_', drop_first=True, dummy_na=dummy_na)], axis=1)\n",
    "        except:\n",
    "            continue\n",
    "    return lf\n"
   ]
  },
  {
   "cell_type": "code",
   "execution_count": 116,
   "id": "turned-cedar",
   "metadata": {},
   "outputs": [
    {
     "data": {
      "text/plain": [
       "(3585, 96)"
      ]
     },
     "execution_count": 116,
     "metadata": {},
     "output_type": "execute_result"
    }
   ],
   "source": [
    "lf.shape"
   ]
  },
  {
   "cell_type": "code",
   "execution_count": 108,
   "id": "embedded-format",
   "metadata": {},
   "outputs": [],
   "source": [
    "lfc = lf\n",
    "#Dropping where the salary has missing values\n",
    "lfc  = lfc.dropna(subset=['price'], axis=0)\n",
    "lfc['price'] = lfc['price'].apply(clean_currency).astype('float')\n",
    "lfc['weekly_price'] = lfc['weekly_price'].apply(clean_currency).astype('float')\n",
    "\n",
    "#Pull a list of the column names of the categorical variables\n",
    "cat_lfc = lfc.select_dtypes(include=['object'])\n",
    "cat_cols_lst = cat_lfc.columns\n",
    "\n",
    "lfc_new = create_dummy_df(lfc, cat_cols_lst, dummy_na=False) #Use your newly created function"
   ]
  },
  {
   "cell_type": "code",
   "execution_count": 117,
   "id": "raised-review",
   "metadata": {},
   "outputs": [
    {
     "data": {
      "text/plain": [
       "(3585, 55715)"
      ]
     },
     "execution_count": 117,
     "metadata": {},
     "output_type": "execute_result"
    }
   ],
   "source": [
    "lfc_new.shape"
   ]
  },
  {
   "cell_type": "code",
   "execution_count": 240,
   "id": "hearing-ivory",
   "metadata": {},
   "outputs": [],
   "source": [
    "def clean_fit_linear_mod(df, response_col, cat_cols, dummy_na, test_size=.3, rand_state=42):\n",
    "    \n",
    "    #Drop the rows with missing response values\n",
    "    df  = df.dropna(subset=[response_col], axis=0)\n",
    "\n",
    "    #Drop columns with all NaN values\n",
    "    df = df.dropna(how='all', axis=1)\n",
    "\n",
    "    #Dummy categorical variables\n",
    "    df = create_dummy_df(df, cat_cols, dummy_na)\n",
    "\n",
    "    # Mean function\n",
    "    fill_mean = lambda col: col.fillna(col.mean())\n",
    "    # Fill the mean\n",
    "    df = df.apply(fill_mean, axis=0)\n",
    "\n",
    "    #Split into explanatory and response variables\n",
    "    X3 = df.drop(response_col, axis=1)\n",
    "    y3 = df[response_col]\n",
    "\n",
    "    #Split into train and test\n",
    "    X3_train, X3_test, y3_train, y3_test = train_test_split(X3, y3, test_size=test_size, random_state=rand_state)\n",
    "\n",
    "    lm3_model = LinearRegression(normalize=True) # Instantiate\n",
    "    lm3_model.fit(X3_train, y3_train) #Fit\n",
    "\n",
    "    #Predict using your model\n",
    "    y3_test_preds = lm3_model.predict(X3_test)\n",
    "    y3_train_preds = lm3_model.predict(X3_train)\n",
    "\n",
    "    #Score using your model\n",
    "    test3_score = r2_score(y3_test, y3_test_preds)\n",
    "    train3_score = r2_score(y3_train, y3_train_preds)\n",
    "\n",
    "    return test3_score, train3_score, lm3_model, X3_train, X3_test, y3_train, y3_test\n",
    "\n",
    "\n",
    "#Test your function with the above dataset\n",
    "test3_score, train3_score, lm3_model, X3_train, X3_test, y3_train, y3_test = clean_fit_linear_mod(lfc_new, 'price', cat_cols_lst, dummy_na=False)"
   ]
  },
  {
   "cell_type": "code",
   "execution_count": null,
   "id": "everyday-athens",
   "metadata": {},
   "outputs": [],
   "source": []
  },
  {
   "cell_type": "code",
   "execution_count": 118,
   "id": "brief-graphics",
   "metadata": {},
   "outputs": [
    {
     "name": "stdout",
     "output_type": "stream",
     "text": [
      "The rsquared on the training data was 0.9999999999395602.  The rsquared on the test data was -147.13003430299582.\n"
     ]
    }
   ],
   "source": [
    "#Print training and testing score\n",
    "print(\"The rsquared on the training data was {}.  The rsquared on the test data was {}.\".format(train3_score, test3_score))\n"
   ]
  },
  {
   "cell_type": "markdown",
   "id": "competent-thesis",
   "metadata": {},
   "source": [
    "By looking at the train_score, it lookes like we were well because it is 1. The test_score though suggests that our model is not extending well, and this happened because we were using all the variables. As result we have overfitting: where our data fits the training data well, but does not perform well on test data.\n",
    "\n",
    "This was great for looking good in terms of your Rsquared on these points. However, this was not great in terms of how well you were able to predict on the test data.\n",
    "\n",
    "We will keep on trying to see how well we can get our model to extend to new data.              "
   ]
  },
  {
   "cell_type": "code",
   "execution_count": null,
   "id": "authentic-identity",
   "metadata": {
    "scrolled": true
   },
   "outputs": [],
   "source": []
  },
  {
   "cell_type": "code",
   "execution_count": null,
   "id": "educational-reward",
   "metadata": {
    "scrolled": true
   },
   "outputs": [],
   "source": []
  },
  {
   "cell_type": "code",
   "execution_count": 358,
   "id": "generic-bookmark",
   "metadata": {},
   "outputs": [
    {
     "name": "stdout",
     "output_type": "stream",
     "text": [
      "{'has_availability', 'license', 'jurisdiction_names', 'neighbourhood_group_cleansed'}\n"
     ]
    }
   ],
   "source": [
    "most_missing_cols= set(lf.columns[lf.isnull().mean() > 0.99])\n",
    "print(most_missing_cols)"
   ]
  },
  {
   "cell_type": "code",
   "execution_count": 456,
   "id": "substantial-motivation",
   "metadata": {},
   "outputs": [],
   "source": [
    "lfcd = lf.copy()"
   ]
  },
  {
   "cell_type": "code",
   "execution_count": 345,
   "id": "needed-background",
   "metadata": {},
   "outputs": [
    {
     "data": {
      "text/plain": [
       "False"
      ]
     },
     "execution_count": 345,
     "metadata": {},
     "output_type": "execute_result"
    }
   ],
   "source": [
    "lf is lfcd"
   ]
  },
  {
   "cell_type": "code",
   "execution_count": 369,
   "id": "faced-frame",
   "metadata": {},
   "outputs": [
    {
     "name": "stdout",
     "output_type": "stream",
     "text": [
      "set()\n",
      "{'square_feet'}\n",
      "{'monthly_price', 'square_feet', 'weekly_price'}\n"
     ]
    }
   ],
   "source": [
    "most_missing_cols2= set(lfcd.columns[lfcd.isnull().mean() > 0.99])\n",
    "print(most_missing_cols2)\n",
    "most_missing_cols3= set(lfcd.columns[lfcd.isnull().mean() > 0.80])\n",
    "print(most_missing_cols3)\n",
    "most_missing_cols3= set(lfcd.columns[lfcd.isnull().mean() > 0.75])\n",
    "print(most_missing_cols3)"
   ]
  },
  {
   "cell_type": "code",
   "execution_count": 324,
   "id": "closed-chuck",
   "metadata": {},
   "outputs": [],
   "source": []
  },
  {
   "cell_type": "code",
   "execution_count": 325,
   "id": "furnished-hungary",
   "metadata": {},
   "outputs": [],
   "source": []
  },
  {
   "cell_type": "code",
   "execution_count": 371,
   "id": "sixth-content",
   "metadata": {},
   "outputs": [],
   "source": [
    "lfcd = lfcd.drop(['square_feet'] , axis=1)"
   ]
  },
  {
   "cell_type": "code",
   "execution_count": 443,
   "id": "painful-soldier",
   "metadata": {},
   "outputs": [],
   "source": [
    "lfcd = lfcd.drop(['medium_url', 'thumbnail_url', 'host_thumbnail_url', 'host_picture_url' ] , axis=1)"
   ]
  },
  {
   "cell_type": "markdown",
   "id": "passing-singles",
   "metadata": {},
   "source": [
    "Let's create the X (explanatory matrix) and y (response vector) to be used in the model."
   ]
  },
  {
   "cell_type": "code",
   "execution_count": 493,
   "id": "registered-football",
   "metadata": {},
   "outputs": [],
   "source": [
    "#convert prices to float for manipulation\n",
    "lfcd['price'] = lfcd['price'].apply(clean_currency).astype('float')\n",
    "lfcd['weekly_price'] = lfcd['weekly_price'].apply(clean_currency).astype('float')\n",
    "def clean_data(df):\n",
    "\n",
    "    # Drop rows with missing price values\n",
    "    df = df.dropna(subset=['price'], axis=0)\n",
    "    y = df['price']\n",
    "    \n",
    "    #Drop respondent and expected salary columns    \n",
    "    df = df.drop(['host_about','interaction','access','interaction','host_about','notes','cancellation_policy','host_location','host_since', 'host_verifications', 'cleaning_fee','security_deposit','extra_people', 'host_acceptance_rate','require_guest_phone_verification','host_name', 'calendar_updated','host_response_time', 'host_response_rate', 'host_neighbourhood','host_url','host_thumbnail_url', 'host_picture_url', 'neighbourhood_cleansed','weekly_price', 'monthly_price', 'scrape_id', 'smart_location', 'host_listings_count', 'host_total_listings_count','latitude','bed_type','host_has_profile_pic','host_identity_verified','review_scores_location','review_scores_value','review_scores_cleanliness','reviews_per_month','review_scores_communication','is_location_exact','review_scores_accuracy','price'], axis=1)\n",
    "  \n",
    "    num_vars = df.select_dtypes(include=['float', 'int']).columns\n",
    "    for col in num_vars:\n",
    "        df[col].fillna((df[col].mean()), inplace=True)\n",
    "        \n",
    "    # Dummy the categorical variables\n",
    "    cat_vars = df.select_dtypes(include=['object']).copy().columns\n",
    "    for var in  cat_vars:\n",
    "        # for each cat add dummy var, drop original column\n",
    "        df = pd.concat([df.drop(var, axis=1), pd.get_dummies(df[var], prefix=var, prefix_sep='_', drop_first=True)], axis=1)\n",
    "    \n",
    "    X = df\n",
    "    return X, y\n",
    "    \n",
    "#Use the function to create X and y\n",
    "X4, y4 = clean_data(lfcd) "
   ]
  },
  {
   "cell_type": "code",
   "execution_count": 465,
   "id": "homeless-basin",
   "metadata": {},
   "outputs": [],
   "source": [
    "# print(X4)"
   ]
  },
  {
   "cell_type": "code",
   "execution_count": null,
   "id": "individual-capacity",
   "metadata": {},
   "outputs": [],
   "source": []
  },
  {
   "cell_type": "code",
   "execution_count": 494,
   "id": "stupid-pharmaceutical",
   "metadata": {},
   "outputs": [],
   "source": [
    "def find_optimal_lm_mod(X, y, cutoffs, test_size = .30, random_state=42, plot=True):\n",
    "    r2_scores_test, r2_scores_train, num_feats, results = [], [], [], dict()\n",
    "    for cutoff in cutoffs:\n",
    "        print(lf.shape)\n",
    "        #reduce X matrix\n",
    "        reduce_X = X.iloc[:, np.where((X.sum() > cutoff) == True)[0]]\n",
    "        num_feats.append(reduce_X.shape[1])\n",
    "\n",
    "        #split the data into train and test\n",
    "        X_train, X_test, y_train, y_test = train_test_split(reduce_X, y, test_size = test_size, random_state=random_state)\n",
    "\n",
    "        #fit the model and obtain pred response\n",
    "        lm_model = LinearRegression(normalize=True)\n",
    "        lm_model.fit(X_train, y_train)\n",
    "        y_test_preds = lm_model.predict(X_test)\n",
    "        y_train_preds = lm_model.predict(X_train)\n",
    "        print(y_train_preds)\n",
    "\n",
    "        #append the r2 value from the test set\n",
    "        \n",
    "        r2_scores_test.append(r2_score(y_test, y_test_preds))\n",
    "        r2_scores_train.append(r2_score(y_train, y_train_preds))\n",
    "        results[str(cutoff)] = r2_score(y_test, y_test_preds)\n",
    "\n",
    "    if plot:\n",
    "        plt.plot(num_feats, r2_scores_test, label=\"Test\", alpha=.5)\n",
    "        plt.plot(num_feats, r2_scores_train, label=\"Train\", alpha=.5)\n",
    "        plt.xlabel('Number of Features')\n",
    "        plt.ylabel('Rsquared')\n",
    "        plt.title('Rsquared by Number of Features')\n",
    "        plt.legend(loc=1)\n",
    "        plt.show()\n",
    "\n",
    "    best_cutoff = max(results, key=results.get)\n",
    "\n",
    "    #reduce X matrix\n",
    "    reduce_X = X.iloc[:, np.where((X.sum() > int(best_cutoff)) == True)[0]]\n",
    "    num_feats.append(reduce_X.shape[1])\n",
    "\n",
    "    #split the data into train and test\n",
    "    X_train, X_test, y_train, y_test = train_test_split(reduce_X, y, test_size = test_size, random_state=random_state)\n",
    "\n",
    "    #fit the model\n",
    "    lm_model = LinearRegression(normalize=True)\n",
    "    lm_model.fit(X_train, y_train)\n",
    "    \n",
    "    return r2_scores_test, r2_scores_train, lm_model, X_train, X_test, y_train, y_test\n",
    "# print(\"The rsquared on the training data was {}.  The rsquared on the test data was {}.\".format(r2_scores_train5, r2_scores_test5))"
   ]
  },
  {
   "cell_type": "markdown",
   "id": "placed-citizenship",
   "metadata": {},
   "source": [
    "### VISUALIZE THE DATA"
   ]
  },
  {
   "cell_type": "code",
   "execution_count": 505,
   "id": "southwest-cricket",
   "metadata": {
    "scrolled": true
   },
   "outputs": [
    {
     "name": "stdout",
     "output_type": "stream",
     "text": [
      "(3585, 95)\n",
      "[279.93163751 190.27109788 134.98681882 ... 107.64541046 105.97676117\n",
      " 131.19978372]\n",
      "(3585, 95)\n",
      "[249.59595697 181.27383405 158.42569615 ... 110.33484113 105.17974512\n",
      " 131.30293578]\n",
      "(3585, 95)\n",
      "[251.23359566 183.46666914 161.6206854  ... 112.48660729 108.11226998\n",
      " 134.13024173]\n",
      "(3585, 95)\n",
      "[240.16288383 190.0539114  129.8686673  ...  77.18459439  73.56154217\n",
      "  96.4009904 ]\n",
      "(3585, 95)\n",
      "[200.06807374 222.21210316 119.42366118 ...  75.27978     49.98196355\n",
      " 110.54344417]\n",
      "(3585, 95)\n",
      "[200.18445197 219.73523981 118.37769407 ...  69.4741703   44.81239965\n",
      " 112.58438259]\n",
      "(3585, 95)\n",
      "[210.05326716 226.42155298 123.94990988 ...  41.9973429   42.38622137\n",
      " 114.39688991]\n",
      "(3585, 95)\n",
      "[203.14888711 231.43059192 120.59235555 ...  46.34757066  43.61109268\n",
      " 117.34072519]\n",
      "(3585, 95)\n",
      "[208.42436776 208.9399114  118.50676371 ...  45.08446253  52.7821954\n",
      " 116.70266741]\n",
      "(3585, 95)\n",
      "[145.15436773 295.13248179 133.33753871 ...  33.32465135  56.21623232\n",
      " 109.14343804]\n",
      "(3585, 95)\n",
      "[118.80832946 276.83164044 159.66488907 ...  38.73586897  93.57781535\n",
      "  38.7940338 ]\n"
     ]
    },
    {
     "data": {
      "image/png": "[encoded data removed]",
      "text/plain": [
       "<Figure size 432x288 with 1 Axes>"
      ]
     },
     "metadata": {
      "needs_background": "light"
     },
     "output_type": "display_data"
    },
    {
     "name": "stdout",
     "output_type": "stream",
     "text": [
      "The rsquared on the training data was [0.25160508452864805, 0.26356478754107016, 0.26943232071297385, 0.32323853452033924, 0.38559674141777833, 0.42463334679769915, 0.43262714270165203, 0.4472832542713878, 0.47552999506676796, 0.5224145269467422, 0.6401223050600509].  The rsquared on the test data was [-233.24646093341548, -620.0030965416767, -403.3193253571465, -301.076863988551, -27.915516589053727, -1369.7329167971473, -2549.2503692603145, -2160.45741365502, -2.8841218466124297e+23, -5.939972508685063e+25, -2.698823553972141e+27].\n"
     ]
    }
   ],
   "source": [
    "#cutoffs here pertains to the number of missing values allowed in the used columns.\n",
    "#Therefore, lower values for the cutoff provides more predictors in the model.\n",
    "cutoffs = [5000, 3500, 2500, 1000, 100, 50, 30, 20, 10, 5, 2]\n",
    "\n",
    "r2_scores_test5, r2_scores_train5, lm5_model, X5_train, X5_test, y5_train, y5_test = find_optimal_lm_mod(X4, y4, cutoffs)\n",
    "#Print training and testing score\n",
    "print(\"The rsquared on the training data was {}.  The rsquared on the test data was {}.\".format(r2_scores_train5, r2_scores_test5))\n"
   ]
  },
  {
   "cell_type": "code",
   "execution_count": null,
   "id": "stainless-ballet",
   "metadata": {},
   "outputs": [],
   "source": []
  },
  {
   "cell_type": "code",
   "execution_count": null,
   "id": "aging-coordinate",
   "metadata": {},
   "outputs": [],
   "source": []
  },
  {
   "cell_type": "code",
   "execution_count": 506,
   "id": "advised-secondary",
   "metadata": {},
   "outputs": [
    {
     "name": "stdout",
     "output_type": "stream",
     "text": [
      "[0.25160508452864805, 0.26356478754107016, 0.26943232071297385, 0.32323853452033924, 0.38559674141777833, 0.42463334679769915, 0.43262714270165203, 0.4472832542713878, 0.47552999506676796, 0.5224145269467422, 0.6401223050600509]\n",
      "\n",
      "[-233.24646093341548, -620.0030965416767, -403.3193253571465, -301.076863988551, -27.915516589053727, -1369.7329167971473, -2549.2503692603145, -2160.45741365502, -2.8841218466124297e+23, -5.939972508685063e+25, -2.698823553972141e+27]\n"
     ]
    }
   ],
   "source": [
    "print(r2_scores_train5)\n",
    "print('')\n",
    "print(r2_scores_test5)"
   ]
  },
  {
   "cell_type": "code",
   "execution_count": 507,
   "id": "broadband-adoption",
   "metadata": {},
   "outputs": [
    {
     "data": {
      "text/html": [
       "<div>\n",
       "<style scoped>\n",
       "    .dataframe tbody tr th:only-of-type {\n",
       "        vertical-align: middle;\n",
       "    }\n",
       "\n",
       "    .dataframe tbody tr th {\n",
       "        vertical-align: top;\n",
       "    }\n",
       "\n",
       "    .dataframe thead th {\n",
       "        text-align: right;\n",
       "    }\n",
       "</style>\n",
       "<table border=\"1\" class=\"dataframe\">\n",
       "  <thead>\n",
       "    <tr style=\"text-align: right;\">\n",
       "      <th></th>\n",
       "      <th>est_int</th>\n",
       "      <th>coefs</th>\n",
       "      <th>abs_coefs</th>\n",
       "    </tr>\n",
       "  </thead>\n",
       "  <tbody>\n",
       "    <tr>\n",
       "      <th>29</th>\n",
       "      <td>neighbourhood_South Boston</td>\n",
       "      <td>90.374010</td>\n",
       "      <td>90.374010</td>\n",
       "    </tr>\n",
       "    <tr>\n",
       "      <th>39</th>\n",
       "      <td>zipcode_2127</td>\n",
       "      <td>-83.120732</td>\n",
       "      <td>83.120732</td>\n",
       "    </tr>\n",
       "    <tr>\n",
       "      <th>24</th>\n",
       "      <td>neighbourhood_Fenway/Kenmore</td>\n",
       "      <td>59.998713</td>\n",
       "      <td>59.998713</td>\n",
       "    </tr>\n",
       "    <tr>\n",
       "      <th>47</th>\n",
       "      <td>room_type_Private room</td>\n",
       "      <td>-51.834802</td>\n",
       "      <td>51.834802</td>\n",
       "    </tr>\n",
       "    <tr>\n",
       "      <th>20</th>\n",
       "      <td>neighbourhood_Back Bay</td>\n",
       "      <td>46.860365</td>\n",
       "      <td>46.860365</td>\n",
       "    </tr>\n",
       "    <tr>\n",
       "      <th>22</th>\n",
       "      <td>neighbourhood_Dorchester</td>\n",
       "      <td>-46.852870</td>\n",
       "      <td>46.852870</td>\n",
       "    </tr>\n",
       "    <tr>\n",
       "      <th>21</th>\n",
       "      <td>neighbourhood_Beacon Hill</td>\n",
       "      <td>40.756610</td>\n",
       "      <td>40.756610</td>\n",
       "    </tr>\n",
       "    <tr>\n",
       "      <th>43</th>\n",
       "      <td>zipcode_2135</td>\n",
       "      <td>-38.429931</td>\n",
       "      <td>38.429931</td>\n",
       "    </tr>\n",
       "    <tr>\n",
       "      <th>4</th>\n",
       "      <td>bedrooms</td>\n",
       "      <td>36.106167</td>\n",
       "      <td>36.106167</td>\n",
       "    </tr>\n",
       "    <tr>\n",
       "      <th>42</th>\n",
       "      <td>zipcode_2134</td>\n",
       "      <td>-34.146016</td>\n",
       "      <td>34.146016</td>\n",
       "    </tr>\n",
       "    <tr>\n",
       "      <th>36</th>\n",
       "      <td>zipcode_2118</td>\n",
       "      <td>33.421134</td>\n",
       "      <td>33.421134</td>\n",
       "    </tr>\n",
       "    <tr>\n",
       "      <th>40</th>\n",
       "      <td>zipcode_2128</td>\n",
       "      <td>-33.387080</td>\n",
       "      <td>33.387080</td>\n",
       "    </tr>\n",
       "    <tr>\n",
       "      <th>3</th>\n",
       "      <td>bathrooms</td>\n",
       "      <td>31.822556</td>\n",
       "      <td>31.822556</td>\n",
       "    </tr>\n",
       "    <tr>\n",
       "      <th>35</th>\n",
       "      <td>zipcode_2116</td>\n",
       "      <td>27.094802</td>\n",
       "      <td>27.094802</td>\n",
       "    </tr>\n",
       "    <tr>\n",
       "      <th>26</th>\n",
       "      <td>neighbourhood_Mission Hill</td>\n",
       "      <td>-26.466862</td>\n",
       "      <td>26.466862</td>\n",
       "    </tr>\n",
       "    <tr>\n",
       "      <th>44</th>\n",
       "      <td>zipcode_2215</td>\n",
       "      <td>-24.023437</td>\n",
       "      <td>24.023437</td>\n",
       "    </tr>\n",
       "    <tr>\n",
       "      <th>48</th>\n",
       "      <td>last_review_9/1/16</td>\n",
       "      <td>-18.518857</td>\n",
       "      <td>18.518857</td>\n",
       "    </tr>\n",
       "    <tr>\n",
       "      <th>28</th>\n",
       "      <td>neighbourhood_Roxbury</td>\n",
       "      <td>-17.502958</td>\n",
       "      <td>17.502958</td>\n",
       "    </tr>\n",
       "    <tr>\n",
       "      <th>41</th>\n",
       "      <td>zipcode_2130</td>\n",
       "      <td>-17.009501</td>\n",
       "      <td>17.009501</td>\n",
       "    </tr>\n",
       "    <tr>\n",
       "      <th>25</th>\n",
       "      <td>neighbourhood_Jamaica Plain</td>\n",
       "      <td>-16.589160</td>\n",
       "      <td>16.589160</td>\n",
       "    </tr>\n",
       "  </tbody>\n",
       "</table>\n",
       "</div>"
      ],
      "text/plain": [
       "                         est_int      coefs  abs_coefs\n",
       "29    neighbourhood_South Boston  90.374010  90.374010\n",
       "39                  zipcode_2127 -83.120732  83.120732\n",
       "24  neighbourhood_Fenway/Kenmore  59.998713  59.998713\n",
       "47        room_type_Private room -51.834802  51.834802\n",
       "20        neighbourhood_Back Bay  46.860365  46.860365\n",
       "22      neighbourhood_Dorchester -46.852870  46.852870\n",
       "21     neighbourhood_Beacon Hill  40.756610  40.756610\n",
       "43                  zipcode_2135 -38.429931  38.429931\n",
       "4                       bedrooms  36.106167  36.106167\n",
       "42                  zipcode_2134 -34.146016  34.146016\n",
       "36                  zipcode_2118  33.421134  33.421134\n",
       "40                  zipcode_2128 -33.387080  33.387080\n",
       "3                      bathrooms  31.822556  31.822556\n",
       "35                  zipcode_2116  27.094802  27.094802\n",
       "26    neighbourhood_Mission Hill -26.466862  26.466862\n",
       "44                  zipcode_2215 -24.023437  24.023437\n",
       "48            last_review_9/1/16 -18.518857  18.518857\n",
       "28         neighbourhood_Roxbury -17.502958  17.502958\n",
       "41                  zipcode_2130 -17.009501  17.009501\n",
       "25   neighbourhood_Jamaica Plain -16.589160  16.589160"
      ]
     },
     "execution_count": 507,
     "metadata": {},
     "output_type": "execute_result"
    }
   ],
   "source": [
    "def coef_weights(coefficients, X_train):\n",
    "    coefs_df = pd.DataFrame()\n",
    "    coefs_df['est_int'] = X5_train.columns\n",
    "    coefs_df['coefs'] = lm5_model.coef_\n",
    "    coefs_df['abs_coefs'] = np.abs(lm5_model.coef_)\n",
    "    coefs_df = coefs_df.sort_values('abs_coefs', ascending=False)\n",
    "    return coefs_df\n",
    "\n",
    "#Use the function\n",
    "coef_df = coef_weights(lm5_model.coef_, X5_train)\n",
    "\n",
    "#A quick look at the top results\n",
    "coef_df.head(20)"
   ]
  },
  {
   "cell_type": "code",
   "execution_count": 256,
   "id": "ongoing-compromise",
   "metadata": {},
   "outputs": [
    {
     "name": "stdout",
     "output_type": "stream",
     "text": [
      "34\n",
      "-0.34836188508197896\n",
      "0.3232677710023695\n"
     ]
    }
   ],
   "source": [
    "print(X5_train.shape[1]) #Number of columns\n",
    "print(r2_scores_test5[np.argmax(r2_scores_test5)]) # The model we should implement test_r2\n",
    "print(r2_scores_train5[np.argmax(r2_scores_test5)]) # The model we should implement train_r2"
   ]
  },
  {
   "cell_type": "code",
   "execution_count": null,
   "id": "toxic-assessment",
   "metadata": {},
   "outputs": [],
   "source": [
    "#last good2 --valid-----"
   ]
  },
  {
   "cell_type": "code",
   "execution_count": null,
   "id": "strategic-miracle",
   "metadata": {},
   "outputs": [],
   "source": []
  },
  {
   "cell_type": "code",
   "execution_count": null,
   "id": "structural-optics",
   "metadata": {},
   "outputs": [],
   "source": []
  },
  {
   "cell_type": "code",
   "execution_count": 265,
   "id": "solar-newport",
   "metadata": {},
   "outputs": [
    {
     "data": {
      "text/html": [
       "<div>\n",
       "<style scoped>\n",
       "    .dataframe tbody tr th:only-of-type {\n",
       "        vertical-align: middle;\n",
       "    }\n",
       "\n",
       "    .dataframe tbody tr th {\n",
       "        vertical-align: top;\n",
       "    }\n",
       "\n",
       "    .dataframe thead th {\n",
       "        text-align: right;\n",
       "    }\n",
       "</style>\n",
       "<table border=\"1\" class=\"dataframe\">\n",
       "  <thead>\n",
       "    <tr style=\"text-align: right;\">\n",
       "      <th></th>\n",
       "      <th>actual</th>\n",
       "      <th>preds</th>\n",
       "      <th>diff</th>\n",
       "    </tr>\n",
       "  </thead>\n",
       "  <tbody>\n",
       "    <tr>\n",
       "      <th>0</th>\n",
       "      <td>160.0</td>\n",
       "      <td>146.686795</td>\n",
       "      <td>13.313205</td>\n",
       "    </tr>\n",
       "    <tr>\n",
       "      <th>1</th>\n",
       "      <td>135.0</td>\n",
       "      <td>141.010028</td>\n",
       "      <td>-6.010028</td>\n",
       "    </tr>\n",
       "    <tr>\n",
       "      <th>2</th>\n",
       "      <td>525.0</td>\n",
       "      <td>332.459673</td>\n",
       "      <td>192.540327</td>\n",
       "    </tr>\n",
       "    <tr>\n",
       "      <th>3</th>\n",
       "      <td>114.0</td>\n",
       "      <td>135.647417</td>\n",
       "      <td>-21.647417</td>\n",
       "    </tr>\n",
       "    <tr>\n",
       "      <th>4</th>\n",
       "      <td>55.0</td>\n",
       "      <td>146.865086</td>\n",
       "      <td>-91.865086</td>\n",
       "    </tr>\n",
       "  </tbody>\n",
       "</table>\n",
       "</div>"
      ],
      "text/plain": [
       "   actual       preds        diff\n",
       "0   160.0  146.686795   13.313205\n",
       "1   135.0  141.010028   -6.010028\n",
       "2   525.0  332.459673  192.540327\n",
       "3   114.0  135.647417  -21.647417\n",
       "4    55.0  146.865086  -91.865086"
      ]
     },
     "execution_count": 265,
     "metadata": {},
     "output_type": "execute_result"
    }
   ],
   "source": [
    "### Now we can predict on everything, but our predictions are even worse!\n",
    "\n",
    "preds_vs_act = pd.DataFrame(np.hstack([y6_test.values.reshape(y6_test.size,1), y6_test_preds.reshape(y6_test.size,1)]))\n",
    "preds_vs_act.columns = ['actual', 'preds']\n",
    "preds_vs_act['diff'] = preds_vs_act['actual'] - preds_vs_act['preds']\n",
    "preds_vs_act.head()"
   ]
  },
  {
   "cell_type": "code",
   "execution_count": null,
   "id": "indonesian-contract",
   "metadata": {},
   "outputs": [],
   "source": []
  },
  {
   "cell_type": "code",
   "execution_count": 267,
   "id": "dressed-scanning",
   "metadata": {},
   "outputs": [
    {
     "data": {
      "image/png": "[encoded data removed]",
      "text/plain": [
       "<Figure size 432x288 with 1 Axes>"
      ]
     },
     "metadata": {
      "needs_background": "light"
     },
     "output_type": "display_data"
    }
   ],
   "source": [
    "plt.plot(preds_vs_act['preds'], preds_vs_act['diff'], 'bo');\n",
    "plt.xlabel('predicted');\n",
    "plt.ylabel('difference');"
   ]
  },
  {
   "cell_type": "code",
   "execution_count": null,
   "id": "discrete-generator",
   "metadata": {},
   "outputs": [],
   "source": []
  },
  {
   "cell_type": "code",
   "execution_count": null,
   "id": "eastern-shareware",
   "metadata": {},
   "outputs": [],
   "source": []
  },
  {
   "cell_type": "code",
   "execution_count": 144,
   "id": "domestic-bearing",
   "metadata": {},
   "outputs": [],
   "source": [
    "# fill_df['price'].apply(type).value_counts()"
   ]
  },
  {
   "cell_type": "code",
   "execution_count": 145,
   "id": "metric-punch",
   "metadata": {},
   "outputs": [],
   "source": [
    "# print(mean_squared_error(y_3_test, y_3_test_preds)) #metrics to assess fit include Rsquared and MSE."
   ]
  },
  {
   "cell_type": "code",
   "execution_count": null,
   "id": "bibliographic-apparel",
   "metadata": {},
   "outputs": [],
   "source": []
  }
 ],
 "metadata": {
  "kernelspec": {
   "display_name": "Python 3",
   "language": "python",
   "name": "python3"
  },
  "language_info": {
   "codemirror_mode": {
    "name": "ipython",
    "version": 3
   },
   "file_extension": ".py",
   "mimetype": "text/x-python",
   "name": "python",
   "nbconvert_exporter": "python",
   "pygments_lexer": "ipython3",
   "version": "3.9.1"
  }
 },
 "nbformat": 4,
 "nbformat_minor": 5
}
