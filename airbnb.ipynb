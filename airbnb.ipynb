{
 "cells": [
  {
   "cell_type": "markdown",
   "id": "brilliant-circular",
   "metadata": {},
   "source": [
    "Key Steps for Project\n",
    "Feel free to be creative with your solutions, but do follow the CRISP-DM process in finding your solutions.\n",
    "\n",
    "1) Pick a dataset.\n",
    "\n",
    "2) Pose at least three questions related to business or real-world applications of how the data could be used.\n",
    "\n",
    "3) Create a Jupyter Notebook, using any associated packages you'd like, to:\n",
    "\n",
    "Prepare data:\n",
    "\n",
    "Gather necessary data to answer your questions\n",
    "Handle categorical and missing data\n",
    "Provide insight into the methods you chose and why you chose them\n",
    "Analyze, Model, and Visualize\n",
    "\n",
    "Provide a clear connection between your business questions and how the data answers them.\n",
    "4) Communicate your business insights:\n",
    "\n",
    "Create a Github repository to share your code and data wrangling/modeling techniques, with a technical audience in mind\n",
    "Create a blog post to share your questions and insights with a non-technical audience\n",
    "Your deliverables will be a Github repo and a blog post. Use the rubric here to assist in successfully completing this project!"
   ]
  },
  {
   "cell_type": "code",
   "execution_count": null,
   "id": "surprising-hughes",
   "metadata": {},
   "outputs": [],
   "source": [
    "test test\n"
   ]
  }
 ],
 "metadata": {
  "kernelspec": {
   "display_name": "Python 3",
   "language": "python",
   "name": "python3"
  },
  "language_info": {
   "codemirror_mode": {
    "name": "ipython",
    "version": 3
   },
   "file_extension": ".py",
   "mimetype": "text/x-python",
   "name": "python",
   "nbconvert_exporter": "python",
   "pygments_lexer": "ipython3",
   "version": "3.9.1"
  }
 },
 "nbformat": 4,
 "nbformat_minor": 5
}
